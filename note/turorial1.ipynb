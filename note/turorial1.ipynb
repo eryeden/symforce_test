{
 "cells": [
  {
   "cell_type": "code",
   "execution_count": 1,
   "outputs": [],
   "source": [
    "from symforce import sympy as sm\n",
    "from symforce import geo"
   ],
   "metadata": {
    "collapsed": false,
    "pycharm": {
     "name": "#%%\n"
    }
   }
  },
  {
   "cell_type": "code",
   "execution_count": 2,
   "outputs": [],
   "source": [
    "pose = geo.Pose2(\n",
    "    t=geo.V2.symbolic(\"t\"),\n",
    "    R=geo.Rot2.symbolic(\"R\")\n",
    ")\n",
    "landmark = geo.V2.symbolic(\"L\")"
   ],
   "metadata": {
    "collapsed": false,
    "pycharm": {
     "name": "#%%\n"
    }
   }
  },
  {
   "cell_type": "code",
   "execution_count": 3,
   "outputs": [],
   "source": [
    "landmark_body = pose.inverse() * landmark"
   ],
   "metadata": {
    "collapsed": false,
    "pycharm": {
     "name": "#%%\n"
    }
   }
  },
  {
   "cell_type": "code",
   "execution_count": 4,
   "outputs": [
    {
     "data": {
      "text/plain": "[-L0*R_im + L1*R_re + t0*R_im - t1*R_re, -R_re, -R_im]\n[-L0*R_re - L1*R_im + t0*R_re + t1*R_im, R_im, -R_re]"
     },
     "metadata": {},
     "output_type": "display_data"
    }
   ],
   "source": [
    "landmark_body.jacobian(pose)"
   ],
   "metadata": {
    "collapsed": false,
    "pycharm": {
     "name": "#%%\n"
    }
   }
  },
  {
   "cell_type": "code",
   "execution_count": 5,
   "outputs": [
    {
     "data": {
      "text/plain": "atan2(-L0*R_im + L1*R_re - (-t0*R_im + t1*R_re), L0*R_re + L1*R_im - (t0*R_re + t1*R_im))"
     },
     "execution_count": 5,
     "metadata": {},
     "output_type": "execute_result"
    }
   ],
   "source": [
    "sm.atan2(landmark_body[1], landmark_body[0])"
   ],
   "metadata": {
    "collapsed": false,
    "pycharm": {
     "name": "#%%\n"
    }
   }
  },
  {
   "cell_type": "code",
   "execution_count": 6,
   "outputs": [
    {
     "data": {
      "text/plain": "sqrt(epsilon + x0**2 + x1**2 + x2**2)"
     },
     "execution_count": 6,
     "metadata": {},
     "output_type": "execute_result"
    }
   ],
   "source": [
    "geo.V3.symbolic(\"x\").norm(epsilon=sm.epsilon)"
   ],
   "metadata": {
    "collapsed": false,
    "pycharm": {
     "name": "#%%\n"
    }
   }
  },
  {
   "cell_type": "code",
   "execution_count": 7,
   "outputs": [],
   "source": [
    "from symforce import typing as T\n",
    "\n",
    "def bearing_residual(\n",
    "    pose: geo.Pose2, landmark: geo.V2, angle: T.Scalar, epsilon: T.Scalar\n",
    ") -> geo.V1:\n",
    "    t_body = pose.inverse() * landmark\n",
    "    predicted_angle = sm.atan2(t_body[1], t_body[0], epsilon=epsilon)\n",
    "    return geo.V1(sm.wrap_angle(predicted_angle - angle))"
   ],
   "metadata": {
    "collapsed": false,
    "pycharm": {
     "name": "#%%\n"
    }
   }
  },
  {
   "cell_type": "code",
   "execution_count": 8,
   "outputs": [],
   "source": [
    "def odometry_residual(\n",
    "    pose_a: geo.Pose2, pose_b: geo.Pose2, dist: T.Scalar, epsilon: T.Scalar\n",
    ") -> geo.V1:\n",
    "    return geo.V1((pose_b.t - pose_a.t).norm(epsilon=epsilon) - dist)"
   ],
   "metadata": {
    "collapsed": false,
    "pycharm": {
     "name": "#%%\n"
    }
   }
  },
  {
   "cell_type": "code",
   "execution_count": 9,
   "outputs": [],
   "source": [
    "from symforce.opt.factor import Factor\n",
    "\n",
    "num_poses = 3\n",
    "num_landmarks = 3\n",
    "\n",
    "factors = []\n",
    "\n",
    "# Bearing factors\n",
    "for i in range(num_poses):\n",
    "    for j in range(num_landmarks):\n",
    "        factors.append(Factor(\n",
    "            residual=bearing_residual,\n",
    "            keys=[f\"poses[{i}]\", f\"landmarks[{j}]\", f\"angles[{i}][{j}]\", \"epsilon\"],\n",
    "        ))\n",
    "\n",
    "# Odometry factors\n",
    "for i in range(num_poses - 1):\n",
    "    factors.append(Factor(\n",
    "        residual=odometry_residual,\n",
    "        keys=[f\"poses[{i}]\", f\"poses[{i + 1}]\", f\"distances[{i}]\", \"epsilon\"],\n",
    "    ))"
   ],
   "metadata": {
    "collapsed": false,
    "pycharm": {
     "name": "#%%\n"
    }
   }
  },
  {
   "cell_type": "code",
   "execution_count": 10,
   "outputs": [],
   "source": [
    "from symforce.opt.optimizer import Optimizer\n",
    "\n",
    "optimizer = Optimizer(\n",
    "    factors=factors,\n",
    "    optimized_keys=[f\"poses[{i}]\" for i in range(num_poses)],\n",
    "    # So that we save more information about each iteration, to visualize later:\n",
    "    debug_stats=True,\n",
    ")"
   ],
   "metadata": {
    "collapsed": false,
    "pycharm": {
     "name": "#%%\n"
    }
   }
  },
  {
   "cell_type": "code",
   "execution_count": 11,
   "outputs": [],
   "source": [
    "import numpy as np\n",
    "from symforce.values import Values\n",
    "\n",
    "initial_values = Values(\n",
    "    poses=[geo.Pose2.identity()] * num_poses,\n",
    "    landmarks=[geo.V2(-2, 2), geo.V2(1, -3), geo.V2(5, 2)],\n",
    "    distances=[1.7, 1.4],\n",
    "    angles=np.deg2rad([[145, 335, 55], [185, 310, 70], [215, 310, 70]]).tolist(),\n",
    "    epsilon=sm.default_epsilon,\n",
    ")"
   ],
   "metadata": {
    "collapsed": false,
    "pycharm": {
     "name": "#%%\n"
    }
   }
  },
  {
   "cell_type": "code",
   "execution_count": 12,
   "outputs": [],
   "source": [
    "result = optimizer.optimize(initial_values)"
   ],
   "metadata": {
    "collapsed": false,
    "pycharm": {
     "name": "#%%\n"
    }
   }
  },
  {
   "cell_type": "code",
   "execution_count": 13,
   "outputs": [
    {
     "data": {
      "text/plain": "<Figure size 432x288 with 2 Axes>",
      "image/png": "[encoded data removed]"
     },
     "metadata": {
      "needs_background": "light"
     },
     "output_type": "display_data"
    }
   ],
   "source": [
    "from symforce.examples.robot_2d_triangulation.plotting import plot_solution\n",
    "plot_solution(optimizer, result)"
   ],
   "metadata": {
    "collapsed": false,
    "pycharm": {
     "name": "#%%\n"
    }
   }
  },
  {
   "cell_type": "code",
   "execution_count": 14,
   "outputs": [],
   "source": [
    "from symforce.codegen import Codegen, CppConfig\n",
    "\n",
    "codegen = Codegen.function(bearing_residual, config=CppConfig())"
   ],
   "metadata": {
    "collapsed": false,
    "pycharm": {
     "name": "#%%\n"
    }
   }
  },
  {
   "cell_type": "code",
   "execution_count": 15,
   "outputs": [],
   "source": [
    "codegen_linearization = codegen.with_linearization(\n",
    "    which_args=[\"pose\"]\n",
    ")"
   ],
   "metadata": {
    "collapsed": false,
    "pycharm": {
     "name": "#%%\n"
    }
   }
  },
  {
   "cell_type": "code",
   "execution_count": 16,
   "outputs": [
    {
     "name": "stdout",
     "output_type": "stream",
     "text": [
      "// -----------------------------------------------------------------------------\n",
      "// This file was autogenerated by symforce from template:\n",
      "//     cpp_templates/function/FUNCTION.h.jinja\n",
      "// Do NOT modify by hand.\n",
      "// -----------------------------------------------------------------------------\n",
      "\n",
      "#pragma once\n",
      "\n",
      "#include <Eigen/Dense>\n",
      "\n",
      "#include <sym/pose2.h>\n",
      "\n",
      "namespace sym {\n",
      "\n",
      "/**\n",
      " * This function was autogenerated from a symbolic function. Do not modify by hand.\n",
      " *\n",
      " * Symbolic function: bearing_residual\n",
      " *\n",
      " * Args:\n",
      " *     pose: Pose2\n",
      " *     landmark: Matrix21\n",
      " *     angle: Scalar\n",
      " *     epsilon: Scalar\n",
      " *\n",
      " * Outputs:\n",
      " *     res: Matrix11\n",
      " *     jacobian: (1x3) jacobian of res wrt arg pose (3)\n",
      " *     hessian: (3x3) Gauss-Newton hessian for arg pose (3)\n",
      " *     rhs: (3x1) Gauss-Newton rhs for arg pose (3)\n",
      " */\n",
      "template <typename Scalar>\n",
      "void BearingFactor(const sym::Pose2<Scalar>& pose, const Eigen::Matrix<Scalar, 2, 1>& landmark,\n",
      "                   const Scalar angle, const Scalar epsilon,\n",
      "                   Eigen::Matrix<Scalar, 1, 1>* const res = nullptr,\n",
      "                   Eigen::Matrix<Scalar, 1, 3>* const jacobian = nullptr,\n",
      "                   Eigen::Matrix<Scalar, 3, 3>* const hessian = nullptr,\n",
      "                   Eigen::Matrix<Scalar, 3, 1>* const rhs = nullptr) {\n",
      "  // Total ops: 66\n",
      "\n",
      "  // Input arrays\n",
      "  const Eigen::Matrix<Scalar, 4, 1>& _pose = pose.Data();\n",
      "\n",
      "  // Intermediate terms (24)\n",
      "  const Scalar _tmp0 = _pose[1] * _pose[2];\n",
      "  const Scalar _tmp1 = _pose[0] * _pose[3];\n",
      "  const Scalar _tmp2 = _pose[0] * landmark(1, 0) - _pose[1] * landmark(0, 0);\n",
      "  const Scalar _tmp3 = _tmp0 - _tmp1 + _tmp2;\n",
      "  const Scalar _tmp4 = _pose[0] * _pose[2] + _pose[1] * _pose[3];\n",
      "  const Scalar _tmp5 = _pose[1] * landmark(1, 0);\n",
      "  const Scalar _tmp6 = _pose[0] * landmark(0, 0);\n",
      "  const Scalar _tmp7 = -_tmp4 + _tmp5 + _tmp6;\n",
      "  const Scalar _tmp8 = _tmp7 + epsilon * ((((_tmp7) > 0) - ((_tmp7) < 0)) + Scalar(0.5));\n",
      "  const Scalar _tmp9 = -angle + std::atan2(_tmp3, _tmp8);\n",
      "  const Scalar _tmp10 =\n",
      "      _tmp9 - 2 * Scalar(M_PI) *\n",
      "                  std::floor((Scalar(1) / Scalar(2)) * (_tmp9 + Scalar(M_PI)) / Scalar(M_PI));\n",
      "  const Scalar _tmp11 = Scalar(1.0) / (_tmp8);\n",
      "  const Scalar _tmp12 = std::pow(_tmp8, Scalar(2));\n",
      "  const Scalar _tmp13 = _tmp3 / _tmp12;\n",
      "  const Scalar _tmp14 = _tmp11 * (_tmp4 - _tmp5 - _tmp6) - _tmp13 * (_tmp0 - _tmp1 + _tmp2);\n",
      "  const Scalar _tmp15 = _tmp12 + std::pow(_tmp3, Scalar(2));\n",
      "  const Scalar _tmp16 = _tmp12 / _tmp15;\n",
      "  const Scalar _tmp17 = _tmp14 * _tmp16;\n",
      "  const Scalar _tmp18 = _pose[0] * _tmp13 + _pose[1] * _tmp11;\n",
      "  const Scalar _tmp19 = _tmp16 * _tmp18;\n",
      "  const Scalar _tmp20 = -_pose[0] * _tmp11 + _pose[1] * _tmp13;\n",
      "  const Scalar _tmp21 = _tmp16 * _tmp20;\n",
      "  const Scalar _tmp22 = std::pow(_tmp8, Scalar(4)) / std::pow(_tmp15, Scalar(2));\n",
      "  const Scalar _tmp23 = _tmp18 * _tmp22;\n",
      "\n",
      "  // Output terms (4)\n",
      "  if (res != nullptr) {\n",
      "    Eigen::Matrix<Scalar, 1, 1>& _res = (*res);\n",
      "\n",
      "    _res(0, 0) = _tmp10;\n",
      "  }\n",
      "\n",
      "  if (jacobian != nullptr) {\n",
      "    Eigen::Matrix<Scalar, 1, 3>& _jacobian = (*jacobian);\n",
      "\n",
      "    _jacobian(0, 0) = _tmp17;\n",
      "    _jacobian(0, 1) = _tmp19;\n",
      "    _jacobian(0, 2) = _tmp21;\n",
      "  }\n",
      "\n",
      "  if (hessian != nullptr) {\n",
      "    Eigen::Matrix<Scalar, 3, 3>& _hessian = (*hessian);\n",
      "\n",
      "    _hessian(0, 0) = std::pow(_tmp14, Scalar(2)) * _tmp22;\n",
      "    _hessian(1, 0) = _tmp14 * _tmp23;\n",
      "    _hessian(2, 0) = _tmp14 * _tmp20 * _tmp22;\n",
      "    _hessian(0, 1) = 0;\n",
      "    _hessian(1, 1) = std::pow(_tmp18, Scalar(2)) * _tmp22;\n",
      "    _hessian(2, 1) = _tmp20 * _tmp23;\n",
      "    _hessian(0, 2) = 0;\n",
      "    _hessian(1, 2) = 0;\n",
      "    _hessian(2, 2) = std::pow(_tmp20, Scalar(2)) * _tmp22;\n",
      "  }\n",
      "\n",
      "  if (rhs != nullptr) {\n",
      "    Eigen::Matrix<Scalar, 3, 1>& _rhs = (*rhs);\n",
      "\n",
      "    _rhs(0, 0) = _tmp10 * _tmp17;\n",
      "    _rhs(1, 0) = _tmp10 * _tmp19;\n",
      "    _rhs(2, 0) = _tmp10 * _tmp21;\n",
      "  }\n",
      "}  // NOLINT(readability/fn_size)\n",
      "\n",
      "// NOLINTNEXTLINE(readability/fn_size)\n",
      "}  // namespace sym\n",
      "\n"
     ]
    }
   ],
   "source": [
    "metadata = codegen_linearization.generate_function()\n",
    "print(open(metadata.generated_files[0]).read())"
   ],
   "metadata": {
    "collapsed": false,
    "pycharm": {
     "name": "#%%\n"
    }
   }
  },
  {
   "cell_type": "code",
   "execution_count": null,
   "outputs": [],
   "source": [],
   "metadata": {
    "collapsed": false,
    "pycharm": {
     "name": "#%%\n"
    }
   }
  }
 ],
 "metadata": {
  "kernelspec": {
   "display_name": "Python 3",
   "language": "python",
   "name": "python3"
  },
  "language_info": {
   "codemirror_mode": {
    "name": "ipython",
    "version": 2
   },
   "file_extension": ".py",
   "mimetype": "text/x-python",
   "name": "python",
   "nbconvert_exporter": "python",
   "pygments_lexer": "ipython2",
   "version": "2.7.6"
  }
 },
 "nbformat": 4,
 "nbformat_minor": 0
}