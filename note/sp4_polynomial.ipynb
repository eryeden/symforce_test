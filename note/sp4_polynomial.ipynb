{
 "cells": [
  {
   "cell_type": "code",
   "execution_count": 36,
   "outputs": [],
   "source": [
    "import numpy as np\n",
    "import symforce\n",
    "\n",
    "symforce.set_backend(\"sympy\")\n",
    "symforce.set_log_level(\"warning\")\n",
    "from symforce.notebook_util import display, print_expression_tree\n",
    "\n",
    "from symforce import sympy as sm\n",
    "from symforce import geo\n",
    "from symforce import typing as T\n",
    "from symforce.opt.factor import Factor\n",
    "from symforce.opt.optimizer import Optimizer\n",
    "from symforce.values import Values\n",
    "\n",
    "from symforce.opt.barrier_functions import (\n",
    "    min_max_power_barrier,\n",
    "    min_max_linear_barrier,\n",
    "    max_linear_barrier\n",
    ")\n",
    "\n",
    "import numpy as np\n",
    "import matplotlib.pyplot as plt"
   ],
   "metadata": {
    "collapsed": false,
    "pycharm": {
     "name": "#%%\n"
    }
   }
  },
  {
   "cell_type": "code",
   "execution_count": 83,
   "outputs": [],
   "source": [
    "t = sm.Symbol(\"t\")\n",
    "T_a = sm.Symbol(\"T_a\")\n",
    "v_0 = sm.Symbol(\"v_0\")\n",
    "a_0 = sm.Symbol(\"a_0\")\n",
    "v_A = sm.Symbol(\"v_A\")\n",
    "a_A = sm.Symbol(\"a_A\")\n",
    "l_a = sm.Symbol(\"l_a\")\n",
    "\n",
    "\n",
    "s_1 = sm.Symbol(\"s_1\")\n",
    "s_2 = sm.Symbol(\"s_2\")\n",
    "s_3 = sm.Symbol(\"s_3\")\n",
    "s_4 = sm.Symbol(\"s_4\")\n",
    "s_5 = sm.Symbol(\"s_5\")"
   ],
   "metadata": {
    "collapsed": false,
    "pycharm": {
     "name": "#%%\n"
    }
   }
  },
  {
   "cell_type": "code",
   "execution_count": 84,
   "outputs": [],
   "source": [
    "def velocity_function(current_time):\n",
    "    # v_t = v_0 + s_1 * current_time + s_2 * current_time**2 +s_3 * current_time**3 + s_4 * current_time**4 + s_5 * current_time**5\n",
    "    v_t = v_0 + s_1 * current_time + s_2 * current_time**2 +s_3 * current_time**3 + s_4 * current_time**4\n",
    "    return v_t\n",
    "\n",
    "def acc_function(current_time):\n",
    "    tmp = sm.Symbol(\"tmp\")\n",
    "    return sm.diff(velocity_function(tmp), tmp).subs(tmp, current_time)"
   ],
   "metadata": {
    "collapsed": false,
    "pycharm": {
     "name": "#%%\n"
    }
   }
  },
  {
   "cell_type": "code",
   "execution_count": 85,
   "outputs": [
    {
     "data": {
      "text/plain": "                    2         3\ns₁ + 2⋅s₂⋅t + 3⋅s₃⋅t  + 4⋅s₄⋅t ",
      "image/png": "[encoded data removed]",
      "text/latex": "$\\displaystyle s_{1} + 2 s_{2} t + 3 s_{3} t^{2} + 4 s_{4} t^{3}$"
     },
     "execution_count": 85,
     "metadata": {},
     "output_type": "execute_result"
    }
   ],
   "source": [
    "acc_function(t)"
   ],
   "metadata": {
    "collapsed": false,
    "pycharm": {
     "name": "#%%\n"
    }
   }
  },
  {
   "cell_type": "code",
   "execution_count": 86,
   "outputs": [],
   "source": [
    "eq1 = sm.Eq(velocity_function(0), v_0)\n",
    "eq2 = sm.Eq(velocity_function(T_a), v_A)\n",
    "eq3 = sm.Eq(acc_function(0), a_0)\n",
    "eq4 = sm.Eq(acc_function(T_a), a_A)\n",
    "tmp = sm.Symbol(\"tmp\")\n",
    "eq5 = sm.Eq(sm.integrate(velocity_function(tmp), (tmp, 0, T_a)), l_a)\n",
    "\n",
    "sol = sm.solve([eq1, eq2, eq3, eq4, eq5], [s_1, s_2, s_3, s_4, s_5])"
   ],
   "metadata": {
    "collapsed": false,
    "pycharm": {
     "name": "#%%\n"
    }
   }
  },
  {
   "cell_type": "code",
   "execution_count": 87,
   "outputs": [
    {
     "data": {
      "text/plain": "⎧                  2          2                                             2 \n⎪            - 9⋅Tₐ ⋅a₀ + 3⋅Tₐ ⋅a_A - 36⋅Tₐ⋅v₀ - 24⋅Tₐ⋅v_A + 60⋅lₐ      6⋅Tₐ ⋅\n⎨s₁: a₀, s₂: ─────────────────────────────────────────────────────, s₃: ──────\n⎪                                        3                                    \n⎩                                    2⋅Tₐ                                     \n\n         2                                               2          2         \na₀ - 4⋅Tₐ ⋅a_A + 32⋅Tₐ⋅v₀ + 28⋅Tₐ⋅v_A - 60⋅lₐ      - 5⋅Tₐ ⋅a₀ + 5⋅Tₐ ⋅a_A - 30\n─────────────────────────────────────────────, s₄: ───────────────────────────\n                    4                                                         \n                  Tₐ                                                       2⋅T\n\n                          ⎫\n⋅Tₐ⋅v₀ - 30⋅Tₐ⋅v_A + 60⋅lₐ⎪\n──────────────────────────⎬\n 5                        ⎪\nₐ                         ⎭",
      "image/png": "[encoded data removed]",
      "text/latex": "$\\displaystyle \\left\\{ s_{1} : a_{0}, \\  s_{2} : \\frac{- 9 T_{a}^{2} a_{0} + 3 T_{a}^{2} a_{A} - 36 T_{a} v_{0} - 24 T_{a} v_{A} + 60 l_{a}}{2 T_{a}^{3}}, \\  s_{3} : \\frac{6 T_{a}^{2} a_{0} - 4 T_{a}^{2} a_{A} + 32 T_{a} v_{0} + 28 T_{a} v_{A} - 60 l_{a}}{T_{a}^{4}}, \\  s_{4} : \\frac{- 5 T_{a}^{2} a_{0} + 5 T_{a}^{2} a_{A} - 30 T_{a} v_{0} - 30 T_{a} v_{A} + 60 l_{a}}{2 T_{a}^{5}}\\right\\}$"
     },
     "execution_count": 87,
     "metadata": {},
     "output_type": "execute_result"
    }
   ],
   "source": [
    "sol"
   ],
   "metadata": {
    "collapsed": false,
    "pycharm": {
     "name": "#%%\n"
    }
   }
  },
  {
   "cell_type": "code",
   "execution_count": 88,
   "outputs": [],
   "source": [
    "def sol_velocity_function(current_time, arrival_time, initial_v, initial_a, arrival_v, arrival_a, drive_length):\n",
    "    return velocity_function(current_time).subs([(s_1, sol[s_1]),\n",
    "                                                 (s_2, sol[s_2]),\n",
    "                                                 (s_3, sol[s_3]),\n",
    "                                                 (s_4, sol[s_4]),\n",
    "                                                 ]).subs([\n",
    "        (v_0, initial_v),\n",
    "        (a_0, initial_a),\n",
    "        (v_A, arrival_v),\n",
    "        (a_A, arrival_a),\n",
    "        (T_a, arrival_time),\n",
    "        (l_a, drive_length)\n",
    "    ])"
   ],
   "metadata": {
    "collapsed": false,
    "pycharm": {
     "name": "#%%\n"
    }
   }
  },
  {
   "cell_type": "code",
   "execution_count": 93,
   "outputs": [
    {
     "data": {
      "text/plain": "[<matplotlib.lines.Line2D at 0x7fe721f732b0>]"
     },
     "execution_count": 93,
     "metadata": {},
     "output_type": "execute_result"
    },
    {
     "data": {
      "text/plain": "<Figure size 432x288 with 1 Axes>",
      "image/png": "[encoded data removed]"
     },
     "metadata": {
      "needs_background": "light"
     },
     "output_type": "display_data"
    }
   ],
   "source": [
    "initial_speed = 1.38\n",
    "initial_a = 0\n",
    "arrival_speed = 0\n",
    "arrival_a = -0.02\n",
    "drive_length = 30\n",
    "arrival_time = 100\n",
    "\n",
    "# sol_velocity_function(1, arrival_time, initial_speed, initial_a, arrival_speed, arrival_a, drive_length)\n",
    "\n",
    "opt_times = np.linspace(0, arrival_time, 100)\n",
    "opt_v = [sol_velocity_function(ct, arrival_time, initial_speed, initial_a, arrival_speed, arrival_a, drive_length) for ct in opt_times]\n",
    "\n",
    "plt.plot(opt_times, opt_v)"
   ],
   "metadata": {
    "collapsed": false,
    "pycharm": {
     "name": "#%%\n"
    }
   }
  },
  {
   "cell_type": "code",
   "execution_count": null,
   "outputs": [],
   "source": [],
   "metadata": {
    "collapsed": false,
    "pycharm": {
     "name": "#%%\n"
    }
   }
  }
 ],
 "metadata": {
  "kernelspec": {
   "display_name": "Python 3",
   "language": "python",
   "name": "python3"
  },
  "language_info": {
   "codemirror_mode": {
    "name": "ipython",
    "version": 2
   },
   "file_extension": ".py",
   "mimetype": "text/x-python",
   "name": "python",
   "nbconvert_exporter": "python",
   "pygments_lexer": "ipython2",
   "version": "2.7.6"
  }
 },
 "nbformat": 4,
 "nbformat_minor": 0
}