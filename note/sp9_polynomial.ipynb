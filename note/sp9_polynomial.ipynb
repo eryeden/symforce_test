{
 "cells": [
  {
   "cell_type": "code",
   "execution_count": 1,
   "outputs": [],
   "source": [
    "import numpy as np\n",
    "import symforce\n",
    "\n",
    "symforce.set_backend(\"sympy\")\n",
    "symforce.set_log_level(\"warning\")\n",
    "from symforce.notebook_util import display, print_expression_tree\n",
    "\n",
    "from symforce import sympy as sm\n",
    "from symforce import geo\n",
    "from symforce import typing as T\n",
    "from symforce.opt.factor import Factor\n",
    "from symforce.opt.optimizer import Optimizer\n",
    "from symforce.values import Values\n",
    "\n",
    "from symforce.opt.barrier_functions import (\n",
    "    min_max_power_barrier,\n",
    "    min_max_linear_barrier,\n",
    "    max_linear_barrier\n",
    ")\n",
    "\n",
    "import numpy as np\n",
    "import matplotlib.pyplot as plt"
   ],
   "metadata": {
    "collapsed": false,
    "pycharm": {
     "name": "#%%\n"
    }
   }
  },
  {
   "cell_type": "code",
   "execution_count": 26,
   "outputs": [
    {
     "name": "stdout",
     "output_type": "stream",
     "text": [
      "v:\n",
      "a_0*t + s_5*t**5 + s_6*t**6 + s_7*t**7 + s_8*t**8 + v_0 + t**2*(-280*T_A**9*s_8 - 189*T_A**8*s_7 - 108*T_A**7*s_6 - 42*T_A**6*s_5 - 378*T_A**2*a_0 + 126*T_A**2*a_A - 1512*T_A*v_0 - 1008*T_A*v_A + 2520*l_A)/(84*T_A**3) + t**3*(448*T_A**9*s_8 + 315*T_A**8*s_7 + 192*T_A**7*s_6 + 84*T_A**6*s_5 + 252*T_A**2*a_0 - 168*T_A**2*a_A + 1344*T_A*v_0 + 1176*T_A*v_A - 2520*l_A)/(42*T_A**4) + t**4*(-700*T_A**9*s_8 - 525*T_A**8*s_7 - 360*T_A**7*s_6 - 210*T_A**6*s_5 - 210*T_A**2*a_0 + 210*T_A**2*a_A - 1260*T_A*v_0 - 1260*T_A*v_A + 2520*l_A)/(84*T_A**5)\n",
      "a:\n",
      "a_0 + 5*s_5*t**4 + 6*s_6*t**5 + 7*s_7*t**6 + 8*s_8*t**7 + t*(-280*T_A**9*s_8 - 189*T_A**8*s_7 - 108*T_A**7*s_6 - 42*T_A**6*s_5 - 378*T_A**2*a_0 + 126*T_A**2*a_A - 1512*T_A*v_0 - 1008*T_A*v_A + 2520*l_A)/(42*T_A**3) + t**2*(448*T_A**9*s_8 + 315*T_A**8*s_7 + 192*T_A**7*s_6 + 84*T_A**6*s_5 + 252*T_A**2*a_0 - 168*T_A**2*a_A + 1344*T_A*v_0 + 1176*T_A*v_A - 2520*l_A)/(14*T_A**4) + t**3*(-700*T_A**9*s_8 - 525*T_A**8*s_7 - 360*T_A**7*s_6 - 210*T_A**6*s_5 - 210*T_A**2*a_0 + 210*T_A**2*a_A - 1260*T_A*v_0 - 1260*T_A*v_A + 2520*l_A)/(21*T_A**5)\n"
     ]
    },
    {
     "data": {
      "text/plain": "                                             2 ⎛         9             8      \n           5       6       7       8        t ⋅⎝- 280⋅T_A ⋅s₈ - 189⋅T_A ⋅s₇ - \na₀⋅t + s₅⋅t  + s₆⋅t  + s₇⋅t  + s₈⋅t  + v₀ + ──────────────────────────────────\n                                                                              \n                                                                              \n\n       7            6             2             2                             \n108⋅T_A ⋅s₆ - 42⋅T_A ⋅s₅ - 378⋅T_A ⋅a₀ + 126⋅T_A ⋅a_A - 1512⋅T_A⋅v₀ - 1008⋅T_A\n──────────────────────────────────────────────────────────────────────────────\n                                3                                             \n                          84⋅T_A                                              \n\n               ⎞    3 ⎛       9             8             7            6      \n⋅v_A + 2520⋅l_A⎠   t ⋅⎝448⋅T_A ⋅s₈ + 315⋅T_A ⋅s₇ + 192⋅T_A ⋅s₆ + 84⋅T_A ⋅s₅ + \n──────────────── + ───────────────────────────────────────────────────────────\n                                                                              \n                                                                              \n\n       2             2                                            ⎞    4 ⎛    \n252⋅T_A ⋅a₀ - 168⋅T_A ⋅a_A + 1344⋅T_A⋅v₀ + 1176⋅T_A⋅v_A - 2520⋅l_A⎠   t ⋅⎝- 70\n─────────────────────────────────────────────────────────────────── + ────────\n      4                                                                       \n42⋅T_A                                                                        \n\n     9             8             7             6             2             2  \n0⋅T_A ⋅s₈ - 525⋅T_A ⋅s₇ - 360⋅T_A ⋅s₆ - 210⋅T_A ⋅s₅ - 210⋅T_A ⋅a₀ + 210⋅T_A ⋅a\n──────────────────────────────────────────────────────────────────────────────\n                                                           5                  \n                                                     84⋅T_A                   \n\n                                          ⎞\n_A - 1260⋅T_A⋅v₀ - 1260⋅T_A⋅v_A + 2520⋅l_A⎠\n───────────────────────────────────────────\n                                           \n                                           ",
      "image/png": "[encoded data removed]",
      "text/latex": "$\\displaystyle a_{0} t + s_{5} t^{5} + s_{6} t^{6} + s_{7} t^{7} + s_{8} t^{8} + v_{0} + \\frac{t^{2} \\left(- 280 T_{A}^{9} s_{8} - 189 T_{A}^{8} s_{7} - 108 T_{A}^{7} s_{6} - 42 T_{A}^{6} s_{5} - 378 T_{A}^{2} a_{0} + 126 T_{A}^{2} a_{A} - 1512 T_{A} v_{0} - 1008 T_{A} v_{A} + 2520 l_{A}\\right)}{84 T_{A}^{3}} + \\frac{t^{3} \\cdot \\left(448 T_{A}^{9} s_{8} + 315 T_{A}^{8} s_{7} + 192 T_{A}^{7} s_{6} + 84 T_{A}^{6} s_{5} + 252 T_{A}^{2} a_{0} - 168 T_{A}^{2} a_{A} + 1344 T_{A} v_{0} + 1176 T_{A} v_{A} - 2520 l_{A}\\right)}{42 T_{A}^{4}} + \\frac{t^{4} \\left(- 700 T_{A}^{9} s_{8} - 525 T_{A}^{8} s_{7} - 360 T_{A}^{7} s_{6} - 210 T_{A}^{6} s_{5} - 210 T_{A}^{2} a_{0} + 210 T_{A}^{2} a_{A} - 1260 T_{A} v_{0} - 1260 T_{A} v_{A} + 2520 l_{A}\\right)}{84 T_{A}^{5}}$"
     },
     "execution_count": 26,
     "metadata": {},
     "output_type": "execute_result"
    }
   ],
   "source": [
    "t = sm.Symbol(\"t\")\n",
    "T_a = sm.Symbol(\"T_A\")\n",
    "v_0 = sm.Symbol(\"v_0\")\n",
    "a_0 = sm.Symbol(\"a_0\")\n",
    "v_A = sm.Symbol(\"v_A\")\n",
    "a_A = sm.Symbol(\"a_A\")\n",
    "l_a = sm.Symbol(\"l_A\")\n",
    "pos = sm.Symbol(\"x\")\n",
    "\n",
    "polynomial_order = 8\n",
    "coeffs = [sm.Symbol(\"s_{}\".format(i)) for i in range(1, polynomial_order+1)]\n",
    "\n",
    "def velocity_function(current_time):\n",
    "    v_t = v_0\n",
    "    for i in range(1, polynomial_order+1):\n",
    "        v_t = v_t + coeffs[i-1] * current_time**i\n",
    "    return v_t\n",
    "\n",
    "def acc_function(current_time):\n",
    "    tmp = sm.Symbol(\"tmp\")\n",
    "    return sm.diff(velocity_function(tmp), tmp).subs(tmp, current_time)\n",
    "\n",
    "eq1 = sm.Eq(velocity_function(0), v_0)\n",
    "eq2 = sm.Eq(velocity_function(T_a), v_A)\n",
    "eq3 = sm.Eq(acc_function(0), a_0)\n",
    "eq4 = sm.Eq(acc_function(T_a), a_A)\n",
    "tmp = sm.Symbol(\"tmp\")\n",
    "eq5 = sm.Eq(sm.integrate(velocity_function(tmp), (tmp, 0, T_a)), l_a)\n",
    "\n",
    "sol = sm.solve([eq1, eq2, eq3, eq4, eq5], coeffs[:4])\n",
    "\n",
    "def sol_velocity_function_raw(current_time):\n",
    "    return velocity_function(current_time).subs([(coeffs[0], sol[coeffs[0]]),\n",
    "                                                 (coeffs[1], sol[coeffs[1]]),\n",
    "                                                 (coeffs[2], sol[coeffs[2]]),\n",
    "                                                 (coeffs[3], sol[coeffs[3]]),\n",
    "                                                 ])\n",
    "\n",
    "def sol_acc_function_raw(current_time):\n",
    "    return sm.diff(sol_velocity_function_raw(t), t).subs(t, current_time)\n",
    "\n",
    "def sol_pos_function_raw(current_time):\n",
    "    return sm.integrate(sol_velocity_function_raw(t), (t, 0, t)).subs(t, current_time)\n",
    "\n",
    "eq_l = sm.Eq(sol_pos_function_raw(t), pos)\n",
    "pos_sol = sm.solve([eq_l], [t])\n",
    "\n",
    "def sol_velocity_function(current_time, arrival_time, initial_v, initial_a, arrival_v, arrival_a, drive_length):\n",
    "    return sol_velocity_function_raw(current_time).subs([\n",
    "        (v_0, initial_v),\n",
    "        (a_0, initial_a),\n",
    "        (v_A, arrival_v),\n",
    "        (a_A, arrival_a),\n",
    "        (T_a, arrival_time),\n",
    "        (l_a, drive_length)\n",
    "    ])\n",
    "\n",
    "print(\"v:\")\n",
    "print(sol_velocity_function_raw(t))\n",
    "\n",
    "print(\"a:\")\n",
    "print(sm.diff(sol_velocity_function_raw(t), t))\n",
    "\n",
    "sol_velocity_function_raw(t)"
   ],
   "metadata": {
    "collapsed": false,
    "pycharm": {
     "name": "#%%\n"
    }
   }
  },
  {
   "cell_type": "code",
   "execution_count": 21,
   "outputs": [
    {
     "data": {
      "text/plain": "                                             2 ⎛         9             8      \n           5       6       7       8        t ⋅⎝- 280⋅T_A ⋅s₈ - 189⋅T_A ⋅s₇ - \na₀⋅t + s₅⋅t  + s₆⋅t  + s₇⋅t  + s₈⋅t  + v₀ + ──────────────────────────────────\n                                                                              \n                                                                              \n\n       7            6             2             2                             \n108⋅T_A ⋅s₆ - 42⋅T_A ⋅s₅ - 378⋅T_A ⋅a₀ + 126⋅T_A ⋅a_A - 1512⋅T_A⋅v₀ - 1008⋅T_A\n──────────────────────────────────────────────────────────────────────────────\n                                3                                             \n                          84⋅T_A                                              \n\n               ⎞    3 ⎛       9             8             7            6      \n⋅v_A + 2520⋅l_A⎠   t ⋅⎝448⋅T_A ⋅s₈ + 315⋅T_A ⋅s₇ + 192⋅T_A ⋅s₆ + 84⋅T_A ⋅s₅ + \n──────────────── + ───────────────────────────────────────────────────────────\n                                                                              \n                                                                              \n\n       2             2                                            ⎞    4 ⎛    \n252⋅T_A ⋅a₀ - 168⋅T_A ⋅a_A + 1344⋅T_A⋅v₀ + 1176⋅T_A⋅v_A - 2520⋅l_A⎠   t ⋅⎝- 70\n─────────────────────────────────────────────────────────────────── + ────────\n      4                                                                       \n42⋅T_A                                                                        \n\n     9             8             7             6             2             2  \n0⋅T_A ⋅s₈ - 525⋅T_A ⋅s₇ - 360⋅T_A ⋅s₆ - 210⋅T_A ⋅s₅ - 210⋅T_A ⋅a₀ + 210⋅T_A ⋅a\n──────────────────────────────────────────────────────────────────────────────\n                                                           5                  \n                                                     84⋅T_A                   \n\n                                          ⎞\n_A - 1260⋅T_A⋅v₀ - 1260⋅T_A⋅v_A + 2520⋅l_A⎠\n───────────────────────────────────────────\n                                           \n                                           ",
      "image/png": "[encoded data removed]",
      "text/latex": "$\\displaystyle a_{0} t + s_{5} t^{5} + s_{6} t^{6} + s_{7} t^{7} + s_{8} t^{8} + v_{0} + \\frac{t^{2} \\left(- 280 T_{A}^{9} s_{8} - 189 T_{A}^{8} s_{7} - 108 T_{A}^{7} s_{6} - 42 T_{A}^{6} s_{5} - 378 T_{A}^{2} a_{0} + 126 T_{A}^{2} a_{A} - 1512 T_{A} v_{0} - 1008 T_{A} v_{A} + 2520 l_{A}\\right)}{84 T_{A}^{3}} + \\frac{t^{3} \\cdot \\left(448 T_{A}^{9} s_{8} + 315 T_{A}^{8} s_{7} + 192 T_{A}^{7} s_{6} + 84 T_{A}^{6} s_{5} + 252 T_{A}^{2} a_{0} - 168 T_{A}^{2} a_{A} + 1344 T_{A} v_{0} + 1176 T_{A} v_{A} - 2520 l_{A}\\right)}{42 T_{A}^{4}} + \\frac{t^{4} \\left(- 700 T_{A}^{9} s_{8} - 525 T_{A}^{8} s_{7} - 360 T_{A}^{7} s_{6} - 210 T_{A}^{6} s_{5} - 210 T_{A}^{2} a_{0} + 210 T_{A}^{2} a_{A} - 1260 T_{A} v_{0} - 1260 T_{A} v_{A} + 2520 l_{A}\\right)}{84 T_{A}^{5}}$"
     },
     "execution_count": 21,
     "metadata": {},
     "output_type": "execute_result"
    }
   ],
   "source": [
    "sol_velocity_function_raw(t)"
   ],
   "metadata": {
    "collapsed": false,
    "pycharm": {
     "name": "#%%\n"
    }
   }
  },
  {
   "cell_type": "code",
   "execution_count": 22,
   "outputs": [
    {
     "data": {
      "text/plain": "                                               ⎛         9             8      \n           4         5         6         7   t⋅⎝- 280⋅T_A ⋅s₈ - 189⋅T_A ⋅s₇ - \na₀ + 5⋅s₅⋅t  + 6⋅s₆⋅t  + 7⋅s₇⋅t  + 8⋅s₈⋅t  + ─────────────────────────────────\n                                                                              \n                                                                              \n\n       7            6             2             2                             \n108⋅T_A ⋅s₆ - 42⋅T_A ⋅s₅ - 378⋅T_A ⋅a₀ + 126⋅T_A ⋅a_A - 1512⋅T_A⋅v₀ - 1008⋅T_A\n──────────────────────────────────────────────────────────────────────────────\n                                 3                                            \n                           42⋅T_A                                             \n\n               ⎞    2 ⎛       9             8             7            6      \n⋅v_A + 2520⋅l_A⎠   t ⋅⎝448⋅T_A ⋅s₈ + 315⋅T_A ⋅s₇ + 192⋅T_A ⋅s₆ + 84⋅T_A ⋅s₅ + \n──────────────── + ───────────────────────────────────────────────────────────\n                                                                              \n                                                                              \n\n       2             2                                            ⎞    3 ⎛    \n252⋅T_A ⋅a₀ - 168⋅T_A ⋅a_A + 1344⋅T_A⋅v₀ + 1176⋅T_A⋅v_A - 2520⋅l_A⎠   t ⋅⎝- 70\n─────────────────────────────────────────────────────────────────── + ────────\n      4                                                                       \n14⋅T_A                                                                        \n\n     9             8             7             6             2             2  \n0⋅T_A ⋅s₈ - 525⋅T_A ⋅s₇ - 360⋅T_A ⋅s₆ - 210⋅T_A ⋅s₅ - 210⋅T_A ⋅a₀ + 210⋅T_A ⋅a\n──────────────────────────────────────────────────────────────────────────────\n                                                           5                  \n                                                     21⋅T_A                   \n\n                                          ⎞\n_A - 1260⋅T_A⋅v₀ - 1260⋅T_A⋅v_A + 2520⋅l_A⎠\n───────────────────────────────────────────\n                                           \n                                           ",
      "image/png": "[encoded data removed]",
      "text/latex": "$\\displaystyle a_{0} + 5 s_{5} t^{4} + 6 s_{6} t^{5} + 7 s_{7} t^{6} + 8 s_{8} t^{7} + \\frac{t \\left(- 280 T_{A}^{9} s_{8} - 189 T_{A}^{8} s_{7} - 108 T_{A}^{7} s_{6} - 42 T_{A}^{6} s_{5} - 378 T_{A}^{2} a_{0} + 126 T_{A}^{2} a_{A} - 1512 T_{A} v_{0} - 1008 T_{A} v_{A} + 2520 l_{A}\\right)}{42 T_{A}^{3}} + \\frac{t^{2} \\cdot \\left(448 T_{A}^{9} s_{8} + 315 T_{A}^{8} s_{7} + 192 T_{A}^{7} s_{6} + 84 T_{A}^{6} s_{5} + 252 T_{A}^{2} a_{0} - 168 T_{A}^{2} a_{A} + 1344 T_{A} v_{0} + 1176 T_{A} v_{A} - 2520 l_{A}\\right)}{14 T_{A}^{4}} + \\frac{t^{3} \\left(- 700 T_{A}^{9} s_{8} - 525 T_{A}^{8} s_{7} - 360 T_{A}^{7} s_{6} - 210 T_{A}^{6} s_{5} - 210 T_{A}^{2} a_{0} + 210 T_{A}^{2} a_{A} - 1260 T_{A} v_{0} - 1260 T_{A} v_{A} + 2520 l_{A}\\right)}{21 T_{A}^{5}}$"
     },
     "execution_count": 22,
     "metadata": {},
     "output_type": "execute_result"
    }
   ],
   "source": [
    "sol_acc_function_raw(t)"
   ],
   "metadata": {
    "collapsed": false,
    "pycharm": {
     "name": "#%%\n"
    }
   }
  },
  {
   "cell_type": "code",
   "execution_count": 2,
   "outputs": [
    {
     "ename": "NameError",
     "evalue": "name 'sol_pos_function_raw' is not defined",
     "output_type": "error",
     "traceback": [
      "\u001B[0;31m---------------------------------------------------------------------------\u001B[0m",
      "\u001B[0;31mNameError\u001B[0m                                 Traceback (most recent call last)",
      "Input \u001B[0;32mIn [2]\u001B[0m, in \u001B[0;36m<cell line: 1>\u001B[0;34m()\u001B[0m\n\u001B[0;32m----> 1\u001B[0m \u001B[43msol_pos_function_raw\u001B[49m(t)\n\u001B[1;32m      2\u001B[0m \u001B[38;5;28mprint\u001B[39m(sol_pos_function_raw(t))\n",
      "\u001B[0;31mNameError\u001B[0m: name 'sol_pos_function_raw' is not defined"
     ]
    }
   ],
   "source": [
    "sol_pos_function_raw(t)\n",
    "print(sol_pos_function_raw(t))"
   ],
   "metadata": {
    "collapsed": false,
    "pycharm": {
     "name": "#%%\n"
    }
   }
  },
  {
   "cell_type": "code",
   "execution_count": 5,
   "outputs": [],
   "source": [
    "def velocity_function(t: T.Scalar,\n",
    "                      v_0: T.Scalar,\n",
    "                      a_0: T.Scalar,\n",
    "                      v_A: T.Scalar,\n",
    "                      a_A: T.Scalar,\n",
    "                      T_A: T.Scalar,\n",
    "                      l_A: T.Scalar,\n",
    "                      s_5: T.Scalar,\n",
    "                      s_6: T.Scalar,\n",
    "                      s_7: T.Scalar,\n",
    "                      s_8: T.Scalar) -> T.Scalar :\n",
    "    return a_0*t + s_5*t**5 + s_6*t**6 + s_7*t**7 + s_8*t**8 + v_0 + t**2*(-280*T_A**9*s_8 - 189*T_A**8*s_7 - 108*T_A**7*s_6 - 42*T_A**6*s_5 - 378*T_A**2*a_0 + 126*T_A**2*a_A - 1512*T_A*v_0 - 1008*T_A*v_A + 2520*l_A)/(84*T_A**3) + t**3*(448*T_A**9*s_8 + 315*T_A**8*s_7 + 192*T_A**7*s_6 + 84*T_A**6*s_5 + 252*T_A**2*a_0 - 168*T_A**2*a_A + 1344*T_A*v_0 + 1176*T_A*v_A - 2520*l_A)/(42*T_A**4) + t**4*(-700*T_A**9*s_8 - 525*T_A**8*s_7 - 360*T_A**7*s_6 - 210*T_A**6*s_5 - 210*T_A**2*a_0 + 210*T_A**2*a_A - 1260*T_A*v_0 - 1260*T_A*v_A + 2520*l_A)/(84*T_A**5)\n",
    "\n",
    "def acc_function(t: T.Scalar,\n",
    "                      v_0: T.Scalar,\n",
    "                      a_0: T.Scalar,\n",
    "                      v_A: T.Scalar,\n",
    "                      a_A: T.Scalar,\n",
    "                      T_A: T.Scalar,\n",
    "                      l_A: T.Scalar,\n",
    "                      s_5: T.Scalar,\n",
    "                      s_6: T.Scalar,\n",
    "                      s_7: T.Scalar,\n",
    "                      s_8: T.Scalar) -> T.Scalar :\n",
    "    return a_0 + 5*s_5*t**4 + 6*s_6*t**5 + 7*s_7*t**6 + 8*s_8*t**7 + t*(-280*T_A**9*s_8 - 189*T_A**8*s_7 - 108*T_A**7*s_6 - 42*T_A**6*s_5 - 378*T_A**2*a_0 + 126*T_A**2*a_A - 1512*T_A*v_0 - 1008*T_A*v_A + 2520*l_A)/(42*T_A**3) + t**2*(448*T_A**9*s_8 + 315*T_A**8*s_7 + 192*T_A**7*s_6 + 84*T_A**6*s_5 + 252*T_A**2*a_0 - 168*T_A**2*a_A + 1344*T_A*v_0 + 1176*T_A*v_A - 2520*l_A)/(14*T_A**4) + t**3*(-700*T_A**9*s_8 - 525*T_A**8*s_7 - 360*T_A**7*s_6 - 210*T_A**6*s_5 - 210*T_A**2*a_0 + 210*T_A**2*a_A - 1260*T_A*v_0 - 1260*T_A*v_A + 2520*l_A)/(21*T_A**5)\n"
   ],
   "metadata": {
    "collapsed": false,
    "pycharm": {
     "name": "#%%\n"
    }
   }
  },
  {
   "cell_type": "code",
   "execution_count": 6,
   "outputs": [],
   "source": [
    "def velocity_min_max_residual(t: T.Scalar,\n",
    "                              v_0: T.Scalar,\n",
    "                              a_0: T.Scalar,\n",
    "                              v_A: T.Scalar,\n",
    "                              a_A: T.Scalar,\n",
    "                              T_A: T.Scalar,\n",
    "                              l_A: T.Scalar,\n",
    "                              s_5: T.Scalar,\n",
    "                              s_6: T.Scalar,\n",
    "                              s_7: T.Scalar,\n",
    "                              s_8: T.Scalar) -> geo.V1 :\n",
    "    return geo.V1(\n",
    "        min_max_linear_barrier(velocity_function(t, v_0, a_0, v_A, a_A, T_A, l_A, s_5, s_6, s_7, s_8), 0, v_0, 100, 0.1)\n",
    "    )\n",
    "\n",
    "def acc_residual(t: T.Scalar,\n",
    "                 v_0: T.Scalar,\n",
    "                 a_0: T.Scalar,\n",
    "                 v_A: T.Scalar,\n",
    "                 a_A: T.Scalar,\n",
    "                 T_A: T.Scalar,\n",
    "                 l_A: T.Scalar,\n",
    "                 s_5: T.Scalar,\n",
    "                 s_6: T.Scalar,\n",
    "                 s_7: T.Scalar,\n",
    "                 s_8: T.Scalar) -> geo.V1 :\n",
    "    return geo.V1(\n",
    "        max_linear_barrier(acc_function(t, v_0, a_0, v_A, a_A, T_A, l_A, s_5, s_6, s_7, s_8), 0, 100, 0.1)\n",
    "    )\n"
   ],
   "metadata": {
    "collapsed": false,
    "pycharm": {
     "name": "#%%\n"
    }
   }
  },
  {
   "cell_type": "code",
   "execution_count": 7,
   "outputs": [],
   "source": [
    "factors = []\n",
    "\n",
    "num_constraint = 20\n",
    "for i in range(num_constraint):\n",
    "    factors.append(\n",
    "        Factor(\n",
    "            # residual=velocity_min_max_residual,\n",
    "            residual=acc_residual,\n",
    "            keys=[\"times[{}]\".format(i),\n",
    "                  \"v_0\", \"a_0\",\n",
    "                  \"v_A\", \"a_A\",\n",
    "                  \"T_A\", \"l_A\", \"s_5\", \"s_6\", \"s_7\", \"s_8\"],\n",
    "        )\n",
    "    )\n",
    "\n",
    "    factors.append(\n",
    "        Factor(\n",
    "            residual=velocity_min_max_residual,\n",
    "            # residual=acc_residual,\n",
    "            keys=[\"times[{}]\".format(i),\n",
    "                  \"v_0\", \"a_0\",\n",
    "                  \"v_A\", \"a_A\",\n",
    "                  \"T_A\", \"l_A\", \"s_5\", \"s_6\", \"s_7\", \"s_8\"],\n",
    "        )\n",
    "    )"
   ],
   "metadata": {
    "collapsed": false,
    "pycharm": {
     "name": "#%%\n"
    }
   }
  },
  {
   "cell_type": "code",
   "execution_count": 8,
   "outputs": [],
   "source": [
    "optimizer = Optimizer(\n",
    "    factors=factors,\n",
    "    optimized_keys=[\"s_5\", \"s_6\", \"s_7\", \"s_8\"],\n",
    "    debug_stats=True,\n",
    ")"
   ],
   "metadata": {
    "collapsed": false,
    "pycharm": {
     "name": "#%%\n"
    }
   }
  },
  {
   "cell_type": "code",
   "execution_count": 9,
   "outputs": [
    {
     "name": "stdout",
     "output_type": "stream",
     "text": [
      "Optimizer.Result(initial_values=Values(\n",
      "  times: [1.0, 1.5789473684210527, 2.1578947368421053, 2.736842105263158, 3.3157894736842106, 3.8947368421052633, 4.473684210526316, 5.052631578947368, 5.631578947368421, 6.210526315789474, 6.7894736842105265, 7.368421052631579, 7.947368421052632, 8.526315789473685, 9.105263157894736, 9.68421052631579, 10.263157894736842, 10.842105263157896, 11.421052631578949, 12.0],\n",
      "  v_0: 0.8,\n",
      "  a_0: 0,\n",
      "  v_A: 0,\n",
      "  a_A: -1.9600000000000002,\n",
      "  T_A: 13,\n",
      "  l_A: 20,\n",
      "  s_5: 0,\n",
      "  s_6: 0,\n",
      "  s_7: 0,\n",
      "  s_8: 0,\n",
      "), optimized_values=Values(\n",
      "  times: [1.0, 1.5789473684210527, 2.1578947368421053, 2.736842105263158, 3.3157894736842106, 3.8947368421052633, 4.473684210526316, 5.052631578947368, 5.631578947368421, 6.210526315789474, 6.7894736842105265, 7.368421052631579, 7.947368421052632, 8.526315789473685, 9.105263157894736, 9.68421052631579, 10.263157894736842, 10.842105263157896, 11.421052631578949, 12.0],\n",
      "  v_0: 0.8,\n",
      "  a_0: 0.0,\n",
      "  v_A: 0.0,\n",
      "  a_A: -1.9600000000000002,\n",
      "  T_A: 13.0,\n",
      "  l_A: 20.0,\n",
      "  s_5: -0.03690561848700064,\n",
      "  s_6: 0.0032531652141351243,\n",
      "  s_7: -0.00014824411663787675,\n",
      "  s_8: 2.724821302224599e-06,\n",
      "), iteration_stats=[optimization_iteration_t(iteration=-1, current_lambda=1.0, new_error_linear=0.0, new_error=14770624.0, relative_reduction=0.0, update_accepted=False, update_angle_change=0.0, values=values_t(index=index_t(storage_dim=30, tangent_dim=30, entries=[index_entry_t(key=key_t(letter=120, subscript=0, superscript=-9223372036854775808), type=type_t.SCALAR, offset=0, storage_dim=1, tangent_dim=1), index_entry_t(key=key_t(letter=120, subscript=1, superscript=-9223372036854775808), type=type_t.SCALAR, offset=1, storage_dim=1, tangent_dim=1), index_entry_t(key=key_t(letter=120, subscript=2, superscript=-9223372036854775808), type=type_t.SCALAR, offset=2, storage_dim=1, tangent_dim=1), index_entry_t(key=key_t(letter=120, subscript=3, superscript=-9223372036854775808), type=type_t.SCALAR, offset=3, storage_dim=1, tangent_dim=1), index_entry_t(key=key_t(letter=118, subscript=0, superscript=-9223372036854775808), type=type_t.SCALAR, offset=4, storage_dim=1, tangent_dim=1), index_entry_t(key=key_t(letter=118, subscript=1, superscript=-9223372036854775808), type=type_t.SCALAR, offset=5, storage_dim=1, tangent_dim=1), index_entry_t(key=key_t(letter=118, subscript=2, superscript=-9223372036854775808), type=type_t.SCALAR, offset=6, storage_dim=1, tangent_dim=1), index_entry_t(key=key_t(letter=118, subscript=3, superscript=-9223372036854775808), type=type_t.SCALAR, offset=7, storage_dim=1, tangent_dim=1), index_entry_t(key=key_t(letter=118, subscript=4, superscript=-9223372036854775808), type=type_t.SCALAR, offset=8, storage_dim=1, tangent_dim=1), index_entry_t(key=key_t(letter=118, subscript=5, superscript=-9223372036854775808), type=type_t.SCALAR, offset=9, storage_dim=1, tangent_dim=1), index_entry_t(key=key_t(letter=118, subscript=6, superscript=-9223372036854775808), type=type_t.SCALAR, offset=10, storage_dim=1, tangent_dim=1), index_entry_t(key=key_t(letter=118, subscript=7, superscript=-9223372036854775808), type=type_t.SCALAR, offset=11, storage_dim=1, tangent_dim=1), index_entry_t(key=key_t(letter=118, subscript=8, superscript=-9223372036854775808), type=type_t.SCALAR, offset=12, storage_dim=1, tangent_dim=1), index_entry_t(key=key_t(letter=118, subscript=9, superscript=-9223372036854775808), type=type_t.SCALAR, offset=13, storage_dim=1, tangent_dim=1), index_entry_t(key=key_t(letter=118, subscript=10, superscript=-9223372036854775808), type=type_t.SCALAR, offset=14, storage_dim=1, tangent_dim=1), index_entry_t(key=key_t(letter=118, subscript=11, superscript=-9223372036854775808), type=type_t.SCALAR, offset=15, storage_dim=1, tangent_dim=1), index_entry_t(key=key_t(letter=118, subscript=12, superscript=-9223372036854775808), type=type_t.SCALAR, offset=16, storage_dim=1, tangent_dim=1), index_entry_t(key=key_t(letter=118, subscript=13, superscript=-9223372036854775808), type=type_t.SCALAR, offset=17, storage_dim=1, tangent_dim=1), index_entry_t(key=key_t(letter=118, subscript=14, superscript=-9223372036854775808), type=type_t.SCALAR, offset=18, storage_dim=1, tangent_dim=1), index_entry_t(key=key_t(letter=118, subscript=15, superscript=-9223372036854775808), type=type_t.SCALAR, offset=19, storage_dim=1, tangent_dim=1), index_entry_t(key=key_t(letter=118, subscript=16, superscript=-9223372036854775808), type=type_t.SCALAR, offset=20, storage_dim=1, tangent_dim=1), index_entry_t(key=key_t(letter=118, subscript=17, superscript=-9223372036854775808), type=type_t.SCALAR, offset=21, storage_dim=1, tangent_dim=1), index_entry_t(key=key_t(letter=118, subscript=18, superscript=-9223372036854775808), type=type_t.SCALAR, offset=22, storage_dim=1, tangent_dim=1), index_entry_t(key=key_t(letter=118, subscript=19, superscript=-9223372036854775808), type=type_t.SCALAR, offset=23, storage_dim=1, tangent_dim=1), index_entry_t(key=key_t(letter=118, subscript=20, superscript=-9223372036854775808), type=type_t.SCALAR, offset=24, storage_dim=1, tangent_dim=1), index_entry_t(key=key_t(letter=118, subscript=21, superscript=-9223372036854775808), type=type_t.SCALAR, offset=25, storage_dim=1, tangent_dim=1), index_entry_t(key=key_t(letter=118, subscript=22, superscript=-9223372036854775808), type=type_t.SCALAR, offset=26, storage_dim=1, tangent_dim=1), index_entry_t(key=key_t(letter=118, subscript=23, superscript=-9223372036854775808), type=type_t.SCALAR, offset=27, storage_dim=1, tangent_dim=1), index_entry_t(key=key_t(letter=118, subscript=24, superscript=-9223372036854775808), type=type_t.SCALAR, offset=28, storage_dim=1, tangent_dim=1), index_entry_t(key=key_t(letter=118, subscript=25, superscript=-9223372036854775808), type=type_t.SCALAR, offset=29, storage_dim=1, tangent_dim=1)]), data=(0.0, 0.0, 0.0, 0.0, 1.0, 1.5789473684210527, 2.1578947368421053, 2.736842105263158, 3.3157894736842106, 3.8947368421052633, 4.473684210526316, 5.052631578947368, 5.631578947368421, 6.210526315789474, 6.7894736842105265, 7.368421052631579, 7.947368421052632, 8.526315789473685, 9.105263157894736, 9.68421052631579, 10.263157894736842, 10.842105263157896, 11.421052631578949, 12.0, 0.8, 0.0, 0.0, -1.9600000000000002, 13.0, 20.0)), residual=VectorXf(rows=40, data=(67.42184448242188, 76.731689453125, 82.75899505615234, 61.27299118041992, 117.18895721435547, 60.452999114990234, 165.8938446044922, 83.93080139160156, 224.05580139160156, 138.57618713378906, 286.85693359375, 228.46963500976562, 349.4793395996094, 354.90234375, 407.10516357421875, 516.376220703125, 454.91650390625, 708.603759765625, 488.09552001953125, 924.5083618164062, 501.8243103027344, 1154.2239990234375, 491.28497314453125, 1385.0953369140625, 451.6596374511719, 1601.677734375, 378.13043212890625, 1785.7373046875, 265.8794860839844, 1916.2508544921875, 110.08889770507812, 1969.4058837890625, 0.0, 1918.6005859375, 0.0, 1734.44384765625, 0.0, 1384.7552490234375, 0.0, 834.5651245117188)), jacobian_values=VectorXf(rows=160, data=(-1308000.0, -792000.0, -1421628.875, -1600315.375, -1217052.0, -2376775.25, -802121.375, -2969025.75, -271207.3125, -3283251.25, 294801.3125, -3276369.25, 828497.125, -2948224.75, 1275954.125, -2333786.0, 1596727.875, -1495338.625, 1763855.625, -514680.96875, 1763855.625, 514680.96875, 1596727.875, 1495338.625, 1275954.125, 2333786.0, 828497.125, 2948224.75, 294801.3125, 3276369.25, -271207.3125, 3283251.25, -0.0, 2969025.75, -0.0, 2376775.25, -0.0, 1600315.375, -0.0, 792000.0, -46203428.0, -27401142.0, -52190428.0, -56499864.0, -47009872.0, -85677840.0, -33785200.0, -109381096.0, -15465303.0, -123815680.0, 5222302.5, -126833088.0, 25818318.0, -117788504.0, 44178484.0, -97372000.0, 58520408.0, -67412552.0, 67470408.0, -30655004.0, 70110328.0, 9490112.0, 66024368.0, 49223864.0, 55345936.0, 84663312.0, 38804456.0, 112173032.0, 17772200.0, 128723712.0, -5688867.0, 132277912.0, -0.0, 122202904.0, -0.0, 99710616.0, -0.0, 68324736.0, -0.0, 34374856.0, -1083113984.0, -634931968.0, -1252128640.0, -1324845184.0, -1164266368.0, -2035197056.0, -882336896.0, -2635500032.0, -467800320.0, -3031273216.0, 20035552.0, -3163038208.0, 525007296.0, -3004794880.0, 995277504.0, -2561868288.0, 1384706688.0, -1868015744.0, 1654414336.0, -981685696.0, 1774530560.0, 18683076.0, 1726136832.0, 1040430400.0, 1503396608.0, 1983623040.0, 1115876480.0, 2749290752.0, 591055872.0, 3249061632.0, -22972474.0, 3416304640.0, -0.0, 3218892288.0, -0.0, 2673688320.0, -0.0, 1862876800.0, -0.0, 952236032.0, -21249376256.0, -12366912512.0, -24934776832.0, -26001186816.0, -23677095936.0, -40284852224.0, -18580242432.0, -52675928064.0, -10739992576.0, -61269487616.0, -1235959424.0, -64790806528.0, 8880611328.0, -62582677504.0, 18604060672.0, -54584295424.0, 26997454848.0, -41298440192.0, 33222526976.0, -23743401984.0, 36577267712.0, -3385342464.0, 36542087168.0, 17953505280.0, 32835401728.0, 38216065024.0, 25479518208.0, 55266770944.0, 14877716480.0, 67089244160.0, 1903396096.0, 72032075776.0, -0.0, 69109882880.0, -0.0, 58367488000.0, -0.0, 41315348480.0, -0.0, 21445152768.0))), optimization_iteration_t(iteration=0, current_lambda=1.0, new_error_linear=9320444.0, new_error=9375016.0, relative_reduction=0.36529314517974854, update_accepted=True, update_angle_change=0.0, values=values_t(index=index_t(storage_dim=30, tangent_dim=30, entries=[index_entry_t(key=key_t(letter=120, subscript=0, superscript=-9223372036854775808), type=type_t.SCALAR, offset=0, storage_dim=1, tangent_dim=1), index_entry_t(key=key_t(letter=120, subscript=1, superscript=-9223372036854775808), type=type_t.SCALAR, offset=1, storage_dim=1, tangent_dim=1), index_entry_t(key=key_t(letter=120, subscript=2, superscript=-9223372036854775808), type=type_t.SCALAR, offset=2, storage_dim=1, tangent_dim=1), index_entry_t(key=key_t(letter=120, subscript=3, superscript=-9223372036854775808), type=type_t.SCALAR, offset=3, storage_dim=1, tangent_dim=1), index_entry_t(key=key_t(letter=118, subscript=0, superscript=-9223372036854775808), type=type_t.SCALAR, offset=4, storage_dim=1, tangent_dim=1), index_entry_t(key=key_t(letter=118, subscript=1, superscript=-9223372036854775808), type=type_t.SCALAR, offset=5, storage_dim=1, tangent_dim=1), index_entry_t(key=key_t(letter=118, subscript=2, superscript=-9223372036854775808), type=type_t.SCALAR, offset=6, storage_dim=1, tangent_dim=1), index_entry_t(key=key_t(letter=118, subscript=3, superscript=-9223372036854775808), type=type_t.SCALAR, offset=7, storage_dim=1, tangent_dim=1), index_entry_t(key=key_t(letter=118, subscript=4, superscript=-9223372036854775808), type=type_t.SCALAR, offset=8, storage_dim=1, tangent_dim=1), index_entry_t(key=key_t(letter=118, subscript=5, superscript=-9223372036854775808), type=type_t.SCALAR, offset=9, storage_dim=1, tangent_dim=1), index_entry_t(key=key_t(letter=118, subscript=6, superscript=-9223372036854775808), type=type_t.SCALAR, offset=10, storage_dim=1, tangent_dim=1), index_entry_t(key=key_t(letter=118, subscript=7, superscript=-9223372036854775808), type=type_t.SCALAR, offset=11, storage_dim=1, tangent_dim=1), index_entry_t(key=key_t(letter=118, subscript=8, superscript=-9223372036854775808), type=type_t.SCALAR, offset=12, storage_dim=1, tangent_dim=1), index_entry_t(key=key_t(letter=118, subscript=9, superscript=-9223372036854775808), type=type_t.SCALAR, offset=13, storage_dim=1, tangent_dim=1), index_entry_t(key=key_t(letter=118, subscript=10, superscript=-9223372036854775808), type=type_t.SCALAR, offset=14, storage_dim=1, tangent_dim=1), index_entry_t(key=key_t(letter=118, subscript=11, superscript=-9223372036854775808), type=type_t.SCALAR, offset=15, storage_dim=1, tangent_dim=1), index_entry_t(key=key_t(letter=118, subscript=12, superscript=-9223372036854775808), type=type_t.SCALAR, offset=16, storage_dim=1, tangent_dim=1), index_entry_t(key=key_t(letter=118, subscript=13, superscript=-9223372036854775808), type=type_t.SCALAR, offset=17, storage_dim=1, tangent_dim=1), index_entry_t(key=key_t(letter=118, subscript=14, superscript=-9223372036854775808), type=type_t.SCALAR, offset=18, storage_dim=1, tangent_dim=1), index_entry_t(key=key_t(letter=118, subscript=15, superscript=-9223372036854775808), type=type_t.SCALAR, offset=19, storage_dim=1, tangent_dim=1), index_entry_t(key=key_t(letter=118, subscript=16, superscript=-9223372036854775808), type=type_t.SCALAR, offset=20, storage_dim=1, tangent_dim=1), index_entry_t(key=key_t(letter=118, subscript=17, superscript=-9223372036854775808), type=type_t.SCALAR, offset=21, storage_dim=1, tangent_dim=1), index_entry_t(key=key_t(letter=118, subscript=18, superscript=-9223372036854775808), type=type_t.SCALAR, offset=22, storage_dim=1, tangent_dim=1), index_entry_t(key=key_t(letter=118, subscript=19, superscript=-9223372036854775808), type=type_t.SCALAR, offset=23, storage_dim=1, tangent_dim=1), index_entry_t(key=key_t(letter=118, subscript=20, superscript=-9223372036854775808), type=type_t.SCALAR, offset=24, storage_dim=1, tangent_dim=1), index_entry_t(key=key_t(letter=118, subscript=21, superscript=-9223372036854775808), type=type_t.SCALAR, offset=25, storage_dim=1, tangent_dim=1), index_entry_t(key=key_t(letter=118, subscript=22, superscript=-9223372036854775808), type=type_t.SCALAR, offset=26, storage_dim=1, tangent_dim=1), index_entry_t(key=key_t(letter=118, subscript=23, superscript=-9223372036854775808), type=type_t.SCALAR, offset=27, storage_dim=1, tangent_dim=1), index_entry_t(key=key_t(letter=118, subscript=24, superscript=-9223372036854775808), type=type_t.SCALAR, offset=28, storage_dim=1, tangent_dim=1), index_entry_t(key=key_t(letter=118, subscript=25, superscript=-9223372036854775808), type=type_t.SCALAR, offset=29, storage_dim=1, tangent_dim=1)]), data=(-0.04105362089778854, 0.0036689527012106283, -0.00016920823268806227, 3.1442590454358223e-06, 1.0, 1.5789473684210527, 2.1578947368421053, 2.736842105263158, 3.3157894736842106, 3.8947368421052633, 4.473684210526316, 5.052631578947368, 5.631578947368421, 6.210526315789474, 6.7894736842105265, 7.368421052631579, 7.947368421052632, 8.526315789473685, 9.105263157894736, 9.68421052631579, 10.263157894736842, 10.842105263157896, 11.421052631578949, 12.0, 0.8, 0.0, 0.0, -1.9600000000000002, 13.0, 20.0)), residual=VectorXf(rows=40, data=(705.626953125, 608.6490478515625, 430.6419982910156, 884.9202880859375, 161.1163787841797, 993.8128051757812, 17.159116744995117, 980.64794921875, 2.9786109924316406, 923.2728271484375, 68.21947479248047, 883.7008666992188, 150.2513427734375, 889.6160278320312, 200.17356872558594, 935.5131225585938, 195.2994384765625, 994.8458862304688, 140.8840789794922, 1036.15576171875, 63.85960388183594, 1037.7547607421875, 1.3413991928100586, 997.1329956054688, 0.0, 932.8665161132812, 35.74892044067383, 878.3959350585938, 136.4522705078125, 868.650634765625, 243.8494415283203, 922.0907592773438, 284.02728271484375, 1022.3406372070312, 169.26365661621094, 1105.187255859375, 0.0, 1058.317138671875, 0.0, 742.7648315429688)), jacobian_values=VectorXf(rows=160, data=(-1308000.0, -792000.0, -1421628.875, -1600315.375, -1217052.0, -2376775.25, -802121.375, -2969025.75, -271207.3125, -3283251.25, 294801.3125, -3276369.25, 828497.125, -2948224.75, 1275954.125, -2333786.0, 1596727.875, -1495338.625, 1763855.625, -514680.96875, 1763855.625, 514680.96875, 1596727.875, 1495338.625, 0.0, 2333786.0, 828497.125, 2948224.75, 294801.3125, 3276369.25, -271207.3125, 3283251.25, -802121.375, 2969025.75, -1217052.0, 2376775.25, -0.0, 1600315.375, -0.0, 792000.0, -46203428.0, -27401142.0, -52190428.0, -56499864.0, -47009872.0, -85677840.0, -33785200.0, -109381096.0, -15465303.0, -123815680.0, 5222302.5, -126833088.0, 25818318.0, -117788504.0, 44178484.0, -97372000.0, 58520408.0, -67412552.0, 67470408.0, -30655004.0, 70110328.0, 9490112.0, 66024368.0, 49223864.0, 0.0, 84663312.0, 38804456.0, 112173032.0, 17772200.0, 128723712.0, -5688867.0, 132277912.0, -28780270.0, 122202904.0, -47920188.0, 99710616.0, -0.0, 68324736.0, -0.0, 34374856.0, -1083113984.0, -634931968.0, -1252128640.0, -1324845184.0, -1164266368.0, -2035197056.0, -882336896.0, -2635500032.0, -467800320.0, -3031273216.0, 20035552.0, -3163038208.0, 525007296.0, -3004794880.0, 995277504.0, -2561868288.0, 1384706688.0, -1868015744.0, 1654414336.0, -981685696.0, 1774530560.0, 18683076.0, 1726136832.0, 1040430400.0, 0.0, 1983623040.0, 1115876480.0, 2749290752.0, 591055872.0, 3249061632.0, -22972474.0, 3416304640.0, -654612608.0, 3218892288.0, -1205685760.0, 2673688320.0, -0.0, 1862876800.0, -0.0, 952236032.0, -21249376256.0, -12366912512.0, -24934776832.0, -26001186816.0, -23677095936.0, -40284852224.0, -18580242432.0, -52675928064.0, -10739992576.0, -61269487616.0, -1235959424.0, -64790806528.0, 8880611328.0, -62582677504.0, 18604060672.0, -54584295424.0, 26997454848.0, -41298440192.0, 33222526976.0, -23743401984.0, 36577267712.0, -3385342464.0, 36542087168.0, 17953505280.0, 0.0, 38216065024.0, 25479518208.0, 55266770944.0, 14877716480.0, 67089244160.0, 1903396096.0, 72032075776.0, -11997834240.0, 69109882880.0, -24692238336.0, 58367488000.0, -0.0, 41315348480.0, -0.0, 21445152768.0))), optimization_iteration_t(iteration=1, current_lambda=0.25, new_error_linear=9364036.0, new_error=9364123.0, relative_reduction=0.0011619852157309651, update_accepted=True, update_angle_change=0.0, values=values_t(index=index_t(storage_dim=30, tangent_dim=30, entries=[index_entry_t(key=key_t(letter=120, subscript=0, superscript=-9223372036854775808), type=type_t.SCALAR, offset=0, storage_dim=1, tangent_dim=1), index_entry_t(key=key_t(letter=120, subscript=1, superscript=-9223372036854775808), type=type_t.SCALAR, offset=1, storage_dim=1, tangent_dim=1), index_entry_t(key=key_t(letter=120, subscript=2, superscript=-9223372036854775808), type=type_t.SCALAR, offset=2, storage_dim=1, tangent_dim=1), index_entry_t(key=key_t(letter=120, subscript=3, superscript=-9223372036854775808), type=type_t.SCALAR, offset=3, storage_dim=1, tangent_dim=1), index_entry_t(key=key_t(letter=118, subscript=0, superscript=-9223372036854775808), type=type_t.SCALAR, offset=4, storage_dim=1, tangent_dim=1), index_entry_t(key=key_t(letter=118, subscript=1, superscript=-9223372036854775808), type=type_t.SCALAR, offset=5, storage_dim=1, tangent_dim=1), index_entry_t(key=key_t(letter=118, subscript=2, superscript=-9223372036854775808), type=type_t.SCALAR, offset=6, storage_dim=1, tangent_dim=1), index_entry_t(key=key_t(letter=118, subscript=3, superscript=-9223372036854775808), type=type_t.SCALAR, offset=7, storage_dim=1, tangent_dim=1), index_entry_t(key=key_t(letter=118, subscript=4, superscript=-9223372036854775808), type=type_t.SCALAR, offset=8, storage_dim=1, tangent_dim=1), index_entry_t(key=key_t(letter=118, subscript=5, superscript=-9223372036854775808), type=type_t.SCALAR, offset=9, storage_dim=1, tangent_dim=1), index_entry_t(key=key_t(letter=118, subscript=6, superscript=-9223372036854775808), type=type_t.SCALAR, offset=10, storage_dim=1, tangent_dim=1), index_entry_t(key=key_t(letter=118, subscript=7, superscript=-9223372036854775808), type=type_t.SCALAR, offset=11, storage_dim=1, tangent_dim=1), index_entry_t(key=key_t(letter=118, subscript=8, superscript=-9223372036854775808), type=type_t.SCALAR, offset=12, storage_dim=1, tangent_dim=1), index_entry_t(key=key_t(letter=118, subscript=9, superscript=-9223372036854775808), type=type_t.SCALAR, offset=13, storage_dim=1, tangent_dim=1), index_entry_t(key=key_t(letter=118, subscript=10, superscript=-9223372036854775808), type=type_t.SCALAR, offset=14, storage_dim=1, tangent_dim=1), index_entry_t(key=key_t(letter=118, subscript=11, superscript=-9223372036854775808), type=type_t.SCALAR, offset=15, storage_dim=1, tangent_dim=1), index_entry_t(key=key_t(letter=118, subscript=12, superscript=-9223372036854775808), type=type_t.SCALAR, offset=16, storage_dim=1, tangent_dim=1), index_entry_t(key=key_t(letter=118, subscript=13, superscript=-9223372036854775808), type=type_t.SCALAR, offset=17, storage_dim=1, tangent_dim=1), index_entry_t(key=key_t(letter=118, subscript=14, superscript=-9223372036854775808), type=type_t.SCALAR, offset=18, storage_dim=1, tangent_dim=1), index_entry_t(key=key_t(letter=118, subscript=15, superscript=-9223372036854775808), type=type_t.SCALAR, offset=19, storage_dim=1, tangent_dim=1), index_entry_t(key=key_t(letter=118, subscript=16, superscript=-9223372036854775808), type=type_t.SCALAR, offset=20, storage_dim=1, tangent_dim=1), index_entry_t(key=key_t(letter=118, subscript=17, superscript=-9223372036854775808), type=type_t.SCALAR, offset=21, storage_dim=1, tangent_dim=1), index_entry_t(key=key_t(letter=118, subscript=18, superscript=-9223372036854775808), type=type_t.SCALAR, offset=22, storage_dim=1, tangent_dim=1), index_entry_t(key=key_t(letter=118, subscript=19, superscript=-9223372036854775808), type=type_t.SCALAR, offset=23, storage_dim=1, tangent_dim=1), index_entry_t(key=key_t(letter=118, subscript=20, superscript=-9223372036854775808), type=type_t.SCALAR, offset=24, storage_dim=1, tangent_dim=1), index_entry_t(key=key_t(letter=118, subscript=21, superscript=-9223372036854775808), type=type_t.SCALAR, offset=25, storage_dim=1, tangent_dim=1), index_entry_t(key=key_t(letter=118, subscript=22, superscript=-9223372036854775808), type=type_t.SCALAR, offset=26, storage_dim=1, tangent_dim=1), index_entry_t(key=key_t(letter=118, subscript=23, superscript=-9223372036854775808), type=type_t.SCALAR, offset=27, storage_dim=1, tangent_dim=1), index_entry_t(key=key_t(letter=118, subscript=24, superscript=-9223372036854775808), type=type_t.SCALAR, offset=28, storage_dim=1, tangent_dim=1), index_entry_t(key=key_t(letter=118, subscript=25, superscript=-9223372036854775808), type=type_t.SCALAR, offset=29, storage_dim=1, tangent_dim=1)]), data=(-0.03681145721876032, 0.0032440062808712223, -0.00014779734099017817, 2.7161749788957767e-06, 1.0, 1.5789473684210527, 2.1578947368421053, 2.736842105263158, 3.3157894736842106, 3.8947368421052633, 4.473684210526316, 5.052631578947368, 5.631578947368421, 6.210526315789474, 6.7894736842105265, 7.368421052631579, 7.947368421052632, 8.526315789473685, 9.105263157894736, 9.68421052631579, 10.263157894736842, 10.842105263157896, 11.421052631578949, 12.0, 0.8, 0.0, 0.0, -1.9600000000000002, 13.0, 20.0)), residual=VectorXf(rows=40, data=(696.941162109375, 592.4906616210938, 442.9844665527344, 870.11376953125, 182.6656951904297, 989.5556640625, 33.613834381103516, 987.9811401367188, 5.995752334594727, 936.4456176757812, 57.68971633911133, 894.5181884765625, 132.69541931152344, 891.8789672851562, 185.1682586669922, 927.87744140625, 191.46533203125, 981.419677734375, 152.59078979492188, 1024.935791015625, 89.4279556274414, 1037.55908203125, 33.14595031738281, 1014.0335083007812, 13.16815185546875, 967.2459106445312, 45.090213775634766, 923.6624145507812, 120.93507385253906, 912.3318481445312, 204.13258361816406, 949.4996948242188, 231.6112060546875, 1022.2586669921875, 125.38948822021484, 1076.045654296875, 0.0, 1012.174560546875, 0.0, 702.9799194335938)), jacobian_values=VectorXf(rows=160, data=(-1308000.0, -792000.0, -1421628.875, -1600315.375, -1217052.0, -2376775.25, -802121.375, -2969025.75, -271207.3125, -3283251.25, 294801.3125, -3276369.25, 828497.125, -2948224.75, 1275954.125, -2333786.0, 1596727.875, -1495338.625, 1763855.625, -514680.96875, 1763855.625, 514680.96875, 1596727.875, 1495338.625, 1275954.125, 2333786.0, 828497.125, 2948224.75, 294801.3125, 3276369.25, -271207.3125, 3283251.25, -802121.375, 2969025.75, -1217052.0, 2376775.25, -0.0, 1600315.375, -0.0, 792000.0, -46203428.0, -27401142.0, -52190428.0, -56499864.0, -47009872.0, -85677840.0, -33785200.0, -109381096.0, -15465303.0, -123815680.0, 5222302.5, -126833088.0, 25818318.0, -117788504.0, 44178484.0, -97372000.0, 58520408.0, -67412552.0, 67470408.0, -30655004.0, 70110328.0, 9490112.0, 66024368.0, 49223864.0, 55345936.0, 84663312.0, 38804456.0, 112173032.0, 17772200.0, 128723712.0, -5688867.0, 132277912.0, -28780270.0, 122202904.0, -47920188.0, 99710616.0, -0.0, 68324736.0, -0.0, 34374856.0, -1083113984.0, -634931968.0, -1252128640.0, -1324845184.0, -1164266368.0, -2035197056.0, -882336896.0, -2635500032.0, -467800320.0, -3031273216.0, 20035552.0, -3163038208.0, 525007296.0, -3004794880.0, 995277504.0, -2561868288.0, 1384706688.0, -1868015744.0, 1654414336.0, -981685696.0, 1774530560.0, 18683076.0, 1726136832.0, 1040430400.0, 1503396608.0, 1983623040.0, 1115876480.0, 2749290752.0, 591055872.0, 3249061632.0, -22972474.0, 3416304640.0, -654612608.0, 3218892288.0, -1205685760.0, 2673688320.0, -0.0, 1862876800.0, -0.0, 952236032.0, -21249376256.0, -12366912512.0, -24934776832.0, -26001186816.0, -23677095936.0, -40284852224.0, -18580242432.0, -52675928064.0, -10739992576.0, -61269487616.0, -1235959424.0, -64790806528.0, 8880611328.0, -62582677504.0, 18604060672.0, -54584295424.0, 26997454848.0, -41298440192.0, 33222526976.0, -23743401984.0, 36577267712.0, -3385342464.0, 36542087168.0, 17953505280.0, 32835401728.0, 38216065024.0, 25479518208.0, 55266770944.0, 14877716480.0, 67089244160.0, 1903396096.0, 72032075776.0, -11997834240.0, 69109882880.0, -24692238336.0, 58367488000.0, -0.0, 41315348480.0, -0.0, 21445152768.0))), optimization_iteration_t(iteration=2, current_lambda=0.0625, new_error_linear=9364116.0, new_error=9364116.0, relative_reduction=7.110126603038225e-07, update_accepted=True, update_angle_change=0.0, values=values_t(index=index_t(storage_dim=30, tangent_dim=30, entries=[index_entry_t(key=key_t(letter=120, subscript=0, superscript=-9223372036854775808), type=type_t.SCALAR, offset=0, storage_dim=1, tangent_dim=1), index_entry_t(key=key_t(letter=120, subscript=1, superscript=-9223372036854775808), type=type_t.SCALAR, offset=1, storage_dim=1, tangent_dim=1), index_entry_t(key=key_t(letter=120, subscript=2, superscript=-9223372036854775808), type=type_t.SCALAR, offset=2, storage_dim=1, tangent_dim=1), index_entry_t(key=key_t(letter=120, subscript=3, superscript=-9223372036854775808), type=type_t.SCALAR, offset=3, storage_dim=1, tangent_dim=1), index_entry_t(key=key_t(letter=118, subscript=0, superscript=-9223372036854775808), type=type_t.SCALAR, offset=4, storage_dim=1, tangent_dim=1), index_entry_t(key=key_t(letter=118, subscript=1, superscript=-9223372036854775808), type=type_t.SCALAR, offset=5, storage_dim=1, tangent_dim=1), index_entry_t(key=key_t(letter=118, subscript=2, superscript=-9223372036854775808), type=type_t.SCALAR, offset=6, storage_dim=1, tangent_dim=1), index_entry_t(key=key_t(letter=118, subscript=3, superscript=-9223372036854775808), type=type_t.SCALAR, offset=7, storage_dim=1, tangent_dim=1), index_entry_t(key=key_t(letter=118, subscript=4, superscript=-9223372036854775808), type=type_t.SCALAR, offset=8, storage_dim=1, tangent_dim=1), index_entry_t(key=key_t(letter=118, subscript=5, superscript=-9223372036854775808), type=type_t.SCALAR, offset=9, storage_dim=1, tangent_dim=1), index_entry_t(key=key_t(letter=118, subscript=6, superscript=-9223372036854775808), type=type_t.SCALAR, offset=10, storage_dim=1, tangent_dim=1), index_entry_t(key=key_t(letter=118, subscript=7, superscript=-9223372036854775808), type=type_t.SCALAR, offset=11, storage_dim=1, tangent_dim=1), index_entry_t(key=key_t(letter=118, subscript=8, superscript=-9223372036854775808), type=type_t.SCALAR, offset=12, storage_dim=1, tangent_dim=1), index_entry_t(key=key_t(letter=118, subscript=9, superscript=-9223372036854775808), type=type_t.SCALAR, offset=13, storage_dim=1, tangent_dim=1), index_entry_t(key=key_t(letter=118, subscript=10, superscript=-9223372036854775808), type=type_t.SCALAR, offset=14, storage_dim=1, tangent_dim=1), index_entry_t(key=key_t(letter=118, subscript=11, superscript=-9223372036854775808), type=type_t.SCALAR, offset=15, storage_dim=1, tangent_dim=1), index_entry_t(key=key_t(letter=118, subscript=12, superscript=-9223372036854775808), type=type_t.SCALAR, offset=16, storage_dim=1, tangent_dim=1), index_entry_t(key=key_t(letter=118, subscript=13, superscript=-9223372036854775808), type=type_t.SCALAR, offset=17, storage_dim=1, tangent_dim=1), index_entry_t(key=key_t(letter=118, subscript=14, superscript=-9223372036854775808), type=type_t.SCALAR, offset=18, storage_dim=1, tangent_dim=1), index_entry_t(key=key_t(letter=118, subscript=15, superscript=-9223372036854775808), type=type_t.SCALAR, offset=19, storage_dim=1, tangent_dim=1), index_entry_t(key=key_t(letter=118, subscript=16, superscript=-9223372036854775808), type=type_t.SCALAR, offset=20, storage_dim=1, tangent_dim=1), index_entry_t(key=key_t(letter=118, subscript=17, superscript=-9223372036854775808), type=type_t.SCALAR, offset=21, storage_dim=1, tangent_dim=1), index_entry_t(key=key_t(letter=118, subscript=18, superscript=-9223372036854775808), type=type_t.SCALAR, offset=22, storage_dim=1, tangent_dim=1), index_entry_t(key=key_t(letter=118, subscript=19, superscript=-9223372036854775808), type=type_t.SCALAR, offset=23, storage_dim=1, tangent_dim=1), index_entry_t(key=key_t(letter=118, subscript=20, superscript=-9223372036854775808), type=type_t.SCALAR, offset=24, storage_dim=1, tangent_dim=1), index_entry_t(key=key_t(letter=118, subscript=21, superscript=-9223372036854775808), type=type_t.SCALAR, offset=25, storage_dim=1, tangent_dim=1), index_entry_t(key=key_t(letter=118, subscript=22, superscript=-9223372036854775808), type=type_t.SCALAR, offset=26, storage_dim=1, tangent_dim=1), index_entry_t(key=key_t(letter=118, subscript=23, superscript=-9223372036854775808), type=type_t.SCALAR, offset=27, storage_dim=1, tangent_dim=1), index_entry_t(key=key_t(letter=118, subscript=24, superscript=-9223372036854775808), type=type_t.SCALAR, offset=28, storage_dim=1, tangent_dim=1), index_entry_t(key=key_t(letter=118, subscript=25, superscript=-9223372036854775808), type=type_t.SCALAR, offset=29, storage_dim=1, tangent_dim=1)]), data=(-0.03690561848700064, 0.0032531652141351243, -0.00014824411663787675, 2.724821302224599e-06, 1.0, 1.5789473684210527, 2.1578947368421053, 2.736842105263158, 3.3157894736842106, 3.8947368421052633, 4.473684210526316, 5.052631578947368, 5.631578947368421, 6.210526315789474, 6.7894736842105265, 7.368421052631579, 7.947368421052632, 8.526315789473685, 9.105263157894736, 9.68421052631579, 10.263157894736842, 10.842105263157896, 11.421052631578949, 12.0, 0.8, 0.0, 0.0, -1.9600000000000002, 13.0, 20.0)), residual=VectorXf(rows=40, data=(697.1099853515625, 592.844970703125, 442.6646423339844, 870.4168701171875, 182.15061950683594, 989.5988159179688, 33.2620849609375, 987.75830078125, 6.027639389038086, 936.1243286132812, 58.1236686706543, 894.3356323242188, 133.37551879882812, 892.0296020507812, 185.84156799316406, 928.4329223632812, 191.87545776367188, 982.2998657226562, 152.5615692138672, 1025.9317626953125, 88.91871643066406, 1038.3974609375, 32.26763153076172, 1014.46142578125, 12.156932830810547, 967.11328125, 44.24299240112305, 922.9773559570312, 120.5187759399414, 911.2703857421875, 204.28677368164062, 948.3600463867188, 232.271240234375, 1021.3634643554688, 126.2647933959961, 1075.6136474609375, 0.0, 1012.2064208984375, 0.0, 703.2271118164062)), jacobian_values=VectorXf(rows=160, data=(-1308000.0, -792000.0, -1421628.875, -1600315.375, -1217052.0, -2376775.25, -802121.375, -2969025.75, -271207.3125, -3283251.25, 294801.3125, -3276369.25, 828497.125, -2948224.75, 1275954.125, -2333786.0, 1596727.875, -1495338.625, 1763855.625, -514680.96875, 1763855.625, 514680.96875, 1596727.875, 1495338.625, 1275954.125, 2333786.0, 828497.125, 2948224.75, 294801.3125, 3276369.25, -271207.3125, 3283251.25, -802121.375, 2969025.75, -1217052.0, 2376775.25, -0.0, 1600315.375, -0.0, 792000.0, -46203428.0, -27401142.0, -52190428.0, -56499864.0, -47009872.0, -85677840.0, -33785200.0, -109381096.0, -15465303.0, -123815680.0, 5222302.5, -126833088.0, 25818318.0, -117788504.0, 44178484.0, -97372000.0, 58520408.0, -67412552.0, 67470408.0, -30655004.0, 70110328.0, 9490112.0, 66024368.0, 49223864.0, 55345936.0, 84663312.0, 38804456.0, 112173032.0, 17772200.0, 128723712.0, -5688867.0, 132277912.0, -28780270.0, 122202904.0, -47920188.0, 99710616.0, -0.0, 68324736.0, -0.0, 34374856.0, -1083113984.0, -634931968.0, -1252128640.0, -1324845184.0, -1164266368.0, -2035197056.0, -882336896.0, -2635500032.0, -467800320.0, -3031273216.0, 20035552.0, -3163038208.0, 525007296.0, -3004794880.0, 995277504.0, -2561868288.0, 1384706688.0, -1868015744.0, 1654414336.0, -981685696.0, 1774530560.0, 18683076.0, 1726136832.0, 1040430400.0, 1503396608.0, 1983623040.0, 1115876480.0, 2749290752.0, 591055872.0, 3249061632.0, -22972474.0, 3416304640.0, -654612608.0, 3218892288.0, -1205685760.0, 2673688320.0, -0.0, 1862876800.0, -0.0, 952236032.0, -21249376256.0, -12366912512.0, -24934776832.0, -26001186816.0, -23677095936.0, -40284852224.0, -18580242432.0, -52675928064.0, -10739992576.0, -61269487616.0, -1235959424.0, -64790806528.0, 8880611328.0, -62582677504.0, 18604060672.0, -54584295424.0, 26997454848.0, -41298440192.0, 33222526976.0, -23743401984.0, 36577267712.0, -3385342464.0, 36542087168.0, 17953505280.0, 32835401728.0, 38216065024.0, 25479518208.0, 55266770944.0, 14877716480.0, 67089244160.0, 1903396096.0, 72032075776.0, -11997834240.0, 69109882880.0, -24692238336.0, 58367488000.0, -0.0, 41315348480.0, -0.0, 21445152768.0)))], early_exited=True, best_index=3)\n"
     ]
    }
   ],
   "source": [
    "# initial_speed = 1.8\n",
    "# initial_a = -0.05 * 9.8\n",
    "# arrival_speed = 0\n",
    "# arrival_a = -0.05 * 9.8\n",
    "# drive_length = 20\n",
    "# arrival_time = 30\n",
    "\n",
    "initial_speed = 0.8\n",
    "initial_a = 0 #-0.05 * 9.8\n",
    "arrival_speed = 0\n",
    "arrival_a = -0.2 * 9.8\n",
    "drive_length = 20\n",
    "arrival_time = 13\n",
    "\n",
    "initial_values = Values(\n",
    "    times = list(np.linspace(1, arrival_time-1, num_constraint)),\n",
    "    v_0 = initial_speed,\n",
    "    a_0 = initial_a,\n",
    "    v_A = arrival_speed,\n",
    "    a_A = arrival_a,\n",
    "    T_A = arrival_time,\n",
    "    l_A = drive_length,\n",
    "    s_5 = 0,\n",
    "    s_6 = 0,\n",
    "    s_7 = 0,\n",
    "    s_8 = 0\n",
    ")\n",
    "\n",
    "result = optimizer.optimize(initial_values)\n",
    "print(result)"
   ],
   "metadata": {
    "collapsed": false,
    "pycharm": {
     "name": "#%%\n"
    }
   }
  },
  {
   "cell_type": "code",
   "execution_count": 10,
   "outputs": [
    {
     "name": "stdout",
     "output_type": "stream",
     "text": [
      "[1.0, 1.5789473684210527, 2.1578947368421053, 2.736842105263158, 3.3157894736842106, 3.8947368421052633, 4.473684210526316, 5.052631578947368, 5.631578947368421, 6.210526315789474, 6.7894736842105265, 7.368421052631579, 7.947368421052632, 8.526315789473685, 9.105263157894736, 9.68421052631579, 10.263157894736842, 10.842105263157896, 11.421052631578949, 12.0]\n"
     ]
    },
    {
     "data": {
      "text/plain": "<Figure size 432x288 with 1 Axes>",
      "image/png": "[encoded data removed]"
     },
     "metadata": {
      "needs_background": "light"
     },
     "output_type": "display_data"
    }
   ],
   "source": [
    "opt_s_5  = result.optimized_values[\"s_5\"]\n",
    "opt_s_6 = result.optimized_values[\"s_6\"]\n",
    "opt_s_7  = result.optimized_values[\"s_7\"]\n",
    "opt_s_8 = result.optimized_values[\"s_8\"]\n",
    "\n",
    "opt_t = np.linspace(0, arrival_time, 100)\n",
    "opt_v = [3600/1000 * velocity_function(c_t, initial_speed, initial_a, arrival_speed, arrival_a, arrival_time, drive_length, opt_s_5, opt_s_6, opt_s_7, opt_s_8) for c_t in opt_t]\n",
    "\n",
    "# plt.ylim([0, initial_speed])\n",
    "plt.plot(opt_t, opt_v)\n",
    "print(list(np.linspace(1, arrival_time-1, num_constraint)))"
   ],
   "metadata": {
    "collapsed": false,
    "pycharm": {
     "name": "#%%\n"
    }
   }
  },
  {
   "cell_type": "code",
   "execution_count": 11,
   "outputs": [
    {
     "name": "stdout",
     "output_type": "stream",
     "text": [
      "// -----------------------------------------------------------------------------\n",
      "// This file was autogenerated by symforce from template:\n",
      "//     cpp_templates/function/FUNCTION.h.jinja\n",
      "// Do NOT modify by hand.\n",
      "// -----------------------------------------------------------------------------\n",
      "\n",
      "#pragma once\n",
      "\n",
      "#include <Eigen/Dense>\n",
      "\n",
      "namespace sym {\n",
      "\n",
      "/**\n",
      " * This function was autogenerated from a symbolic function. Do not modify by hand.\n",
      " *\n",
      " * Symbolic function: velocity_min_max_residual\n",
      " *\n",
      " * Args:\n",
      " *     t: Scalar\n",
      " *     v_0: Scalar\n",
      " *     a_0: Scalar\n",
      " *     v_A: Scalar\n",
      " *     a_A: Scalar\n",
      " *     T_A: Scalar\n",
      " *     l_A: Scalar\n",
      " *     s_5: Scalar\n",
      " *     s_6: Scalar\n",
      " *     s_7: Scalar\n",
      " *     s_8: Scalar\n",
      " *\n",
      " * Outputs:\n",
      " *     res: Matrix11\n",
      " *     jacobian: (1x4) jacobian of res wrt args s_5 (1), s_6 (1), s_7 (1), s_8 (1)\n",
      " *     hessian: (4x4) Gauss-Newton hessian for args s_5 (1), s_6 (1), s_7 (1), s_8 (1)\n",
      " *     rhs: (4x1) Gauss-Newton rhs for args s_5 (1), s_6 (1), s_7 (1), s_8 (1)\n",
      " */\n",
      "template <typename Scalar>\n",
      "void VelocityMinMaxFactor(const Scalar t, const Scalar v_0, const Scalar a_0, const Scalar v_A,\n",
      "                          const Scalar a_A, const Scalar T_A, const Scalar l_A, const Scalar s_5,\n",
      "                          const Scalar s_6, const Scalar s_7, const Scalar s_8,\n",
      "                          Eigen::Matrix<Scalar, 1, 1>* const res = nullptr,\n",
      "                          Eigen::Matrix<Scalar, 1, 4>* const jacobian = nullptr,\n",
      "                          Eigen::Matrix<Scalar, 4, 4>* const hessian = nullptr,\n",
      "                          Eigen::Matrix<Scalar, 4, 1>* const rhs = nullptr) {\n",
      "  // Total ops: 184\n",
      "\n",
      "  // Input arrays\n",
      "\n",
      "  // Intermediate terms (36)\n",
      "  const Scalar _tmp0 = (Scalar(1) / Scalar(2)) * v_0;\n",
      "  const Scalar _tmp1 = std::pow(t, Scalar(5));\n",
      "  const Scalar _tmp2 = std::pow(t, Scalar(6));\n",
      "  const Scalar _tmp3 = std::pow(t, Scalar(7));\n",
      "  const Scalar _tmp4 = std::pow(t, Scalar(8));\n",
      "  const Scalar _tmp5 = std::pow(T_A, Scalar(5));\n",
      "  const Scalar _tmp6 = std::pow(t, Scalar(4));\n",
      "  const Scalar _tmp7 = -2520 * l_A;\n",
      "  const Scalar _tmp8 = T_A * v_0;\n",
      "  const Scalar _tmp9 = T_A * v_A;\n",
      "  const Scalar _tmp10 = std::pow(T_A, Scalar(2));\n",
      "  const Scalar _tmp11 = _tmp10 * a_0;\n",
      "  const Scalar _tmp12 = std::pow(T_A, Scalar(6));\n",
      "  const Scalar _tmp13 = _tmp12 * s_5;\n",
      "  const Scalar _tmp14 = std::pow(T_A, Scalar(7)) * s_6;\n",
      "  const Scalar _tmp15 = std::pow(T_A, Scalar(8)) * s_7;\n",
      "  const Scalar _tmp16 = std::pow(T_A, Scalar(9)) * s_8;\n",
      "  const Scalar _tmp17 = std::pow(T_A, Scalar(4));\n",
      "  const Scalar _tmp18 = [&]() {\n",
      "    const Scalar base = t;\n",
      "    return base * base * base;\n",
      "  }();\n",
      "  const Scalar _tmp19 = [&]() {\n",
      "    const Scalar base = T_A;\n",
      "    return base * base * base;\n",
      "  }();\n",
      "  const Scalar _tmp20 = std::pow(t, Scalar(2));\n",
      "  const Scalar _tmp21 = _tmp0 + _tmp1 * s_5 + _tmp2 * s_6 + _tmp3 * s_7 + _tmp4 * s_8 + a_0 * t +\n",
      "                        (Scalar(1) / Scalar(84)) * _tmp6 *\n",
      "                            (210 * _tmp10 * a_A - 210 * _tmp11 - 210 * _tmp13 - 360 * _tmp14 -\n",
      "                             525 * _tmp15 - 700 * _tmp16 - _tmp7 - 1260 * _tmp8 - 1260 * _tmp9) /\n",
      "                            _tmp5 +\n",
      "                        (Scalar(1) / Scalar(84)) * _tmp20 *\n",
      "                            (126 * _tmp10 * a_A - 378 * _tmp11 - 42 * _tmp13 - 108 * _tmp14 -\n",
      "                             189 * _tmp15 - 280 * _tmp16 - _tmp7 - 1512 * _tmp8 - 1008 * _tmp9) /\n",
      "                            _tmp19 +\n",
      "                        (Scalar(1) / Scalar(42)) * _tmp18 *\n",
      "                            (-168 * _tmp10 * a_A + 252 * _tmp11 + 84 * _tmp13 + 192 * _tmp14 +\n",
      "                             315 * _tmp15 + 448 * _tmp16 + _tmp7 + 1344 * _tmp8 + 1176 * _tmp9) /\n",
      "                            _tmp17;\n",
      "  const Scalar _tmp22 = -_tmp0 + std::fabs(_tmp21) + Scalar(0.10000000000000001);\n",
      "  const Scalar _tmp23 = std::max<Scalar>(0, _tmp22);\n",
      "  const Scalar _tmp24 = -Scalar(5) / Scalar(2) * T_A * _tmp6 + _tmp1 + 2 * _tmp10 * _tmp18 -\n",
      "                        Scalar(1) / Scalar(2) * _tmp19 * _tmp20;\n",
      "  const Scalar _tmp25 = Scalar(0.5) * ((((_tmp22) >= 0) - ((_tmp22) < 0)) + 1);\n",
      "  const Scalar _tmp26 = (((_tmp21) > 0) - ((_tmp21) < 0));\n",
      "  const Scalar _tmp27 = _tmp25 * _tmp26;\n",
      "  const Scalar _tmp28 = Scalar(1000.0) * _tmp27;\n",
      "  const Scalar _tmp29 = -Scalar(30) / Scalar(7) * _tmp10 * _tmp6 -\n",
      "                        Scalar(9) / Scalar(7) * _tmp17 * _tmp20 +\n",
      "                        (Scalar(32) / Scalar(7)) * _tmp18 * _tmp19 + _tmp2;\n",
      "  const Scalar _tmp30 = (Scalar(15) / Scalar(2)) * _tmp17 * _tmp18 -\n",
      "                        Scalar(25) / Scalar(4) * _tmp19 * _tmp6 -\n",
      "                        Scalar(9) / Scalar(4) * _tmp20 * _tmp5 + _tmp3;\n",
      "  const Scalar _tmp31 = -Scalar(10) / Scalar(3) * _tmp12 * _tmp20 -\n",
      "                        Scalar(25) / Scalar(3) * _tmp17 * _tmp6 +\n",
      "                        (Scalar(32) / Scalar(3)) * _tmp18 * _tmp5 + _tmp4;\n",
      "  const Scalar _tmp32 =\n",
      "      Scalar(1000000.0) * std::pow(_tmp25, Scalar(2)) * std::pow(_tmp26, Scalar(2));\n",
      "  const Scalar _tmp33 = _tmp24 * _tmp32;\n",
      "  const Scalar _tmp34 = _tmp29 * _tmp32;\n",
      "  const Scalar _tmp35 = Scalar(1000000.0) * _tmp23 * _tmp27;\n",
      "\n",
      "  // Output terms (4)\n",
      "  if (res != nullptr) {\n",
      "    Eigen::Matrix<Scalar, 1, 1>& _res = (*res);\n",
      "\n",
      "    _res(0, 0) = Scalar(1000.0) * _tmp23;\n",
      "  }\n",
      "\n",
      "  if (jacobian != nullptr) {\n",
      "    Eigen::Matrix<Scalar, 1, 4>& _jacobian = (*jacobian);\n",
      "\n",
      "    _jacobian(0, 0) = _tmp24 * _tmp28;\n",
      "    _jacobian(0, 1) = _tmp28 * _tmp29;\n",
      "    _jacobian(0, 2) = _tmp28 * _tmp30;\n",
      "    _jacobian(0, 3) = _tmp28 * _tmp31;\n",
      "  }\n",
      "\n",
      "  if (hessian != nullptr) {\n",
      "    Eigen::Matrix<Scalar, 4, 4>& _hessian = (*hessian);\n",
      "\n",
      "    _hessian(0, 0) = std::pow(_tmp24, Scalar(2)) * _tmp32;\n",
      "    _hessian(1, 0) = _tmp29 * _tmp33;\n",
      "    _hessian(2, 0) = _tmp30 * _tmp33;\n",
      "    _hessian(3, 0) = _tmp31 * _tmp33;\n",
      "    _hessian(0, 1) = 0;\n",
      "    _hessian(1, 1) = std::pow(_tmp29, Scalar(2)) * _tmp32;\n",
      "    _hessian(2, 1) = _tmp30 * _tmp34;\n",
      "    _hessian(3, 1) = _tmp31 * _tmp34;\n",
      "    _hessian(0, 2) = 0;\n",
      "    _hessian(1, 2) = 0;\n",
      "    _hessian(2, 2) = std::pow(_tmp30, Scalar(2)) * _tmp32;\n",
      "    _hessian(3, 2) = _tmp30 * _tmp31 * _tmp32;\n",
      "    _hessian(0, 3) = 0;\n",
      "    _hessian(1, 3) = 0;\n",
      "    _hessian(2, 3) = 0;\n",
      "    _hessian(3, 3) = std::pow(_tmp31, Scalar(2)) * _tmp32;\n",
      "  }\n",
      "\n",
      "  if (rhs != nullptr) {\n",
      "    Eigen::Matrix<Scalar, 4, 1>& _rhs = (*rhs);\n",
      "\n",
      "    _rhs(0, 0) = _tmp24 * _tmp35;\n",
      "    _rhs(1, 0) = _tmp29 * _tmp35;\n",
      "    _rhs(2, 0) = _tmp30 * _tmp35;\n",
      "    _rhs(3, 0) = _tmp31 * _tmp35;\n",
      "  }\n",
      "}  // NOLINT(readability/fn_size)\n",
      "\n",
      "// NOLINTNEXTLINE(readability/fn_size)\n",
      "}  // namespace sym\n",
      "\n"
     ]
    }
   ],
   "source": [
    "from symforce.codegen import Codegen, CppConfig\n",
    "\n",
    "codegen_velocity = Codegen.function(velocity_min_max_residual, config=CppConfig())\n",
    "codegen_velocity_linearization = codegen_velocity.with_linearization(\n",
    "    which_args=[\"s_5\", \"s_6\", \"s_7\", \"s_8\"]\n",
    ")\n",
    "metadata = codegen_velocity_linearization.generate_function()\n",
    "print(open(metadata.generated_files[0]).read())"
   ],
   "metadata": {
    "collapsed": false,
    "pycharm": {
     "name": "#%%\n"
    }
   }
  },
  {
   "cell_type": "code",
   "execution_count": 12,
   "outputs": [
    {
     "name": "stdout",
     "output_type": "stream",
     "text": [
      "// -----------------------------------------------------------------------------\n",
      "// This file was autogenerated by symforce from template:\n",
      "//     cpp_templates/function/FUNCTION.h.jinja\n",
      "// Do NOT modify by hand.\n",
      "// -----------------------------------------------------------------------------\n",
      "\n",
      "#pragma once\n",
      "\n",
      "#include <Eigen/Dense>\n",
      "\n",
      "namespace sym {\n",
      "\n",
      "/**\n",
      " * This function was autogenerated from a symbolic function. Do not modify by hand.\n",
      " *\n",
      " * Symbolic function: acc_residual\n",
      " *\n",
      " * Args:\n",
      " *     t: Scalar\n",
      " *     v_0: Scalar\n",
      " *     a_0: Scalar\n",
      " *     v_A: Scalar\n",
      " *     a_A: Scalar\n",
      " *     T_A: Scalar\n",
      " *     l_A: Scalar\n",
      " *     s_5: Scalar\n",
      " *     s_6: Scalar\n",
      " *     s_7: Scalar\n",
      " *     s_8: Scalar\n",
      " *\n",
      " * Outputs:\n",
      " *     res: Matrix11\n",
      " *     jacobian: (1x4) jacobian of res wrt args s_5 (1), s_6 (1), s_7 (1), s_8 (1)\n",
      " *     hessian: (4x4) Gauss-Newton hessian for args s_5 (1), s_6 (1), s_7 (1), s_8 (1)\n",
      " *     rhs: (4x1) Gauss-Newton rhs for args s_5 (1), s_6 (1), s_7 (1), s_8 (1)\n",
      " */\n",
      "template <typename Scalar>\n",
      "void AccFactor(const Scalar t, const Scalar v_0, const Scalar a_0, const Scalar v_A,\n",
      "               const Scalar a_A, const Scalar T_A, const Scalar l_A, const Scalar s_5,\n",
      "               const Scalar s_6, const Scalar s_7, const Scalar s_8,\n",
      "               Eigen::Matrix<Scalar, 1, 1>* const res = nullptr,\n",
      "               Eigen::Matrix<Scalar, 1, 4>* const jacobian = nullptr,\n",
      "               Eigen::Matrix<Scalar, 4, 4>* const hessian = nullptr,\n",
      "               Eigen::Matrix<Scalar, 4, 1>* const rhs = nullptr) {\n",
      "  // Total ops: 178\n",
      "\n",
      "  // Input arrays\n",
      "\n",
      "  // Intermediate terms (31)\n",
      "  const Scalar _tmp0 = std::pow(t, Scalar(4));\n",
      "  const Scalar _tmp1 = std::pow(t, Scalar(5));\n",
      "  const Scalar _tmp2 = std::pow(t, Scalar(6));\n",
      "  const Scalar _tmp3 = std::pow(t, Scalar(7));\n",
      "  const Scalar _tmp4 = [&]() {\n",
      "    const Scalar base = T_A;\n",
      "    return base * base * base;\n",
      "  }();\n",
      "  const Scalar _tmp5 = -2520 * l_A;\n",
      "  const Scalar _tmp6 = T_A * v_0;\n",
      "  const Scalar _tmp7 = T_A * v_A;\n",
      "  const Scalar _tmp8 = std::pow(T_A, Scalar(2));\n",
      "  const Scalar _tmp9 = _tmp8 * a_0;\n",
      "  const Scalar _tmp10 = std::pow(T_A, Scalar(6));\n",
      "  const Scalar _tmp11 = _tmp10 * s_5;\n",
      "  const Scalar _tmp12 = std::pow(T_A, Scalar(7)) * s_6;\n",
      "  const Scalar _tmp13 = std::pow(T_A, Scalar(8)) * s_7;\n",
      "  const Scalar _tmp14 = std::pow(T_A, Scalar(9)) * s_8;\n",
      "  const Scalar _tmp15 = std::pow(T_A, Scalar(5));\n",
      "  const Scalar _tmp16 = [&]() {\n",
      "    const Scalar base = t;\n",
      "    return base * base * base;\n",
      "  }();\n",
      "  const Scalar _tmp17 = std::pow(T_A, Scalar(4));\n",
      "  const Scalar _tmp18 = std::pow(t, Scalar(2));\n",
      "  const Scalar _tmp19 = 5 * _tmp0 * s_5 + 6 * _tmp1 * s_6 + 7 * _tmp2 * s_7 + 8 * _tmp3 * s_8 +\n",
      "                        a_0 + Scalar(0.10000000000000001) +\n",
      "                        (Scalar(1) / Scalar(42)) * t *\n",
      "                            (-42 * _tmp11 - 108 * _tmp12 - 189 * _tmp13 - 280 * _tmp14 - _tmp5 -\n",
      "                             1512 * _tmp6 - 1008 * _tmp7 + 126 * _tmp8 * a_A - 378 * _tmp9) /\n",
      "                            _tmp4 +\n",
      "                        (Scalar(1) / Scalar(14)) * _tmp18 *\n",
      "                            (84 * _tmp11 + 192 * _tmp12 + 315 * _tmp13 + 448 * _tmp14 + _tmp5 +\n",
      "                             1344 * _tmp6 + 1176 * _tmp7 - 168 * _tmp8 * a_A + 252 * _tmp9) /\n",
      "                            _tmp17 +\n",
      "                        (Scalar(1) / Scalar(21)) * _tmp16 *\n",
      "                            (-210 * _tmp11 - 360 * _tmp12 - 525 * _tmp13 - 700 * _tmp14 - _tmp5 -\n",
      "                             1260 * _tmp6 - 1260 * _tmp7 + 210 * _tmp8 * a_A - 210 * _tmp9) /\n",
      "                            _tmp15;\n",
      "  const Scalar _tmp20 = std::max<Scalar>(0, _tmp19);\n",
      "  const Scalar _tmp21 = -10 * T_A * _tmp16 + 5 * _tmp0 + 6 * _tmp18 * _tmp8 - _tmp4 * t;\n",
      "  const Scalar _tmp22 = Scalar(0.5) * ((((_tmp19) >= 0) - ((_tmp19) < 0)) + 1);\n",
      "  const Scalar _tmp23 = Scalar(1000.0) * _tmp22;\n",
      "  const Scalar _tmp24 = 6 * _tmp1 - Scalar(120) / Scalar(7) * _tmp16 * _tmp8 -\n",
      "                        Scalar(18) / Scalar(7) * _tmp17 * t +\n",
      "                        (Scalar(96) / Scalar(7)) * _tmp18 * _tmp4;\n",
      "  const Scalar _tmp25 = -Scalar(9) / Scalar(2) * _tmp15 * t - 25 * _tmp16 * _tmp4 +\n",
      "                        (Scalar(45) / Scalar(2)) * _tmp17 * _tmp18 + 7 * _tmp2;\n",
      "  const Scalar _tmp26 = -Scalar(20) / Scalar(3) * _tmp10 * t + 32 * _tmp15 * _tmp18 -\n",
      "                        Scalar(100) / Scalar(3) * _tmp16 * _tmp17 + 8 * _tmp3;\n",
      "  const Scalar _tmp27 = Scalar(1000000.0) * std::pow(_tmp22, Scalar(2));\n",
      "  const Scalar _tmp28 = _tmp21 * _tmp27;\n",
      "  const Scalar _tmp29 = _tmp24 * _tmp27;\n",
      "  const Scalar _tmp30 = Scalar(1000000.0) * _tmp20 * _tmp22;\n",
      "\n",
      "  // Output terms (4)\n",
      "  if (res != nullptr) {\n",
      "    Eigen::Matrix<Scalar, 1, 1>& _res = (*res);\n",
      "\n",
      "    _res(0, 0) = Scalar(1000.0) * _tmp20;\n",
      "  }\n",
      "\n",
      "  if (jacobian != nullptr) {\n",
      "    Eigen::Matrix<Scalar, 1, 4>& _jacobian = (*jacobian);\n",
      "\n",
      "    _jacobian(0, 0) = _tmp21 * _tmp23;\n",
      "    _jacobian(0, 1) = _tmp23 * _tmp24;\n",
      "    _jacobian(0, 2) = _tmp23 * _tmp25;\n",
      "    _jacobian(0, 3) = _tmp23 * _tmp26;\n",
      "  }\n",
      "\n",
      "  if (hessian != nullptr) {\n",
      "    Eigen::Matrix<Scalar, 4, 4>& _hessian = (*hessian);\n",
      "\n",
      "    _hessian(0, 0) = std::pow(_tmp21, Scalar(2)) * _tmp27;\n",
      "    _hessian(1, 0) = _tmp24 * _tmp28;\n",
      "    _hessian(2, 0) = _tmp25 * _tmp28;\n",
      "    _hessian(3, 0) = _tmp26 * _tmp28;\n",
      "    _hessian(0, 1) = 0;\n",
      "    _hessian(1, 1) = std::pow(_tmp24, Scalar(2)) * _tmp27;\n",
      "    _hessian(2, 1) = _tmp25 * _tmp29;\n",
      "    _hessian(3, 1) = _tmp26 * _tmp29;\n",
      "    _hessian(0, 2) = 0;\n",
      "    _hessian(1, 2) = 0;\n",
      "    _hessian(2, 2) = std::pow(_tmp25, Scalar(2)) * _tmp27;\n",
      "    _hessian(3, 2) = _tmp25 * _tmp26 * _tmp27;\n",
      "    _hessian(0, 3) = 0;\n",
      "    _hessian(1, 3) = 0;\n",
      "    _hessian(2, 3) = 0;\n",
      "    _hessian(3, 3) = std::pow(_tmp26, Scalar(2)) * _tmp27;\n",
      "  }\n",
      "\n",
      "  if (rhs != nullptr) {\n",
      "    Eigen::Matrix<Scalar, 4, 1>& _rhs = (*rhs);\n",
      "\n",
      "    _rhs(0, 0) = _tmp21 * _tmp30;\n",
      "    _rhs(1, 0) = _tmp24 * _tmp30;\n",
      "    _rhs(2, 0) = _tmp25 * _tmp30;\n",
      "    _rhs(3, 0) = _tmp26 * _tmp30;\n",
      "  }\n",
      "}  // NOLINT(readability/fn_size)\n",
      "\n",
      "// NOLINTNEXTLINE(readability/fn_size)\n",
      "}  // namespace sym\n",
      "\n"
     ]
    }
   ],
   "source": [
    "codegen_acc = Codegen.function(acc_residual, config=CppConfig())\n",
    "codegen_acc_linearization = codegen_acc.with_linearization(\n",
    "    which_args=[\"s_5\", \"s_6\", \"s_7\", \"s_8\"]\n",
    ")\n",
    "metadata_acc = codegen_acc_linearization.generate_function()\n",
    "print(open(metadata_acc.generated_files[0]).read())"
   ],
   "metadata": {
    "collapsed": false,
    "pycharm": {
     "name": "#%%\n"
    }
   }
  },
  {
   "cell_type": "code",
   "execution_count": 12,
   "outputs": [],
   "source": [],
   "metadata": {
    "collapsed": false,
    "pycharm": {
     "name": "#%%\n"
    }
   }
  }
 ],
 "metadata": {
  "kernelspec": {
   "display_name": "Python 3",
   "language": "python",
   "name": "python3"
  },
  "language_info": {
   "codemirror_mode": {
    "name": "ipython",
    "version": 2
   },
   "file_extension": ".py",
   "mimetype": "text/x-python",
   "name": "python",
   "nbconvert_exporter": "python",
   "pygments_lexer": "ipython2",
   "version": "2.7.6"
  }
 },
 "nbformat": 4,
 "nbformat_minor": 0
}