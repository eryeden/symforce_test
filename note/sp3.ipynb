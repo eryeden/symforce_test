{
 "cells": [
  {
   "cell_type": "code",
   "execution_count": 217,
   "outputs": [],
   "source": [
    "import numpy as np\n",
    "import symforce\n",
    "\n",
    "symforce.set_backend(\"sympy\")\n",
    "symforce.set_log_level(\"warning\")\n",
    "from symforce.notebook_util import display, print_expression_tree\n",
    "\n",
    "from symforce import sympy as sm\n",
    "from symforce import geo\n",
    "from symforce import typing as T\n",
    "from symforce.opt.factor import Factor\n",
    "from symforce.opt.optimizer import Optimizer\n",
    "from symforce.values import Values\n",
    "\n",
    "from symforce.opt.barrier_functions import (\n",
    "    min_max_power_barrier,\n",
    "    min_max_linear_barrier,\n",
    "    max_linear_barrier\n",
    ")\n",
    "\n",
    "import numpy as np\n",
    "import matplotlib.pyplot as plt"
   ],
   "metadata": {
    "collapsed": false,
    "pycharm": {
     "name": "#%%\n"
    }
   }
  },
  {
   "cell_type": "code",
   "execution_count": 218,
   "outputs": [],
   "source": [
    "t = sm.Symbol(\"t\")\n",
    "v_0 = sm.Symbol(\"v_0\")\n",
    "v_b = sm.Symbol(\"v_b\")\n",
    "T_0 = sm.Symbol(\"T_0\")\n",
    "T_a = sm.Symbol(\"T_a\")  # arrival time\n",
    "L = sm.Symbol(\"L\") # drive length\n",
    "a = sm.Symbol(\"a\")\n",
    "sl = sm.Symbol(\"sl\")"
   ],
   "metadata": {
    "collapsed": false,
    "pycharm": {
     "name": "#%%\n"
    }
   }
  },
  {
   "cell_type": "code",
   "execution_count": 219,
   "outputs": [
    {
     "data": {
      "text/plain": "-sl⋅t + 0.5⋅v₀ + 0.5⋅v_b + (-0.5⋅v₀ + 0.5⋅v_b)⋅tanh(a⋅(-T₀ + t))",
      "image/png": "[encoded data removed]",
      "text/latex": "$\\displaystyle - sl t + 0.5 v_{0} + 0.5 v_{b} + \\left(- 0.5 v_{0} + 0.5 v_{b}\\right) \\tanh{\\left(a \\left(- T_{0} + t\\right) \\right)}$"
     },
     "execution_count": 219,
     "metadata": {},
     "output_type": "execute_result"
    }
   ],
   "source": [
    "v = -1/2 * (v_0 - v_b) * sm.tanh(a * (t - T_0)) + (v_0 + v_b) * 0.5 - sl * t\n",
    "v"
   ],
   "metadata": {
    "collapsed": false,
    "pycharm": {
     "name": "#%%\n"
    }
   }
  },
  {
   "cell_type": "code",
   "execution_count": 220,
   "outputs": [
    {
     "data": {
      "text/plain": "  ⎛        2             ⎞                         \na⋅⎝1 - tanh (a⋅(-T₀ + t))⎠⋅(-0.5⋅v₀ + 0.5⋅v_b) - sl",
      "image/png": "[encoded data removed]",
      "text/latex": "$\\displaystyle a \\left(1 - \\tanh^{2}{\\left(a \\left(- T_{0} + t\\right) \\right)}\\right) \\left(- 0.5 v_{0} + 0.5 v_{b}\\right) - sl$"
     },
     "execution_count": 220,
     "metadata": {},
     "output_type": "execute_result"
    }
   ],
   "source": [
    "alpha = sm.diff(v, t)\n",
    "alpha"
   ],
   "metadata": {
    "collapsed": false,
    "pycharm": {
     "name": "#%%\n"
    }
   }
  },
  {
   "cell_type": "code",
   "execution_count": 221,
   "outputs": [
    {
     "data": {
      "text/plain": "    2                               ⎛⎧⎛      log(tanh(T₀⋅a - Tₐ⋅a) + 1)⎞      \n  Tₐ ⋅sl                            ⎜⎪⎜-Tₐ - ──────────────────────────⎟⋅(-0.5\n- ────── + 0.5⋅Tₐ⋅v₀ + 0.5⋅Tₐ⋅v_b + ⎜⎨⎝                  a             ⎠      \n    2                               ⎜⎪                                        \n                                    ⎝⎩                                        \n\n                 (-0.5⋅v₀ + 0.5⋅v_b)⋅log(tanh(T₀⋅a) + 1)           ⎞\n⋅v₀ + 0.5⋅v_b) + ───────────────────────────────────────  for a ≠ 0⎟\n                                    a                              ⎟\n                                                                   ⎟\n       0                                                  otherwise⎠",
      "text/latex": "$\\displaystyle - \\frac{T_{a}^{2} sl}{2} + 0.5 T_{a} v_{0} + 0.5 T_{a} v_{b} + \\begin{cases} \\left(- T_{a} - \\frac{\\log{\\left(\\tanh{\\left(T_{0} a - T_{a} a \\right)} + 1 \\right)}}{a}\\right) \\left(- 0.5 v_{0} + 0.5 v_{b}\\right) + \\frac{\\left(- 0.5 v_{0} + 0.5 v_{b}\\right) \\log{\\left(\\tanh{\\left(T_{0} a \\right)} + 1 \\right)}}{a} & \\text{for}\\: a \\neq 0 \\\\0 & \\text{otherwise} \\end{cases}$"
     },
     "execution_count": 221,
     "metadata": {},
     "output_type": "execute_result"
    }
   ],
   "source": [
    "L = sm.integrate(v, (t, 0, T_a))\n",
    "L"
   ],
   "metadata": {
    "collapsed": false,
    "pycharm": {
     "name": "#%%\n"
    }
   }
  },
  {
   "cell_type": "code",
   "execution_count": 222,
   "outputs": [],
   "source": [
    "def velocity_function(t: T.Scalar, v_0: T.Scalar, v_b: T.Scalar, a: T.Scalar, T_0: T.Scalar, sl: T.Scalar) -> T.Scalar :\n",
    "    return -1/2 * (v_0 - v_b) * sm.tanh(a * (t - T_0)) + (v_0 + v_b) * 0.5 - sl * t\n",
    "\n",
    "def acceleration_function(t: T.Scalar, v_0: T.Scalar, v_b: T.Scalar, a: T.Scalar, T_0: T.Scalar, sl: T.Scalar) -> T.Scalar :\n",
    "    return sm.diff(velocity_function(t, v_0, v_b, a, T_0, sl), t)\n",
    "\n",
    "def length_function(v_0: T.Scalar, v_b: T.Scalar, a: T.Scalar, T_0: T.Scalar, T_a: T.Scalar, sl: T.Scalar, eps: T.Scalar) -> T.Scalar:\n",
    "    # t_z = sm.Symbol(\"t_z\")\n",
    "    # length = sm.integrate(velocity_function(t_z, v_0, v_b, a, T_0), (t_z, 0, T_a))\n",
    "    length = (-T_a - sm.log(sm.tanh(T_0 * a - T_a * a)+1)/(a+eps)) * (-0.5 * v_0 + 0.5 * v_b) + (-0.5 * v_0 + 0.5 * v_b) * sm.log(sm.tanh(T_0 *a) + 1) / (a+eps) + 0.5 * T_a * v_0 + 0.5 * T_a * v_b - T_a**2 * sl * 0.5\n",
    "    return length"
   ],
   "metadata": {
    "collapsed": false,
    "pycharm": {
     "name": "#%%\n"
    }
   }
  },
  {
   "cell_type": "code",
   "execution_count": 265,
   "outputs": [],
   "source": [
    "def initial_velocity_residual(\n",
    "        v_0: T.Scalar, v_b: T.Scalar, a: T.Scalar, T_0: T.Scalar, sl: T.Scalar\n",
    ") -> geo.V1:\n",
    "    return geo.V1(v_0 - velocity_function(0, v_0, v_b, a, T_0, sl))\n",
    "\n",
    "def end_velocity_residual(\n",
    "        T_a: T.Scalar, v_0: T.Scalar, v_b: T.Scalar, a: T.Scalar, T_0: T.Scalar, sl: T.Scalar\n",
    ") -> geo.V1:\n",
    "    return geo.V1(velocity_function(T_a, v_0, v_b, a, T_0, sl))\n",
    "\n",
    "\n",
    "\n",
    "def drive_length_residual(\n",
    "    drive_length: T.Scalar, T_a: T.Scalar, v_0: T.Scalar, v_b: T.Scalar, a: T.Scalar, T_0: T.Scalar, sl: T.Scalar, eps: T.Scalar\n",
    ") -> geo.V1:\n",
    "    return geo.V1(drive_length - length_function(v_0, v_b, a, T_0, T_a, sl, eps))\n",
    "\n",
    "def acceleration_residual(\n",
    "        aim_acc: T.Scalar, check_time: T.Scalar, v_0: T.Scalar, v_b: T.Scalar, a: T.Scalar, T_0: T.Scalar, sl: T.Scalar\n",
    ") -> geo.V1:\n",
    "    return geo.V1(aim_acc - acceleration_function(check_time, v_0, v_b, a, T_0, sl))\n",
    "\n",
    "def sl_constraint(sl: T.Scalar) -> geo.V1:\n",
    "    return geo.V1(max_linear_barrier(-sl, 0.1, 1000, 0.1))\n",
    "\n",
    "def v0_vb_constraint(v_0: T.Scalar, v_b: T.Scalar) ->geo.V1:\n",
    "    return geo.V1(max_linear_barrier(v_b, 0.0, 100, 0.1))"
   ],
   "metadata": {
    "collapsed": false,
    "pycharm": {
     "name": "#%%\n"
    }
   }
  },
  {
   "cell_type": "code",
   "execution_count": 266,
   "outputs": [],
   "source": [
    "factors = []\n",
    "\n",
    "factors.append(\n",
    "    Factor(\n",
    "        residual=initial_velocity_residual,\n",
    "        keys=[\"v_0\", \"v_b\", \"a\", \"T_0\", \"sl\"],\n",
    "    )\n",
    ")\n",
    "\n",
    "factors.append(\n",
    "    Factor(\n",
    "        residual=end_velocity_residual,\n",
    "        keys=[\"T_a\", \"v_0\", \"v_b\", \"a\", \"T_0\", \"sl\"],\n",
    "    )\n",
    ")\n",
    "\n",
    "factors.append(Factor(\n",
    "    residual=drive_length_residual,\n",
    "    keys=[\"L\", \"T_a\", \"v_0\", \"v_b\", \"a\", \"T_0\", \"sl\", \"eps\"],\n",
    "))\n",
    "\n",
    "# initial acceleration\n",
    "factors.append(Factor(\n",
    "    residual=acceleration_residual,\n",
    "    keys=[\"initial_acc\",\"T_a\", \"v_0\", \"v_b\", \"a\", \"T_0\", \"sl\"]\n",
    "))\n",
    "\n",
    "# end acceleration\n",
    "factors.append(Factor(\n",
    "    residual=acceleration_residual,\n",
    "    keys=[\"end_acc\",\"T_a\", \"v_0\", \"v_b\", \"a\", \"T_0\", \"sl\"]\n",
    "))\n",
    "\n",
    "factors.append(Factor(\n",
    "    residual=sl_constraint,\n",
    "    keys=[\"sl\"]\n",
    "))\n",
    "\n",
    "\n",
    "factors.append(Factor(\n",
    "    residual=v0_vb_constraint,\n",
    "    keys=[\"v_0\", \"v_b\"]\n",
    "))\n",
    "\n"
   ],
   "metadata": {
    "collapsed": false,
    "pycharm": {
     "name": "#%%\n"
    }
   }
  },
  {
   "cell_type": "code",
   "execution_count": 289,
   "outputs": [],
   "source": [
    "optimizer = Optimizer(\n",
    "    factors=factors,\n",
    "    # optimized_keys=[\"v_b\", \"a\", \"T_0\", \"sl\"],\n",
    "    optimized_keys=[\"v_b\", \"T_0\", \"sl\"],\n",
    "    # So that we save more information about each iteration, to visualize later:\n",
    "    debug_stats=True,\n",
    ")"
   ],
   "metadata": {
    "collapsed": false,
    "pycharm": {
     "name": "#%%\n"
    }
   }
  },
  {
   "cell_type": "code",
   "execution_count": 295,
   "outputs": [
    {
     "ename": "ValueError",
     "evalue": "math domain error",
     "output_type": "error",
     "traceback": [
      "\u001B[0;31m---------------------------------------------------------------------------\u001B[0m",
      "\u001B[0;31mValueError\u001B[0m                                Traceback (most recent call last)",
      "Input \u001B[0;32mIn [295]\u001B[0m, in \u001B[0;36m<cell line: 18>\u001B[0;34m()\u001B[0m\n\u001B[1;32m      3\u001B[0m arrival_time \u001B[38;5;241m=\u001B[39m \u001B[38;5;241m50\u001B[39m\n\u001B[1;32m      5\u001B[0m initial_values \u001B[38;5;241m=\u001B[39m Values(\n\u001B[1;32m      6\u001B[0m     v_0 \u001B[38;5;241m=\u001B[39m initial_speed,\n\u001B[1;32m      7\u001B[0m     initial_acc \u001B[38;5;241m=\u001B[39m \u001B[38;5;241m-\u001B[39m\u001B[38;5;241m1\u001B[39m,\n\u001B[0;32m   (...)\u001B[0m\n\u001B[1;32m     15\u001B[0m     sl \u001B[38;5;241m=\u001B[39m \u001B[38;5;241m0\u001B[39m,\n\u001B[1;32m     16\u001B[0m )\n\u001B[0;32m---> 18\u001B[0m result \u001B[38;5;241m=\u001B[39m \u001B[43moptimizer\u001B[49m\u001B[38;5;241;43m.\u001B[39;49m\u001B[43moptimize\u001B[49m\u001B[43m(\u001B[49m\u001B[43minitial_values\u001B[49m\u001B[43m)\u001B[49m\n\u001B[1;32m     19\u001B[0m \u001B[38;5;28mprint\u001B[39m(result)\n\u001B[1;32m     21\u001B[0m opt_v_b  \u001B[38;5;241m=\u001B[39m result\u001B[38;5;241m.\u001B[39moptimized_values[\u001B[38;5;124m\"\u001B[39m\u001B[38;5;124mv_b\u001B[39m\u001B[38;5;124m\"\u001B[39m]\n",
      "File \u001B[0;32m~/.local/share/virtualenvs/symforce_speed_planning-N01dV6mK/lib/python3.8/site-packages/symforce/opt/optimizer.py:245\u001B[0m, in \u001B[0;36mOptimizer.optimize\u001B[0;34m(self, initial_guess)\u001B[0m\n\u001B[1;32m    242\u001B[0m cc_values \u001B[38;5;241m=\u001B[39m \u001B[38;5;28mself\u001B[39m\u001B[38;5;241m.\u001B[39m_cc_values(initial_guess)\n\u001B[1;32m    244\u001B[0m \u001B[38;5;28;01mtry\u001B[39;00m:\n\u001B[0;32m--> 245\u001B[0m     stats \u001B[38;5;241m=\u001B[39m \u001B[38;5;28;43mself\u001B[39;49m\u001B[38;5;241;43m.\u001B[39;49m\u001B[43m_cc_optimizer\u001B[49m\u001B[38;5;241;43m.\u001B[39;49m\u001B[43moptimize\u001B[49m\u001B[43m(\u001B[49m\u001B[43mcc_values\u001B[49m\u001B[43m)\u001B[49m\n\u001B[1;32m    246\u001B[0m \u001B[38;5;28;01mexcept\u001B[39;00m \u001B[38;5;167;01mZeroDivisionError\u001B[39;00m \u001B[38;5;28;01mas\u001B[39;00m ex:\n\u001B[1;32m    247\u001B[0m     \u001B[38;5;28;01mraise\u001B[39;00m \u001B[38;5;167;01mZeroDivisionError\u001B[39;00m(\u001B[38;5;124m\"\u001B[39m\u001B[38;5;124mERROR: Division by zero - check your use of epsilon!\u001B[39m\u001B[38;5;124m\"\u001B[39m) \u001B[38;5;28;01mfrom\u001B[39;00m \u001B[38;5;21;01mex\u001B[39;00m\n",
      "File \u001B[0;32m~/.local/share/virtualenvs/symforce_speed_planning-N01dV6mK/lib/python3.8/site-packages/symforce/opt/numeric_factor.py:115\u001B[0m, in \u001B[0;36mNumericFactor.cc_factor.<locals>.wrapped\u001B[0;34m(values, _)\u001B[0m\n\u001B[1;32m    112\u001B[0m \u001B[38;5;28;01mdef\u001B[39;00m \u001B[38;5;21mwrapped\u001B[39m(\n\u001B[1;32m    113\u001B[0m     values: cc_sym\u001B[38;5;241m.\u001B[39mValues, _: T\u001B[38;5;241m.\u001B[39mAny\n\u001B[1;32m    114\u001B[0m ) \u001B[38;5;241m-\u001B[39m\u001B[38;5;241m>\u001B[39m T\u001B[38;5;241m.\u001B[39mTuple[np\u001B[38;5;241m.\u001B[39mndarray, np\u001B[38;5;241m.\u001B[39mndarray, np\u001B[38;5;241m.\u001B[39mndarray, np\u001B[38;5;241m.\u001B[39mndarray]:\n\u001B[0;32m--> 115\u001B[0m     \u001B[38;5;28;01mreturn\u001B[39;00m \u001B[38;5;28;43mself\u001B[39;49m\u001B[38;5;241;43m.\u001B[39;49m\u001B[43mlinearization_function\u001B[49m\u001B[43m(\u001B[49m\u001B[38;5;241;43m*\u001B[39;49m\u001B[43m[\u001B[49m\u001B[43mvalues\u001B[49m\u001B[38;5;241;43m.\u001B[39;49m\u001B[43mat\u001B[49m\u001B[43m(\u001B[49m\u001B[43mcc_key_map\u001B[49m\u001B[43m[\u001B[49m\u001B[43mkey\u001B[49m\u001B[43m]\u001B[49m\u001B[43m)\u001B[49m\u001B[43m \u001B[49m\u001B[38;5;28;43;01mfor\u001B[39;49;00m\u001B[43m \u001B[49m\u001B[43mkey\u001B[49m\u001B[43m \u001B[49m\u001B[38;5;129;43;01min\u001B[39;49;00m\u001B[43m \u001B[49m\u001B[38;5;28;43mself\u001B[39;49m\u001B[38;5;241;43m.\u001B[39;49m\u001B[43mkeys\u001B[49m\u001B[43m]\u001B[49m\u001B[43m)\u001B[49m\n",
      "File \u001B[0;32m/tmp/sf_codegen_drive_length_factor_083qk_sa/python/symforce/sym_b5feaff97b664329b689313ff729f71e/drive_length_factor.py:59\u001B[0m, in \u001B[0;36mdrive_length_factor\u001B[0;34m(drive_length, T_a, v_0, v_b, a, T_0, sl, eps)\u001B[0m\n",
      "\u001B[0;31mValueError\u001B[0m: math domain error"
     ]
    }
   ],
   "source": [
    "initial_speed = 1.38\n",
    "drive_length = 30\n",
    "arrival_time = 50\n",
    "\n",
    "initial_values = Values(\n",
    "    v_0 = initial_speed,\n",
    "    initial_acc = -1,\n",
    "    end_acc = -1.9,\n",
    "    L = drive_length,\n",
    "    T_a = arrival_time,\n",
    "    eps = sm.default_epsilon,\n",
    "    v_b = -0.5,\n",
    "    a = 1,\n",
    "    T_0 = arrival_time*0.5,\n",
    "    sl = 0,\n",
    ")\n",
    "\n",
    "result = optimizer.optimize(initial_values)\n",
    "print(result)\n",
    "\n",
    "opt_v_b  = result.optimized_values[\"v_b\"]\n",
    "opt_a = result.optimized_values[\"a\"]\n",
    "opt_T_0 = result.optimized_values[\"T_0\"]\n",
    "opt_sl = result.optimized_values[\"sl\"]\n",
    "\n",
    "\n",
    "opt_t = np.linspace(0, arrival_time, 100)\n",
    "opt_v = [velocity_function(c_t, initial_speed, opt_v_b, opt_a, opt_T_0, opt_sl) for c_t in opt_t]\n",
    "\n",
    "# plt.ylim([0, initial_speed])\n",
    "plt.plot(opt_t, opt_v)\n"
   ],
   "metadata": {
    "collapsed": false,
    "pycharm": {
     "name": "#%%\n"
    }
   }
  },
  {
   "cell_type": "code",
   "execution_count": 226,
   "outputs": [],
   "source": [],
   "metadata": {
    "collapsed": false,
    "pycharm": {
     "name": "#%%\n"
    }
   }
  }
 ],
 "metadata": {
  "kernelspec": {
   "display_name": "Python 3",
   "language": "python",
   "name": "python3"
  },
  "language_info": {
   "codemirror_mode": {
    "name": "ipython",
    "version": 2
   },
   "file_extension": ".py",
   "mimetype": "text/x-python",
   "name": "python",
   "nbconvert_exporter": "python",
   "pygments_lexer": "ipython2",
   "version": "2.7.6"
  }
 },
 "nbformat": 4,
 "nbformat_minor": 0
}