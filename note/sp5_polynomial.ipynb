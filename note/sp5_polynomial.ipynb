{
 "cells": [
  {
   "cell_type": "code",
   "execution_count": 51,
   "outputs": [],
   "source": [
    "import numpy as np\n",
    "import symforce\n",
    "\n",
    "symforce.set_backend(\"sympy\")\n",
    "symforce.set_log_level(\"warning\")\n",
    "from symforce.notebook_util import display, print_expression_tree\n",
    "\n",
    "from symforce import sympy as sm\n",
    "from symforce import geo\n",
    "from symforce import typing as T\n",
    "from symforce.opt.factor import Factor\n",
    "from symforce.opt.optimizer import Optimizer\n",
    "from symforce.values import Values\n",
    "\n",
    "from symforce.opt.barrier_functions import (\n",
    "    min_max_power_barrier,\n",
    "    min_max_linear_barrier,\n",
    "    max_linear_barrier\n",
    ")\n",
    "\n",
    "import numpy as np\n",
    "import matplotlib.pyplot as plt"
   ],
   "metadata": {
    "collapsed": false,
    "pycharm": {
     "name": "#%%\n"
    }
   }
  },
  {
   "cell_type": "code",
   "execution_count": 52,
   "outputs": [
    {
     "data": {
      "text/plain": "                     2 ⎛    6          2          2                           \n           5        t ⋅⎝- Tₐ ⋅s₅ - 9⋅Tₐ ⋅a₀ + 3⋅Tₐ ⋅a_A - 36⋅Tₐ⋅v₀ - 24⋅Tₐ⋅v_A\na₀⋅t + s₅⋅t  + v₀ + ──────────────────────────────────────────────────────────\n                                                       3                      \n                                                   2⋅Tₐ                       \n\n        ⎞    3 ⎛    6          2          2                                   \n + 60⋅lₐ⎠   t ⋅⎝2⋅Tₐ ⋅s₅ + 6⋅Tₐ ⋅a₀ - 4⋅Tₐ ⋅a_A + 32⋅Tₐ⋅v₀ + 28⋅Tₐ⋅v_A - 60⋅lₐ\n───────── + ──────────────────────────────────────────────────────────────────\n                                              4                               \n                                            Tₐ                                \n\n⎞    4 ⎛      6          2          2                                   ⎞\n⎠   t ⋅⎝- 5⋅Tₐ ⋅s₅ - 5⋅Tₐ ⋅a₀ + 5⋅Tₐ ⋅a_A - 30⋅Tₐ⋅v₀ - 30⋅Tₐ⋅v_A + 60⋅lₐ⎠\n─ + ─────────────────────────────────────────────────────────────────────\n                                        5                                \n                                    2⋅Tₐ                                 ",
      "image/png": "[encoded data removed]",
      "text/latex": "$\\displaystyle a_{0} t + s_{5} t^{5} + v_{0} + \\frac{t^{2} \\left(- T_{a}^{6} s_{5} - 9 T_{a}^{2} a_{0} + 3 T_{a}^{2} a_{A} - 36 T_{a} v_{0} - 24 T_{a} v_{A} + 60 l_{a}\\right)}{2 T_{a}^{3}} + \\frac{t^{3} \\cdot \\left(2 T_{a}^{6} s_{5} + 6 T_{a}^{2} a_{0} - 4 T_{a}^{2} a_{A} + 32 T_{a} v_{0} + 28 T_{a} v_{A} - 60 l_{a}\\right)}{T_{a}^{4}} + \\frac{t^{4} \\left(- 5 T_{a}^{6} s_{5} - 5 T_{a}^{2} a_{0} + 5 T_{a}^{2} a_{A} - 30 T_{a} v_{0} - 30 T_{a} v_{A} + 60 l_{a}\\right)}{2 T_{a}^{5}}$"
     },
     "execution_count": 52,
     "metadata": {},
     "output_type": "execute_result"
    }
   ],
   "source": [
    "t = sm.Symbol(\"t\")\n",
    "T_a = sm.Symbol(\"T_a\")\n",
    "v_0 = sm.Symbol(\"v_0\")\n",
    "a_0 = sm.Symbol(\"a_0\")\n",
    "v_A = sm.Symbol(\"v_A\")\n",
    "a_A = sm.Symbol(\"a_A\")\n",
    "l_a = sm.Symbol(\"l_a\")\n",
    "\n",
    "polynomial_order = 5\n",
    "coeffs = [sm.Symbol(\"s_{}\".format(i)) for i in range(1, polynomial_order+1)]\n",
    "\n",
    "def velocity_function(current_time):\n",
    "    v_t = v_0\n",
    "    for i in range(1, polynomial_order+1):\n",
    "        v_t = v_t + coeffs[i-1] * current_time**i\n",
    "    return v_t\n",
    "\n",
    "def acc_function(current_time):\n",
    "    tmp = sm.Symbol(\"tmp\")\n",
    "    return sm.diff(velocity_function(tmp), tmp).subs(tmp, current_time)\n",
    "\n",
    "eq1 = sm.Eq(velocity_function(0), v_0)\n",
    "eq2 = sm.Eq(velocity_function(T_a), v_A)\n",
    "eq3 = sm.Eq(acc_function(0), a_0)\n",
    "eq4 = sm.Eq(acc_function(T_a), a_A)\n",
    "tmp = sm.Symbol(\"tmp\")\n",
    "eq5 = sm.Eq(sm.integrate(velocity_function(tmp), (tmp, 0, T_a)), l_a)\n",
    "\n",
    "sol = sm.solve([eq1, eq2, eq3, eq4, eq5], coeffs[:4])\n",
    "\n",
    "def sol_velocity_function_raw(current_time):\n",
    "    return velocity_function(current_time).subs([(coeffs[0], sol[coeffs[0]]),\n",
    "                                                 (coeffs[1], sol[coeffs[1]]),\n",
    "                                                 (coeffs[2], sol[coeffs[2]]),\n",
    "                                                 (coeffs[3], sol[coeffs[3]]),\n",
    "                                                 ])\n",
    "\n",
    "def sol_velocity_function(current_time, arrival_time, initial_v, initial_a, arrival_v, arrival_a, drive_length):\n",
    "    return sol_velocity_function_raw(current_time).subs([\n",
    "        (v_0, initial_v),\n",
    "        (a_0, initial_a),\n",
    "        (v_A, arrival_v),\n",
    "        (a_A, arrival_a),\n",
    "        (T_a, arrival_time),\n",
    "        (l_a, drive_length)\n",
    "    ])\n",
    "\n",
    "sol_velocity_function_raw(t)"
   ],
   "metadata": {
    "collapsed": false,
    "pycharm": {
     "name": "#%%\n"
    }
   }
  },
  {
   "cell_type": "code",
   "execution_count": 53,
   "outputs": [
    {
     "data": {
      "text/plain": "[<matplotlib.lines.Line2D at 0x7eff55fb4040>]"
     },
     "execution_count": 53,
     "metadata": {},
     "output_type": "execute_result"
    },
    {
     "data": {
      "text/plain": "<Figure size 432x288 with 1 Axes>",
      "image/png": "[encoded data removed]"
     },
     "metadata": {
      "needs_background": "light"
     },
     "output_type": "display_data"
    }
   ],
   "source": [
    "#initial_speed = 1.38\n",
    "#initial_a = 0\n",
    "#arrival_speed = 0\n",
    "#arrival_a = -0.02\n",
    "#drive_length = 30\n",
    "#arrival_time = 20\n",
    "\n",
    "initial_speed = 1.8\n",
    "initial_a = -0.05 * 9.8\n",
    "arrival_speed = 0\n",
    "arrival_a = -0.05 * 9.8\n",
    "drive_length = 20\n",
    "arrival_time = 30\n",
    "\n",
    "sol_velocity_function(t, arrival_time, initial_speed, initial_a, arrival_speed, arrival_a, drive_length)\n",
    "\n",
    "opt_times = np.linspace(0, arrival_time, 100)\n",
    "opt_v = [sol_velocity_function(ct, arrival_time, initial_speed, initial_a, arrival_speed, arrival_a, drive_length).subs(coeffs[4], 0) for ct in opt_times]\n",
    "\n",
    "plt.plot(opt_times, opt_v)"
   ],
   "metadata": {
    "collapsed": false,
    "pycharm": {
     "name": "#%%\n"
    }
   }
  },
  {
   "cell_type": "code",
   "execution_count": 53,
   "outputs": [],
   "source": [],
   "metadata": {
    "collapsed": false,
    "pycharm": {
     "name": "#%%\n"
    }
   }
  }
 ],
 "metadata": {
  "kernelspec": {
   "display_name": "Python 3",
   "language": "python",
   "name": "python3"
  },
  "language_info": {
   "codemirror_mode": {
    "name": "ipython",
    "version": 2
   },
   "file_extension": ".py",
   "mimetype": "text/x-python",
   "name": "python",
   "nbconvert_exporter": "python",
   "pygments_lexer": "ipython2",
   "version": "2.7.6"
  }
 },
 "nbformat": 4,
 "nbformat_minor": 0
}