{
 "cells": [
  {
   "cell_type": "code",
   "execution_count": 192,
   "outputs": [],
   "source": [
    "import numpy as np\n",
    "import symforce\n",
    "\n",
    "symforce.set_backend(\"sympy\")\n",
    "symforce.set_log_level(\"warning\")\n",
    "from symforce.notebook_util import display, print_expression_tree\n",
    "\n",
    "from symforce import sympy as sm\n",
    "from symforce import geo\n",
    "from symforce import typing as T\n",
    "from symforce.opt.factor import Factor\n",
    "from symforce.opt.optimizer import Optimizer\n",
    "from symforce.values import Values\n",
    "\n",
    "from symforce.opt.barrier_functions import (\n",
    "    min_max_power_barrier,\n",
    "    min_max_linear_barrier,\n",
    "    max_linear_barrier\n",
    ")\n",
    "\n",
    "import numpy as np\n",
    "import matplotlib.pyplot as plt"
   ],
   "metadata": {
    "collapsed": false,
    "pycharm": {
     "name": "#%%\n"
    }
   }
  },
  {
   "cell_type": "code",
   "execution_count": 193,
   "outputs": [
    {
     "name": "stdout",
     "output_type": "stream",
     "text": [
      "v:\n",
      "a_0*t + s_5*t**5 + s_6*t**6 + v_0 + t**2*(-18*T_A**7*s_6 - 7*T_A**6*s_5 - 63*T_A**2*a_0 + 21*T_A**2*a_A - 252*T_A*v_0 - 168*T_A*v_A + 420*l_A)/(14*T_A**3) + t**3*(32*T_A**7*s_6 + 14*T_A**6*s_5 + 42*T_A**2*a_0 - 28*T_A**2*a_A + 224*T_A*v_0 + 196*T_A*v_A - 420*l_A)/(7*T_A**4) + t**4*(-60*T_A**7*s_6 - 35*T_A**6*s_5 - 35*T_A**2*a_0 + 35*T_A**2*a_A - 210*T_A*v_0 - 210*T_A*v_A + 420*l_A)/(14*T_A**5)\n",
      "a:\n",
      "a_0 + 5*s_5*t**4 + 6*s_6*t**5 + t*(-18*T_A**7*s_6 - 7*T_A**6*s_5 - 63*T_A**2*a_0 + 21*T_A**2*a_A - 252*T_A*v_0 - 168*T_A*v_A + 420*l_A)/(7*T_A**3) + 3*t**2*(32*T_A**7*s_6 + 14*T_A**6*s_5 + 42*T_A**2*a_0 - 28*T_A**2*a_A + 224*T_A*v_0 + 196*T_A*v_A - 420*l_A)/(7*T_A**4) + 2*t**3*(-60*T_A**7*s_6 - 35*T_A**6*s_5 - 35*T_A**2*a_0 + 35*T_A**2*a_A - 210*T_A*v_0 - 210*T_A*v_A + 420*l_A)/(7*T_A**5)\n"
     ]
    },
    {
     "data": {
      "text/plain": "                             2 ⎛        7           6            2            \n           5       6        t ⋅⎝- 18⋅T_A ⋅s₆ - 7⋅T_A ⋅s₅ - 63⋅T_A ⋅a₀ + 21⋅T_A\na₀⋅t + s₅⋅t  + s₆⋅t  + v₀ + ──────────────────────────────────────────────────\n                                                                             3\n                                                                       14⋅T_A \n\n2                                         ⎞    3 ⎛      7            6        \n ⋅a_A - 252⋅T_A⋅v₀ - 168⋅T_A⋅v_A + 420⋅l_A⎠   t ⋅⎝32⋅T_A ⋅s₆ + 14⋅T_A ⋅s₅ + 42\n─────────────────────────────────────────── + ────────────────────────────────\n                                                                              \n                                                                              \n\n    2            2                                         ⎞    4 ⎛        7  \n⋅T_A ⋅a₀ - 28⋅T_A ⋅a_A + 224⋅T_A⋅v₀ + 196⋅T_A⋅v_A - 420⋅l_A⎠   t ⋅⎝- 60⋅T_A ⋅s\n──────────────────────────────────────────────────────────── + ───────────────\n                4                                                             \n           7⋅T_A                                                              \n\n          6            2            2                                         \n₆ - 35⋅T_A ⋅s₅ - 35⋅T_A ⋅a₀ + 35⋅T_A ⋅a_A - 210⋅T_A⋅v₀ - 210⋅T_A⋅v_A + 420⋅l_A\n──────────────────────────────────────────────────────────────────────────────\n                                  5                                           \n                            14⋅T_A                                            \n\n⎞\n⎠\n─\n \n ",
      "image/png": "[encoded data removed]",
      "text/latex": "$\\displaystyle a_{0} t + s_{5} t^{5} + s_{6} t^{6} + v_{0} + \\frac{t^{2} \\left(- 18 T_{A}^{7} s_{6} - 7 T_{A}^{6} s_{5} - 63 T_{A}^{2} a_{0} + 21 T_{A}^{2} a_{A} - 252 T_{A} v_{0} - 168 T_{A} v_{A} + 420 l_{A}\\right)}{14 T_{A}^{3}} + \\frac{t^{3} \\cdot \\left(32 T_{A}^{7} s_{6} + 14 T_{A}^{6} s_{5} + 42 T_{A}^{2} a_{0} - 28 T_{A}^{2} a_{A} + 224 T_{A} v_{0} + 196 T_{A} v_{A} - 420 l_{A}\\right)}{7 T_{A}^{4}} + \\frac{t^{4} \\left(- 60 T_{A}^{7} s_{6} - 35 T_{A}^{6} s_{5} - 35 T_{A}^{2} a_{0} + 35 T_{A}^{2} a_{A} - 210 T_{A} v_{0} - 210 T_{A} v_{A} + 420 l_{A}\\right)}{14 T_{A}^{5}}$"
     },
     "execution_count": 193,
     "metadata": {},
     "output_type": "execute_result"
    }
   ],
   "source": [
    "t = sm.Symbol(\"t\")\n",
    "T_a = sm.Symbol(\"T_A\")\n",
    "v_0 = sm.Symbol(\"v_0\")\n",
    "a_0 = sm.Symbol(\"a_0\")\n",
    "v_A = sm.Symbol(\"v_A\")\n",
    "a_A = sm.Symbol(\"a_A\")\n",
    "l_a = sm.Symbol(\"l_A\")\n",
    "\n",
    "polynomial_order = 6\n",
    "coeffs = [sm.Symbol(\"s_{}\".format(i)) for i in range(1, polynomial_order+1)]\n",
    "\n",
    "def velocity_function(current_time):\n",
    "    v_t = v_0\n",
    "    for i in range(1, polynomial_order+1):\n",
    "        v_t = v_t + coeffs[i-1] * current_time**i\n",
    "    return v_t\n",
    "\n",
    "def acc_function(current_time):\n",
    "    tmp = sm.Symbol(\"tmp\")\n",
    "    return sm.diff(velocity_function(tmp), tmp).subs(tmp, current_time)\n",
    "\n",
    "eq1 = sm.Eq(velocity_function(0), v_0)\n",
    "eq2 = sm.Eq(velocity_function(T_a), v_A)\n",
    "eq3 = sm.Eq(acc_function(0), a_0)\n",
    "eq4 = sm.Eq(acc_function(T_a), a_A)\n",
    "tmp = sm.Symbol(\"tmp\")\n",
    "eq5 = sm.Eq(sm.integrate(velocity_function(tmp), (tmp, 0, T_a)), l_a)\n",
    "\n",
    "sol = sm.solve([eq1, eq2, eq3, eq4, eq5], coeffs[:4])\n",
    "\n",
    "def sol_velocity_function_raw(current_time):\n",
    "    return velocity_function(current_time).subs([(coeffs[0], sol[coeffs[0]]),\n",
    "                                                 (coeffs[1], sol[coeffs[1]]),\n",
    "                                                 (coeffs[2], sol[coeffs[2]]),\n",
    "                                                 (coeffs[3], sol[coeffs[3]]),\n",
    "                                                 ])\n",
    "\n",
    "def sol_velocity_function(current_time, arrival_time, initial_v, initial_a, arrival_v, arrival_a, drive_length):\n",
    "    return sol_velocity_function_raw(current_time).subs([\n",
    "        (v_0, initial_v),\n",
    "        (a_0, initial_a),\n",
    "        (v_A, arrival_v),\n",
    "        (a_A, arrival_a),\n",
    "        (T_a, arrival_time),\n",
    "        (l_a, drive_length)\n",
    "    ])\n",
    "\n",
    "print(\"v:\")\n",
    "print(sol_velocity_function_raw(t))\n",
    "\n",
    "print(\"a:\")\n",
    "print(sm.diff(sol_velocity_function_raw(t), t))\n",
    "\n",
    "sol_velocity_function_raw(t)"
   ],
   "metadata": {
    "collapsed": false,
    "pycharm": {
     "name": "#%%\n"
    }
   }
  },
  {
   "cell_type": "code",
   "execution_count": 194,
   "outputs": [],
   "source": [
    "def velocity_function(t: T.Scalar,\n",
    "                      v_0: T.Scalar,\n",
    "                      a_0: T.Scalar,\n",
    "                      v_A: T.Scalar,\n",
    "                      a_A: T.Scalar,\n",
    "                      T_A: T.Scalar,\n",
    "                      l_A: T.Scalar,\n",
    "                      s_5: T.Scalar,\n",
    "                      s_6: T.Scalar) -> T.Scalar :\n",
    "    return a_0*t + s_5*t**5 + s_6*t**6 + v_0 + t**2*(-18*T_A**7*s_6 - 7*T_A**6*s_5 - 63*T_A**2*a_0 + 21*T_A**2*a_A - 252*T_A*v_0 - 168*T_A*v_A + 420*l_A)/(14*T_A**3) + t**3*(32*T_A**7*s_6 + 14*T_A**6*s_5 + 42*T_A**2*a_0 - 28*T_A**2*a_A + 224*T_A*v_0 + 196*T_A*v_A - 420*l_A)/(7*T_A**4) + t**4*(-60*T_A**7*s_6 - 35*T_A**6*s_5 - 35*T_A**2*a_0 + 35*T_A**2*a_A - 210*T_A*v_0 - 210*T_A*v_A + 420*l_A)/(14*T_A**5)\n",
    "\n",
    "def acc_function(t: T.Scalar,\n",
    "                      v_0: T.Scalar,\n",
    "                      a_0: T.Scalar,\n",
    "                      v_A: T.Scalar,\n",
    "                      a_A: T.Scalar,\n",
    "                      T_A: T.Scalar,\n",
    "                      l_A: T.Scalar,\n",
    "                      s_5: T.Scalar,\n",
    "                      s_6: T.Scalar) -> T.Scalar :\n",
    "    return a_0 + 5*s_5*t**4 + 6*s_6*t**5 + t*(-18*T_A**7*s_6 - 7*T_A**6*s_5 - 63*T_A**2*a_0 + 21*T_A**2*a_A - 252*T_A*v_0 - 168*T_A*v_A + 420*l_A)/(7*T_A**3) + 3*t**2*(32*T_A**7*s_6 + 14*T_A**6*s_5 + 42*T_A**2*a_0 - 28*T_A**2*a_A + 224*T_A*v_0 + 196*T_A*v_A - 420*l_A)/(7*T_A**4) + 2*t**3*(-60*T_A**7*s_6 - 35*T_A**6*s_5 - 35*T_A**2*a_0 + 35*T_A**2*a_A - 210*T_A*v_0 - 210*T_A*v_A + 420*l_A)/(7*T_A**5)\n"
   ],
   "metadata": {
    "collapsed": false,
    "pycharm": {
     "name": "#%%\n"
    }
   }
  },
  {
   "cell_type": "code",
   "execution_count": 195,
   "outputs": [],
   "source": [
    "def velocity_min_max_residual(t: T.Scalar,\n",
    "                              v_0: T.Scalar,\n",
    "                              a_0: T.Scalar,\n",
    "                              v_A: T.Scalar,\n",
    "                              a_A: T.Scalar,\n",
    "                              T_A: T.Scalar,\n",
    "                              l_A: T.Scalar,\n",
    "                              s_5: T.Scalar,\n",
    "                              s_6: T.Scalar) -> geo.V1 :\n",
    "    return geo.V1(\n",
    "        min_max_linear_barrier(velocity_function(t, v_0, a_0, v_A, a_A, T_A, l_A, s_5, s_6), 0, v_0, 10000, 0.1)\n",
    "    )\n",
    "\n",
    "def acc_residual(t: T.Scalar,\n",
    "    v_0: T.Scalar,\n",
    "    a_0: T.Scalar,\n",
    "    v_A: T.Scalar,\n",
    "    a_A: T.Scalar,\n",
    "    T_A: T.Scalar,\n",
    "    l_A: T.Scalar,\n",
    "    s_5: T.Scalar,\n",
    "    s_6: T.Scalar) -> geo.V1 :\n",
    "    return geo.V1(\n",
    "        max_linear_barrier(acc_function(t, v_0, a_0, v_A, a_A, T_A, l_A, s_5, s_6), -0.5, 100, 0.1)\n",
    "    )\n"
   ],
   "metadata": {
    "collapsed": false,
    "pycharm": {
     "name": "#%%\n"
    }
   }
  },
  {
   "cell_type": "code",
   "execution_count": 196,
   "outputs": [],
   "source": [
    "factors = []\n",
    "\n",
    "num_constraint = 20\n",
    "for i in range(num_constraint):\n",
    "    # factors.append(\n",
    "    #     Factor(\n",
    "    #         # residual=velocity_min_max_residual,\n",
    "    #         residual=acc_residual,\n",
    "    #         keys=[\"times[{}]\".format(i),\n",
    "    #               \"v_0\", \"a_0\",\n",
    "    #               \"v_A\", \"a_A\",\n",
    "    #               \"T_A\", \"l_A\", \"s_5\", \"s_6\"],\n",
    "    #     )\n",
    "    # )\n",
    "\n",
    "    factors.append(\n",
    "        Factor(\n",
    "            residual=velocity_min_max_residual,\n",
    "            # residual=acc_residual,\n",
    "            keys=[\"times[{}]\".format(i),\n",
    "                  \"v_0\", \"a_0\",\n",
    "                  \"v_A\", \"a_A\",\n",
    "                  \"T_A\", \"l_A\", \"s_5\", \"s_6\"],\n",
    "        )\n",
    "    )"
   ],
   "metadata": {
    "collapsed": false,
    "pycharm": {
     "name": "#%%\n"
    }
   }
  },
  {
   "cell_type": "code",
   "execution_count": 197,
   "outputs": [],
   "source": [
    "optimizer = Optimizer(\n",
    "    factors=factors,\n",
    "    optimized_keys=[\"s_5\", \"s_6\"],\n",
    "    debug_stats=True,\n",
    ")"
   ],
   "metadata": {
    "collapsed": false,
    "pycharm": {
     "name": "#%%\n"
    }
   }
  },
  {
   "cell_type": "code",
   "execution_count": 198,
   "outputs": [
    {
     "name": "stdout",
     "output_type": "stream",
     "text": [
      "Optimizer.Result(initial_values=Values(\n",
      "  times: [1.0, 2.473684210526316, 3.9473684210526314, 5.421052631578947, 6.894736842105263, 8.368421052631579, 9.842105263157894, 11.31578947368421, 12.789473684210526, 14.26315789473684, 15.736842105263158, 17.210526315789473, 18.684210526315788, 20.157894736842103, 21.63157894736842, 23.105263157894736, 24.57894736842105, 26.052631578947366, 27.52631578947368, 29.0],\n",
      "  v_0: 1.8,\n",
      "  a_0: -0.49000000000000005,\n",
      "  v_A: 0,\n",
      "  a_A: -0.49000000000000005,\n",
      "  T_A: 30,\n",
      "  l_A: 20,\n",
      "  s_5: 0,\n",
      "  s_6: 0,\n",
      "), optimized_values=Values(\n",
      "  times: [1.0, 2.473684210526316, 3.9473684210526314, 5.421052631578947, 6.894736842105263, 8.368421052631579, 9.842105263157894, 11.31578947368421, 12.789473684210526, 14.26315789473684, 15.736842105263158, 17.210526315789473, 18.684210526315788, 20.157894736842103, 21.63157894736842, 23.105263157894736, 24.57894736842105, 26.052631578947366, 27.52631578947368, 29.0],\n",
      "  v_0: 1.8,\n",
      "  a_0: -0.49000000000000005,\n",
      "  v_A: 0.0,\n",
      "  a_A: -0.49000000000000005,\n",
      "  T_A: 30.0,\n",
      "  l_A: 20.0,\n",
      "  s_5: -2.378387010821082e-06,\n",
      "  s_6: 1.483793870141009e-08,\n",
      "), iteration_stats=[optimization_iteration_t(iteration=-1, current_lambda=1.0, new_error_linear=0.0, new_error=686614080.0, relative_reduction=0.0, update_accepted=False, update_angle_change=0.0, values=values_t(index=index_t(storage_dim=28, tangent_dim=28, entries=[index_entry_t(key=key_t(letter=120, subscript=0, superscript=-9223372036854775808), type=type_t.SCALAR, offset=0, storage_dim=1, tangent_dim=1), index_entry_t(key=key_t(letter=120, subscript=1, superscript=-9223372036854775808), type=type_t.SCALAR, offset=1, storage_dim=1, tangent_dim=1), index_entry_t(key=key_t(letter=118, subscript=0, superscript=-9223372036854775808), type=type_t.SCALAR, offset=2, storage_dim=1, tangent_dim=1), index_entry_t(key=key_t(letter=118, subscript=1, superscript=-9223372036854775808), type=type_t.SCALAR, offset=3, storage_dim=1, tangent_dim=1), index_entry_t(key=key_t(letter=118, subscript=2, superscript=-9223372036854775808), type=type_t.SCALAR, offset=4, storage_dim=1, tangent_dim=1), index_entry_t(key=key_t(letter=118, subscript=3, superscript=-9223372036854775808), type=type_t.SCALAR, offset=5, storage_dim=1, tangent_dim=1), index_entry_t(key=key_t(letter=118, subscript=4, superscript=-9223372036854775808), type=type_t.SCALAR, offset=6, storage_dim=1, tangent_dim=1), index_entry_t(key=key_t(letter=118, subscript=5, superscript=-9223372036854775808), type=type_t.SCALAR, offset=7, storage_dim=1, tangent_dim=1), index_entry_t(key=key_t(letter=118, subscript=6, superscript=-9223372036854775808), type=type_t.SCALAR, offset=8, storage_dim=1, tangent_dim=1), index_entry_t(key=key_t(letter=118, subscript=7, superscript=-9223372036854775808), type=type_t.SCALAR, offset=9, storage_dim=1, tangent_dim=1), index_entry_t(key=key_t(letter=118, subscript=8, superscript=-9223372036854775808), type=type_t.SCALAR, offset=10, storage_dim=1, tangent_dim=1), index_entry_t(key=key_t(letter=118, subscript=9, superscript=-9223372036854775808), type=type_t.SCALAR, offset=11, storage_dim=1, tangent_dim=1), index_entry_t(key=key_t(letter=118, subscript=10, superscript=-9223372036854775808), type=type_t.SCALAR, offset=12, storage_dim=1, tangent_dim=1), index_entry_t(key=key_t(letter=118, subscript=11, superscript=-9223372036854775808), type=type_t.SCALAR, offset=13, storage_dim=1, tangent_dim=1), index_entry_t(key=key_t(letter=118, subscript=12, superscript=-9223372036854775808), type=type_t.SCALAR, offset=14, storage_dim=1, tangent_dim=1), index_entry_t(key=key_t(letter=118, subscript=13, superscript=-9223372036854775808), type=type_t.SCALAR, offset=15, storage_dim=1, tangent_dim=1), index_entry_t(key=key_t(letter=118, subscript=14, superscript=-9223372036854775808), type=type_t.SCALAR, offset=16, storage_dim=1, tangent_dim=1), index_entry_t(key=key_t(letter=118, subscript=15, superscript=-9223372036854775808), type=type_t.SCALAR, offset=17, storage_dim=1, tangent_dim=1), index_entry_t(key=key_t(letter=118, subscript=16, superscript=-9223372036854775808), type=type_t.SCALAR, offset=18, storage_dim=1, tangent_dim=1), index_entry_t(key=key_t(letter=118, subscript=17, superscript=-9223372036854775808), type=type_t.SCALAR, offset=19, storage_dim=1, tangent_dim=1), index_entry_t(key=key_t(letter=118, subscript=18, superscript=-9223372036854775808), type=type_t.SCALAR, offset=20, storage_dim=1, tangent_dim=1), index_entry_t(key=key_t(letter=118, subscript=19, superscript=-9223372036854775808), type=type_t.SCALAR, offset=21, storage_dim=1, tangent_dim=1), index_entry_t(key=key_t(letter=118, subscript=20, superscript=-9223372036854775808), type=type_t.SCALAR, offset=22, storage_dim=1, tangent_dim=1), index_entry_t(key=key_t(letter=118, subscript=21, superscript=-9223372036854775808), type=type_t.SCALAR, offset=23, storage_dim=1, tangent_dim=1), index_entry_t(key=key_t(letter=118, subscript=22, superscript=-9223372036854775808), type=type_t.SCALAR, offset=24, storage_dim=1, tangent_dim=1), index_entry_t(key=key_t(letter=118, subscript=23, superscript=-9223372036854775808), type=type_t.SCALAR, offset=25, storage_dim=1, tangent_dim=1), index_entry_t(key=key_t(letter=118, subscript=24, superscript=-9223372036854775808), type=type_t.SCALAR, offset=26, storage_dim=1, tangent_dim=1), index_entry_t(key=key_t(letter=118, subscript=25, superscript=-9223372036854775808), type=type_t.SCALAR, offset=27, storage_dim=1, tangent_dim=1)]), data=(0.0, 0.0, 1.0, 2.473684210526316, 3.9473684210526314, 5.421052631578947, 6.894736842105263, 8.368421052631579, 9.842105263157894, 11.31578947368421, 12.789473684210526, 14.26315789473684, 15.736842105263158, 17.210526315789473, 18.684210526315788, 20.157894736842103, 21.63157894736842, 23.105263157894736, 24.57894736842105, 26.052631578947366, 27.52631578947368, 29.0, 1.8, -0.49000000000000005, 0.0, -0.49000000000000005, 30.0, 20.0)), residual=VectorXf(rows=20, data=(0.0, 0.0, 0.0, 0.0, 16681.98046875, 23240.3203125, 20850.931640625, 10957.458984375, 0.0, 0.0, 0.0, 0.0, 0.0, 0.0, 0.0, 0.0, 0.0, 0.0, 0.0, 0.0)), jacobian_values=VectorXf(rows=40, data=(-0.0, 0.0, 0.0, 0.0, 20569528320.0, 21731035136.0, 20302000128.0, 16468865024.0, 0.0, 0.0, -0.0, -0.0, 0.0, 0.0, 0.0, 0.0, 0.0, 0.0, 0.0, -0.0, -0.0, 0.0, 0.0, 0.0, 1766108299264.0, 1917011230720.0, 1848981979136.0, 1565205463040.0, 0.0, 0.0, -0.0, -0.0, 0.0, 0.0, 0.0, 0.0, 0.0, 0.0, 0.0, -0.0))), optimization_iteration_t(iteration=0, current_lambda=1.0, new_error_linear=17171714.0, new_error=7549860.0, relative_reduction=0.9890041947364807, update_accepted=True, update_angle_change=0.0, values=values_t(index=index_t(storage_dim=28, tangent_dim=28, entries=[index_entry_t(key=key_t(letter=120, subscript=0, superscript=-9223372036854775808), type=type_t.SCALAR, offset=0, storage_dim=1, tangent_dim=1), index_entry_t(key=key_t(letter=120, subscript=1, superscript=-9223372036854775808), type=type_t.SCALAR, offset=1, storage_dim=1, tangent_dim=1), index_entry_t(key=key_t(letter=118, subscript=0, superscript=-9223372036854775808), type=type_t.SCALAR, offset=2, storage_dim=1, tangent_dim=1), index_entry_t(key=key_t(letter=118, subscript=1, superscript=-9223372036854775808), type=type_t.SCALAR, offset=3, storage_dim=1, tangent_dim=1), index_entry_t(key=key_t(letter=118, subscript=2, superscript=-9223372036854775808), type=type_t.SCALAR, offset=4, storage_dim=1, tangent_dim=1), index_entry_t(key=key_t(letter=118, subscript=3, superscript=-9223372036854775808), type=type_t.SCALAR, offset=5, storage_dim=1, tangent_dim=1), index_entry_t(key=key_t(letter=118, subscript=4, superscript=-9223372036854775808), type=type_t.SCALAR, offset=6, storage_dim=1, tangent_dim=1), index_entry_t(key=key_t(letter=118, subscript=5, superscript=-9223372036854775808), type=type_t.SCALAR, offset=7, storage_dim=1, tangent_dim=1), index_entry_t(key=key_t(letter=118, subscript=6, superscript=-9223372036854775808), type=type_t.SCALAR, offset=8, storage_dim=1, tangent_dim=1), index_entry_t(key=key_t(letter=118, subscript=7, superscript=-9223372036854775808), type=type_t.SCALAR, offset=9, storage_dim=1, tangent_dim=1), index_entry_t(key=key_t(letter=118, subscript=8, superscript=-9223372036854775808), type=type_t.SCALAR, offset=10, storage_dim=1, tangent_dim=1), index_entry_t(key=key_t(letter=118, subscript=9, superscript=-9223372036854775808), type=type_t.SCALAR, offset=11, storage_dim=1, tangent_dim=1), index_entry_t(key=key_t(letter=118, subscript=10, superscript=-9223372036854775808), type=type_t.SCALAR, offset=12, storage_dim=1, tangent_dim=1), index_entry_t(key=key_t(letter=118, subscript=11, superscript=-9223372036854775808), type=type_t.SCALAR, offset=13, storage_dim=1, tangent_dim=1), index_entry_t(key=key_t(letter=118, subscript=12, superscript=-9223372036854775808), type=type_t.SCALAR, offset=14, storage_dim=1, tangent_dim=1), index_entry_t(key=key_t(letter=118, subscript=13, superscript=-9223372036854775808), type=type_t.SCALAR, offset=15, storage_dim=1, tangent_dim=1), index_entry_t(key=key_t(letter=118, subscript=14, superscript=-9223372036854775808), type=type_t.SCALAR, offset=16, storage_dim=1, tangent_dim=1), index_entry_t(key=key_t(letter=118, subscript=15, superscript=-9223372036854775808), type=type_t.SCALAR, offset=17, storage_dim=1, tangent_dim=1), index_entry_t(key=key_t(letter=118, subscript=16, superscript=-9223372036854775808), type=type_t.SCALAR, offset=18, storage_dim=1, tangent_dim=1), index_entry_t(key=key_t(letter=118, subscript=17, superscript=-9223372036854775808), type=type_t.SCALAR, offset=19, storage_dim=1, tangent_dim=1), index_entry_t(key=key_t(letter=118, subscript=18, superscript=-9223372036854775808), type=type_t.SCALAR, offset=20, storage_dim=1, tangent_dim=1), index_entry_t(key=key_t(letter=118, subscript=19, superscript=-9223372036854775808), type=type_t.SCALAR, offset=21, storage_dim=1, tangent_dim=1), index_entry_t(key=key_t(letter=118, subscript=20, superscript=-9223372036854775808), type=type_t.SCALAR, offset=22, storage_dim=1, tangent_dim=1), index_entry_t(key=key_t(letter=118, subscript=21, superscript=-9223372036854775808), type=type_t.SCALAR, offset=23, storage_dim=1, tangent_dim=1), index_entry_t(key=key_t(letter=118, subscript=22, superscript=-9223372036854775808), type=type_t.SCALAR, offset=24, storage_dim=1, tangent_dim=1), index_entry_t(key=key_t(letter=118, subscript=23, superscript=-9223372036854775808), type=type_t.SCALAR, offset=25, storage_dim=1, tangent_dim=1), index_entry_t(key=key_t(letter=118, subscript=24, superscript=-9223372036854775808), type=type_t.SCALAR, offset=26, storage_dim=1, tangent_dim=1), index_entry_t(key=key_t(letter=118, subscript=25, superscript=-9223372036854775808), type=type_t.SCALAR, offset=27, storage_dim=1, tangent_dim=1)]), data=(-2.2627515714218414e-06, 1.500577028139404e-08, 1.0, 2.473684210526316, 3.9473684210526314, 5.421052631578947, 6.894736842105263, 8.368421052631579, 9.842105263157894, 11.31578947368421, 12.789473684210526, 14.26315789473684, 15.736842105263158, 17.210526315789473, 18.684210526315788, 20.157894736842103, 21.63157894736842, 23.105263157894736, 24.57894736842105, 26.052631578947366, 27.52631578947368, 29.0, 1.8, -0.49000000000000005, 0.0, -0.49000000000000005, 30.0, 20.0)), residual=VectorXf(rows=20, data=(0.0, 0.0, 0.0, 0.0, 0.0, 2834.613037109375, 2657.9482421875, 0.0, 0.0, 0.0, 0.0, 0.0, 0.0, 0.0, 0.0, 0.0, 0.0, 0.0, 0.0, 0.0)), jacobian_values=VectorXf(rows=40, data=(-0.0, 0.0, 0.0, 0.0, 0.0, 21731035136.0, 20302000128.0, 0.0, 0.0, 0.0, -0.0, -0.0, -0.0, 0.0, 0.0, 0.0, 0.0, 0.0, -0.0, -0.0, -0.0, 0.0, 0.0, 0.0, 0.0, 1917011230720.0, 1848981979136.0, 0.0, 0.0, 0.0, -0.0, -0.0, -0.0, 0.0, 0.0, 0.0, 0.0, 0.0, -0.0, -0.0))), optimization_iteration_t(iteration=1, current_lambda=0.25, new_error_linear=1.1650838927809395e-21, new_error=2.767946662407033e-20, relative_reduction=1.0, update_accepted=True, update_angle_change=0.0, values=values_t(index=index_t(storage_dim=28, tangent_dim=28, entries=[index_entry_t(key=key_t(letter=120, subscript=0, superscript=-9223372036854775808), type=type_t.SCALAR, offset=0, storage_dim=1, tangent_dim=1), index_entry_t(key=key_t(letter=120, subscript=1, superscript=-9223372036854775808), type=type_t.SCALAR, offset=1, storage_dim=1, tangent_dim=1), index_entry_t(key=key_t(letter=118, subscript=0, superscript=-9223372036854775808), type=type_t.SCALAR, offset=2, storage_dim=1, tangent_dim=1), index_entry_t(key=key_t(letter=118, subscript=1, superscript=-9223372036854775808), type=type_t.SCALAR, offset=3, storage_dim=1, tangent_dim=1), index_entry_t(key=key_t(letter=118, subscript=2, superscript=-9223372036854775808), type=type_t.SCALAR, offset=4, storage_dim=1, tangent_dim=1), index_entry_t(key=key_t(letter=118, subscript=3, superscript=-9223372036854775808), type=type_t.SCALAR, offset=5, storage_dim=1, tangent_dim=1), index_entry_t(key=key_t(letter=118, subscript=4, superscript=-9223372036854775808), type=type_t.SCALAR, offset=6, storage_dim=1, tangent_dim=1), index_entry_t(key=key_t(letter=118, subscript=5, superscript=-9223372036854775808), type=type_t.SCALAR, offset=7, storage_dim=1, tangent_dim=1), index_entry_t(key=key_t(letter=118, subscript=6, superscript=-9223372036854775808), type=type_t.SCALAR, offset=8, storage_dim=1, tangent_dim=1), index_entry_t(key=key_t(letter=118, subscript=7, superscript=-9223372036854775808), type=type_t.SCALAR, offset=9, storage_dim=1, tangent_dim=1), index_entry_t(key=key_t(letter=118, subscript=8, superscript=-9223372036854775808), type=type_t.SCALAR, offset=10, storage_dim=1, tangent_dim=1), index_entry_t(key=key_t(letter=118, subscript=9, superscript=-9223372036854775808), type=type_t.SCALAR, offset=11, storage_dim=1, tangent_dim=1), index_entry_t(key=key_t(letter=118, subscript=10, superscript=-9223372036854775808), type=type_t.SCALAR, offset=12, storage_dim=1, tangent_dim=1), index_entry_t(key=key_t(letter=118, subscript=11, superscript=-9223372036854775808), type=type_t.SCALAR, offset=13, storage_dim=1, tangent_dim=1), index_entry_t(key=key_t(letter=118, subscript=12, superscript=-9223372036854775808), type=type_t.SCALAR, offset=14, storage_dim=1, tangent_dim=1), index_entry_t(key=key_t(letter=118, subscript=13, superscript=-9223372036854775808), type=type_t.SCALAR, offset=15, storage_dim=1, tangent_dim=1), index_entry_t(key=key_t(letter=118, subscript=14, superscript=-9223372036854775808), type=type_t.SCALAR, offset=16, storage_dim=1, tangent_dim=1), index_entry_t(key=key_t(letter=118, subscript=15, superscript=-9223372036854775808), type=type_t.SCALAR, offset=17, storage_dim=1, tangent_dim=1), index_entry_t(key=key_t(letter=118, subscript=16, superscript=-9223372036854775808), type=type_t.SCALAR, offset=18, storage_dim=1, tangent_dim=1), index_entry_t(key=key_t(letter=118, subscript=17, superscript=-9223372036854775808), type=type_t.SCALAR, offset=19, storage_dim=1, tangent_dim=1), index_entry_t(key=key_t(letter=118, subscript=18, superscript=-9223372036854775808), type=type_t.SCALAR, offset=20, storage_dim=1, tangent_dim=1), index_entry_t(key=key_t(letter=118, subscript=19, superscript=-9223372036854775808), type=type_t.SCALAR, offset=21, storage_dim=1, tangent_dim=1), index_entry_t(key=key_t(letter=118, subscript=20, superscript=-9223372036854775808), type=type_t.SCALAR, offset=22, storage_dim=1, tangent_dim=1), index_entry_t(key=key_t(letter=118, subscript=21, superscript=-9223372036854775808), type=type_t.SCALAR, offset=23, storage_dim=1, tangent_dim=1), index_entry_t(key=key_t(letter=118, subscript=22, superscript=-9223372036854775808), type=type_t.SCALAR, offset=24, storage_dim=1, tangent_dim=1), index_entry_t(key=key_t(letter=118, subscript=23, superscript=-9223372036854775808), type=type_t.SCALAR, offset=25, storage_dim=1, tangent_dim=1), index_entry_t(key=key_t(letter=118, subscript=24, superscript=-9223372036854775808), type=type_t.SCALAR, offset=26, storage_dim=1, tangent_dim=1), index_entry_t(key=key_t(letter=118, subscript=25, superscript=-9223372036854775808), type=type_t.SCALAR, offset=27, storage_dim=1, tangent_dim=1)]), data=(-2.378387010821322e-06, 1.4837938701412847e-08, 1.0, 2.473684210526316, 3.9473684210526314, 5.421052631578947, 6.894736842105263, 8.368421052631579, 9.842105263157894, 11.31578947368421, 12.789473684210526, 14.26315789473684, 15.736842105263158, 17.210526315789473, 18.684210526315788, 20.157894736842103, 21.63157894736842, 23.105263157894736, 24.57894736842105, 26.052631578947366, 27.52631578947368, 29.0, 1.8, -0.49000000000000005, 0.0, -0.49000000000000005, 30.0, 20.0)), residual=VectorXf(rows=20, data=(0.0, 0.0, 0.0, 0.0, 0.0, 6.938893903907228e-11, 2.248201624865942e-10, 0.0, 0.0, 0.0, 0.0, 0.0, 0.0, 0.0, 0.0, 0.0, 0.0, 0.0, 0.0, 0.0)), jacobian_values=VectorXf(rows=40, data=(-0.0, 0.0, 0.0, 0.0, 0.0, 21731035136.0, 20302000128.0, 0.0, 0.0, 0.0, -0.0, -0.0, -0.0, 0.0, 0.0, 0.0, 0.0, 0.0, -0.0, -0.0, -0.0, 0.0, 0.0, 0.0, 0.0, 1917011230720.0, 1848981979136.0, 0.0, 0.0, 0.0, -0.0, -0.0, -0.0, 0.0, 0.0, 0.0, 0.0, 0.0, -0.0, -0.0))), optimization_iteration_t(iteration=2, current_lambda=0.0625, new_error_linear=0.0, new_error=0.0, relative_reduction=2.767946462312043e-11, update_accepted=True, update_angle_change=0.0, values=values_t(index=index_t(storage_dim=28, tangent_dim=28, entries=[index_entry_t(key=key_t(letter=120, subscript=0, superscript=-9223372036854775808), type=type_t.SCALAR, offset=0, storage_dim=1, tangent_dim=1), index_entry_t(key=key_t(letter=120, subscript=1, superscript=-9223372036854775808), type=type_t.SCALAR, offset=1, storage_dim=1, tangent_dim=1), index_entry_t(key=key_t(letter=118, subscript=0, superscript=-9223372036854775808), type=type_t.SCALAR, offset=2, storage_dim=1, tangent_dim=1), index_entry_t(key=key_t(letter=118, subscript=1, superscript=-9223372036854775808), type=type_t.SCALAR, offset=3, storage_dim=1, tangent_dim=1), index_entry_t(key=key_t(letter=118, subscript=2, superscript=-9223372036854775808), type=type_t.SCALAR, offset=4, storage_dim=1, tangent_dim=1), index_entry_t(key=key_t(letter=118, subscript=3, superscript=-9223372036854775808), type=type_t.SCALAR, offset=5, storage_dim=1, tangent_dim=1), index_entry_t(key=key_t(letter=118, subscript=4, superscript=-9223372036854775808), type=type_t.SCALAR, offset=6, storage_dim=1, tangent_dim=1), index_entry_t(key=key_t(letter=118, subscript=5, superscript=-9223372036854775808), type=type_t.SCALAR, offset=7, storage_dim=1, tangent_dim=1), index_entry_t(key=key_t(letter=118, subscript=6, superscript=-9223372036854775808), type=type_t.SCALAR, offset=8, storage_dim=1, tangent_dim=1), index_entry_t(key=key_t(letter=118, subscript=7, superscript=-9223372036854775808), type=type_t.SCALAR, offset=9, storage_dim=1, tangent_dim=1), index_entry_t(key=key_t(letter=118, subscript=8, superscript=-9223372036854775808), type=type_t.SCALAR, offset=10, storage_dim=1, tangent_dim=1), index_entry_t(key=key_t(letter=118, subscript=9, superscript=-9223372036854775808), type=type_t.SCALAR, offset=11, storage_dim=1, tangent_dim=1), index_entry_t(key=key_t(letter=118, subscript=10, superscript=-9223372036854775808), type=type_t.SCALAR, offset=12, storage_dim=1, tangent_dim=1), index_entry_t(key=key_t(letter=118, subscript=11, superscript=-9223372036854775808), type=type_t.SCALAR, offset=13, storage_dim=1, tangent_dim=1), index_entry_t(key=key_t(letter=118, subscript=12, superscript=-9223372036854775808), type=type_t.SCALAR, offset=14, storage_dim=1, tangent_dim=1), index_entry_t(key=key_t(letter=118, subscript=13, superscript=-9223372036854775808), type=type_t.SCALAR, offset=15, storage_dim=1, tangent_dim=1), index_entry_t(key=key_t(letter=118, subscript=14, superscript=-9223372036854775808), type=type_t.SCALAR, offset=16, storage_dim=1, tangent_dim=1), index_entry_t(key=key_t(letter=118, subscript=15, superscript=-9223372036854775808), type=type_t.SCALAR, offset=17, storage_dim=1, tangent_dim=1), index_entry_t(key=key_t(letter=118, subscript=16, superscript=-9223372036854775808), type=type_t.SCALAR, offset=18, storage_dim=1, tangent_dim=1), index_entry_t(key=key_t(letter=118, subscript=17, superscript=-9223372036854775808), type=type_t.SCALAR, offset=19, storage_dim=1, tangent_dim=1), index_entry_t(key=key_t(letter=118, subscript=18, superscript=-9223372036854775808), type=type_t.SCALAR, offset=20, storage_dim=1, tangent_dim=1), index_entry_t(key=key_t(letter=118, subscript=19, superscript=-9223372036854775808), type=type_t.SCALAR, offset=21, storage_dim=1, tangent_dim=1), index_entry_t(key=key_t(letter=118, subscript=20, superscript=-9223372036854775808), type=type_t.SCALAR, offset=22, storage_dim=1, tangent_dim=1), index_entry_t(key=key_t(letter=118, subscript=21, superscript=-9223372036854775808), type=type_t.SCALAR, offset=23, storage_dim=1, tangent_dim=1), index_entry_t(key=key_t(letter=118, subscript=22, superscript=-9223372036854775808), type=type_t.SCALAR, offset=24, storage_dim=1, tangent_dim=1), index_entry_t(key=key_t(letter=118, subscript=23, superscript=-9223372036854775808), type=type_t.SCALAR, offset=25, storage_dim=1, tangent_dim=1), index_entry_t(key=key_t(letter=118, subscript=24, superscript=-9223372036854775808), type=type_t.SCALAR, offset=26, storage_dim=1, tangent_dim=1), index_entry_t(key=key_t(letter=118, subscript=25, superscript=-9223372036854775808), type=type_t.SCALAR, offset=27, storage_dim=1, tangent_dim=1)]), data=(-2.378387010821082e-06, 1.483793870141009e-08, 1.0, 2.473684210526316, 3.9473684210526314, 5.421052631578947, 6.894736842105263, 8.368421052631579, 9.842105263157894, 11.31578947368421, 12.789473684210526, 14.26315789473684, 15.736842105263158, 17.210526315789473, 18.684210526315788, 20.157894736842103, 21.63157894736842, 23.105263157894736, 24.57894736842105, 26.052631578947366, 27.52631578947368, 29.0, 1.8, -0.49000000000000005, 0.0, -0.49000000000000005, 30.0, 20.0)), residual=VectorXf(rows=20, data=(0.0, 0.0, 0.0, 0.0, 0.0, 0.0, 0.0, 0.0, 0.0, 0.0, 0.0, 0.0, 0.0, 0.0, 0.0, 0.0, 0.0, 0.0, 0.0, 0.0)), jacobian_values=VectorXf(rows=40, data=(-0.0, 0.0, 0.0, 0.0, 0.0, 0.0, 0.0, 0.0, 0.0, 0.0, -0.0, -0.0, -0.0, 0.0, 0.0, 0.0, 0.0, 0.0, -0.0, -0.0, -0.0, 0.0, 0.0, 0.0, 0.0, 0.0, 0.0, 0.0, 0.0, 0.0, -0.0, -0.0, -0.0, 0.0, 0.0, 0.0, 0.0, 0.0, -0.0, -0.0)))], early_exited=True, best_index=3)\n"
     ]
    }
   ],
   "source": [
    "# initial_speed = 1.38\n",
    "# initial_a = -1.0\n",
    "# arrival_speed = 0\n",
    "# arrival_a = -0.1 * 9.8\n",
    "# drive_length = 20\n",
    "# arrival_time = 20\n",
    "\n",
    "initial_speed = 1.8\n",
    "initial_a = -0.05 * 9.8\n",
    "arrival_speed = 0\n",
    "arrival_a = -0.05 * 9.8\n",
    "drive_length = 20\n",
    "arrival_time = 30\n",
    "\n",
    "initial_values = Values(\n",
    "    times = list(np.linspace(1, arrival_time-1, num_constraint)),\n",
    "    v_0 = initial_speed,\n",
    "    a_0 = initial_a,\n",
    "    v_A = arrival_speed,\n",
    "    a_A = arrival_a,\n",
    "    T_A = arrival_time,\n",
    "    l_A = drive_length,\n",
    "    s_5 = 0,\n",
    "    s_6 = 0\n",
    ")\n",
    "\n",
    "result = optimizer.optimize(initial_values)\n",
    "print(result)"
   ],
   "metadata": {
    "collapsed": false,
    "pycharm": {
     "name": "#%%\n"
    }
   }
  },
  {
   "cell_type": "code",
   "execution_count": 199,
   "outputs": [
    {
     "data": {
      "text/plain": "[<matplotlib.lines.Line2D at 0x7f6ce00afcd0>]"
     },
     "execution_count": 199,
     "metadata": {},
     "output_type": "execute_result"
    },
    {
     "data": {
      "text/plain": "<Figure size 432x288 with 1 Axes>",
      "image/png": "[encoded data removed]"
     },
     "metadata": {
      "needs_background": "light"
     },
     "output_type": "display_data"
    }
   ],
   "source": [
    "opt_s_5  = result.optimized_values[\"s_5\"]\n",
    "opt_s_6 = result.optimized_values[\"s_6\"]\n",
    "\n",
    "\n",
    "opt_t = np.linspace(0, arrival_time, 100)\n",
    "opt_v = [3600/1000 * velocity_function(c_t, initial_speed, initial_a, arrival_speed, arrival_a, arrival_time, drive_length, opt_s_5, opt_s_6) for c_t in opt_t]\n",
    "\n",
    "# plt.ylim([0, initial_speed])\n",
    "plt.plot(opt_t, opt_v)\n"
   ],
   "metadata": {
    "collapsed": false,
    "pycharm": {
     "name": "#%%\n"
    }
   }
  },
  {
   "cell_type": "code",
   "execution_count": 199,
   "outputs": [],
   "source": [],
   "metadata": {
    "collapsed": false,
    "pycharm": {
     "name": "#%%\n"
    }
   }
  }
 ],
 "metadata": {
  "kernelspec": {
   "display_name": "Python 3",
   "language": "python",
   "name": "python3"
  },
  "language_info": {
   "codemirror_mode": {
    "name": "ipython",
    "version": 2
   },
   "file_extension": ".py",
   "mimetype": "text/x-python",
   "name": "python",
   "nbconvert_exporter": "python",
   "pygments_lexer": "ipython2",
   "version": "2.7.6"
  }
 },
 "nbformat": 4,
 "nbformat_minor": 0
}