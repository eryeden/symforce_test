{
 "cells": [
  {
   "cell_type": "code",
   "execution_count": 13,
   "outputs": [],
   "source": [
    "from symforce import sympy as sm\n",
    "from symforce import geo\n",
    "from symforce import typing as T\n",
    "from symforce.opt.factor import Factor\n",
    "\n",
    "import numpy as np\n",
    "import matplotlib.pyplot as plt"
   ],
   "metadata": {
    "collapsed": false,
    "pycharm": {
     "name": "#%%\n"
    }
   }
  },
  {
   "cell_type": "code",
   "execution_count": 15,
   "outputs": [
    {
     "data": {
      "text/plain": "[<matplotlib.lines.Line2D at 0x7efcc883f7f0>]"
     },
     "execution_count": 15,
     "metadata": {},
     "output_type": "execute_result"
    },
    {
     "data": {
      "text/plain": "<Figure size 432x288 with 1 Axes>",
      "image/png": "[encoded data removed]"
     },
     "metadata": {
      "needs_background": "light"
     },
     "output_type": "display_data"
    }
   ],
   "source": [
    "# build the sample speed limits\n",
    "\n",
    "num_points = 100\n",
    "interval_distance = 0.1\n",
    "\n",
    "max_speeds = np.array([0.0 for i in range(100)])\n",
    "max_speeds[0:30] = 1\n",
    "max_speeds[30:70] = 2\n",
    "max_speeds[70:90] = 0.5\n",
    "max_speeds[90:100] = 0\n",
    "\n",
    "max_acc = 0.1 * 9.8  # 0.1 G\n",
    "\n",
    "plt.plot(max_speeds)"
   ],
   "metadata": {
    "collapsed": false,
    "pycharm": {
     "name": "#%%\n"
    }
   }
  },
  {
   "cell_type": "code",
   "execution_count": 21,
   "outputs": [],
   "source": [
    "# build the max speed barrier factors\n",
    "\n",
    "from symforce.opt.barrier_functions import (\n",
    "    min_max_power_barrier,\n",
    "    min_max_linear_barrier,\n",
    "    max_linear_barrier\n",
    ")\n",
    "\n",
    "\n",
    "def time_function(\n",
    "        speed_n: T.Scalar, speed_n_plus_1: T.Scalar, distance: T.Scalar, eps: T.Scalar\n",
    ") -> T.Scalar:\n",
    "    return 2.0 * distance / (speed_n + speed_n_plus_1 + eps)\n",
    "\n",
    "def min_max_speed_residual(\n",
    "        speed: T.Scalar, min_speed: T.Scalar, max_speed: T.Scalar\n",
    ") -> T.Scalar:\n",
    "    return min_max_linear_barrier(speed, min_speed, max_speed, 100, 0.01)\n",
    "\n",
    "def acceleration_residual(\n",
    "        speed_n: T.Scalar, speed_n_plus_1: T.Scalar, distance: T.Scalar, max_acceleration: T.Scalar, eps: T.Scalar\n",
    ") -> T.Scalar:\n",
    "    acc = (speed_n_plus_1 - speed_n) / time_function(speed_n, speed_n_plus_1, distance, eps)\n",
    "    return max_linear_barrier(acc*acc, max_acceleration*max_acceleration, 100, 0.01)\n",
    "\n",
    "from typing import List\n",
    "def time_window_residual(speeds: List[T.Scalar], distance: T.Scalar, max_time: T.Scalar, eps:T.Scalar):\n",
    "    goal_time = None\n",
    "    for i in range(1, len(speeds)):\n",
    "        goal_time = goal_time + time_function(speeds[i-1], speeds[i], distance, eps)\n",
    "    return max_time - goal_time"
   ],
   "metadata": {
    "collapsed": false,
    "pycharm": {
     "name": "#%%\n"
    }
   }
  },
  {
   "cell_type": "code",
   "execution_count": 24,
   "outputs": [
    {
     "ename": "NotImplementedError",
     "evalue": "<class 'typing._GenericAlias'> is not registered under StorageOps",
     "output_type": "error",
     "traceback": [
      "\u001B[0;31m---------------------------------------------------------------------------\u001B[0m",
      "\u001B[0;31mNotImplementedError\u001B[0m                       Traceback (most recent call last)",
      "Input \u001B[0;32mIn [24]\u001B[0m, in \u001B[0;36m<cell line: 15>\u001B[0;34m()\u001B[0m\n\u001B[1;32m      9\u001B[0m     factors\u001B[38;5;241m.\u001B[39mappend(Factor(\n\u001B[1;32m     10\u001B[0m         residual\u001B[38;5;241m=\u001B[39mmin_max_speed_residual,\n\u001B[1;32m     11\u001B[0m         keys\u001B[38;5;241m=\u001B[39m[\u001B[38;5;124mf\u001B[39m\u001B[38;5;124m\"\u001B[39m\u001B[38;5;124mspeed[\u001B[39m\u001B[38;5;132;01m{\u001B[39;00mi\u001B[38;5;132;01m}\u001B[39;00m\u001B[38;5;124m]\u001B[39m\u001B[38;5;124m\"\u001B[39m, \u001B[38;5;124mf\u001B[39m\u001B[38;5;124m\"\u001B[39m\u001B[38;5;124mmin_speed[\u001B[39m\u001B[38;5;132;01m{\u001B[39;00mi\u001B[38;5;132;01m}\u001B[39;00m\u001B[38;5;124m]\u001B[39m\u001B[38;5;124m\"\u001B[39m, \u001B[38;5;124mf\u001B[39m\u001B[38;5;124m\"\u001B[39m\u001B[38;5;124mmax_speed[\u001B[39m\u001B[38;5;132;01m{\u001B[39;00mi\u001B[38;5;132;01m}\u001B[39;00m\u001B[38;5;124m]\u001B[39m\u001B[38;5;124m\"\u001B[39m],\n\u001B[1;32m     12\u001B[0m     ))\n\u001B[1;32m     13\u001B[0m     speed_keys\u001B[38;5;241m.\u001B[39mappend(\u001B[38;5;124mf\u001B[39m\u001B[38;5;124m\"\u001B[39m\u001B[38;5;124mspeed[\u001B[39m\u001B[38;5;132;01m{\u001B[39;00mi\u001B[38;5;132;01m}\u001B[39;00m\u001B[38;5;124m]\u001B[39m\u001B[38;5;124m\"\u001B[39m)\n\u001B[0;32m---> 15\u001B[0m factors\u001B[38;5;241m.\u001B[39mappend(\u001B[43mFactor\u001B[49m\u001B[43m(\u001B[49m\n\u001B[1;32m     16\u001B[0m \u001B[43m    \u001B[49m\u001B[43mresidual\u001B[49m\u001B[38;5;241;43m=\u001B[39;49m\u001B[43mtime_window_residual\u001B[49m\u001B[43m,\u001B[49m\n\u001B[1;32m     17\u001B[0m \u001B[43m    \u001B[49m\u001B[43mkeys\u001B[49m\u001B[38;5;241;43m=\u001B[39;49m\u001B[43m[\u001B[49m\u001B[43mspeed_keys\u001B[49m\u001B[43m,\u001B[49m\u001B[43m \u001B[49m\u001B[38;5;124;43m\"\u001B[39;49m\u001B[38;5;124;43mdistance\u001B[39;49m\u001B[38;5;124;43m\"\u001B[39;49m\u001B[43m,\u001B[49m\u001B[43m \u001B[49m\u001B[38;5;124;43m\"\u001B[39;49m\u001B[38;5;124;43mmax_time\u001B[39;49m\u001B[38;5;124;43m\"\u001B[39;49m\u001B[43m,\u001B[49m\u001B[43m \u001B[49m\u001B[38;5;124;43m\"\u001B[39;49m\u001B[38;5;124;43mepsilon\u001B[39;49m\u001B[38;5;124;43m\"\u001B[39;49m\u001B[43m]\u001B[49m\u001B[43m,\u001B[49m\u001B[43m)\u001B[49m)\n\u001B[1;32m     19\u001B[0m \u001B[38;5;28;01mfor\u001B[39;00m i \u001B[38;5;129;01min\u001B[39;00m \u001B[38;5;28mrange\u001B[39m(\u001B[38;5;28mlen\u001B[39m(max_speeds)\u001B[38;5;241m-\u001B[39m\u001B[38;5;241m1\u001B[39m):\n\u001B[1;32m     20\u001B[0m     factors\u001B[38;5;241m.\u001B[39mappend(Factor(\n\u001B[1;32m     21\u001B[0m         residual\u001B[38;5;241m=\u001B[39macceleration_residual,\n\u001B[1;32m     22\u001B[0m         keys\u001B[38;5;241m=\u001B[39m[\u001B[38;5;124mf\u001B[39m\u001B[38;5;124m\"\u001B[39m\u001B[38;5;124mspeed[\u001B[39m\u001B[38;5;132;01m{\u001B[39;00mi\u001B[38;5;132;01m}\u001B[39;00m\u001B[38;5;124m]\u001B[39m\u001B[38;5;124m\"\u001B[39m, \u001B[38;5;124mf\u001B[39m\u001B[38;5;124m\"\u001B[39m\u001B[38;5;124mspeed[\u001B[39m\u001B[38;5;132;01m{\u001B[39;00mi\u001B[38;5;241m+\u001B[39m\u001B[38;5;241m1\u001B[39m\u001B[38;5;132;01m}\u001B[39;00m\u001B[38;5;124m]\u001B[39m\u001B[38;5;124m\"\u001B[39m, \u001B[38;5;124m\"\u001B[39m\u001B[38;5;124mdistance\u001B[39m\u001B[38;5;124m\"\u001B[39m, \u001B[38;5;124mf\u001B[39m\u001B[38;5;124m\"\u001B[39m\u001B[38;5;124mmax_acceleration\u001B[39m\u001B[38;5;124m\"\u001B[39m, \u001B[38;5;124m\"\u001B[39m\u001B[38;5;124mepsilon\u001B[39m\u001B[38;5;124m\"\u001B[39m],\n\u001B[1;32m     23\u001B[0m     ))\n",
      "File \u001B[0;32m~/.local/share/virtualenvs/symforce_speed_planning-N01dV6mK/lib/python3.8/site-packages/symforce/opt/factor.py:70\u001B[0m, in \u001B[0;36mFactor.__init__\u001B[0;34m(self, keys, residual, config, custom_jacobian_func, **kwargs)\u001B[0m\n\u001B[1;32m     66\u001B[0m \u001B[38;5;28;01mif\u001B[39;00m config \u001B[38;5;129;01mis\u001B[39;00m \u001B[38;5;28;01mNone\u001B[39;00m:\n\u001B[1;32m     67\u001B[0m     config \u001B[38;5;241m=\u001B[39m codegen_config\u001B[38;5;241m.\u001B[39mPythonConfig(autoformat\u001B[38;5;241m=\u001B[39m\u001B[38;5;28;01mFalse\u001B[39;00m)\n\u001B[1;32m     68\u001B[0m \u001B[38;5;28mself\u001B[39m\u001B[38;5;241m.\u001B[39m_initialize(\n\u001B[1;32m     69\u001B[0m     keys\u001B[38;5;241m=\u001B[39mkeys,\n\u001B[0;32m---> 70\u001B[0m     codegen_obj\u001B[38;5;241m=\u001B[39m\u001B[43mCodegen\u001B[49m\u001B[38;5;241;43m.\u001B[39;49m\u001B[43mfunction\u001B[49m\u001B[43m(\u001B[49m\u001B[43mfunc\u001B[49m\u001B[38;5;241;43m=\u001B[39;49m\u001B[43mresidual\u001B[49m\u001B[43m,\u001B[49m\u001B[43m \u001B[49m\u001B[43mconfig\u001B[49m\u001B[38;5;241;43m=\u001B[39;49m\u001B[43mconfig\u001B[49m\u001B[43m,\u001B[49m\u001B[43m \u001B[49m\u001B[38;5;241;43m*\u001B[39;49m\u001B[38;5;241;43m*\u001B[39;49m\u001B[43mkwargs\u001B[49m\u001B[43m)\u001B[49m,\n\u001B[1;32m     71\u001B[0m     custom_jacobian_func\u001B[38;5;241m=\u001B[39mcustom_jacobian_func,\n\u001B[1;32m     72\u001B[0m )\n",
      "File \u001B[0;32m~/.local/share/virtualenvs/symforce_speed_planning-N01dV6mK/lib/python3.8/site-packages/symforce/codegen/codegen.py:198\u001B[0m, in \u001B[0;36mCodegen.function\u001B[0;34m(cls, func, config, name, input_types, output_names, return_key, docstring)\u001B[0m\n\u001B[1;32m    195\u001B[0m     \u001B[38;5;28;01massert\u001B[39;00m inner_func\u001B[38;5;241m.\u001B[39m\u001B[38;5;18m__name__\u001B[39m \u001B[38;5;241m!=\u001B[39m \u001B[38;5;124m\"\u001B[39m\u001B[38;5;124m<lambda>\u001B[39m\u001B[38;5;124m\"\u001B[39m, \u001B[38;5;124m\"\u001B[39m\u001B[38;5;124mCan\u001B[39m\u001B[38;5;124m'\u001B[39m\u001B[38;5;124mt deduce name automatically for a lambda\u001B[39m\u001B[38;5;124m\"\u001B[39m\n\u001B[1;32m    196\u001B[0m     name \u001B[38;5;241m=\u001B[39m inner_func\u001B[38;5;241m.\u001B[39m\u001B[38;5;18m__name__\u001B[39m\n\u001B[0;32m--> 198\u001B[0m inputs \u001B[38;5;241m=\u001B[39m \u001B[43msymbolic_inputs\u001B[49m\u001B[43m(\u001B[49m\u001B[43mfunc\u001B[49m\u001B[43m,\u001B[49m\u001B[43m \u001B[49m\u001B[43minput_types\u001B[49m\u001B[43m)\u001B[49m\n\u001B[1;32m    200\u001B[0m \u001B[38;5;66;03m# Run the symbolic arguments through the function and get the symbolic output expression(s)\u001B[39;00m\n\u001B[1;32m    201\u001B[0m res \u001B[38;5;241m=\u001B[39m func(\u001B[38;5;241m*\u001B[39minputs\u001B[38;5;241m.\u001B[39mvalues())\n",
      "File \u001B[0;32m~/.local/share/virtualenvs/symforce_speed_planning-N01dV6mK/lib/python3.8/site-packages/symforce/type_helpers.py:87\u001B[0m, in \u001B[0;36msymbolic_inputs\u001B[0;34m(func, input_types)\u001B[0m\n\u001B[1;32m     85\u001B[0m inputs \u001B[38;5;241m=\u001B[39m Values()\n\u001B[1;32m     86\u001B[0m \u001B[38;5;28;01mfor\u001B[39;00m arg_parameter, arg_type \u001B[38;5;129;01min\u001B[39;00m \u001B[38;5;28mzip\u001B[39m(parameters, input_types):\n\u001B[0;32m---> 87\u001B[0m     inputs[arg_parameter\u001B[38;5;241m.\u001B[39mname] \u001B[38;5;241m=\u001B[39m \u001B[43mops\u001B[49m\u001B[38;5;241;43m.\u001B[39;49m\u001B[43mStorageOps\u001B[49m\u001B[38;5;241;43m.\u001B[39;49m\u001B[43msymbolic\u001B[49m\u001B[43m(\u001B[49m\u001B[43marg_type\u001B[49m\u001B[43m,\u001B[49m\u001B[43m \u001B[49m\u001B[43marg_parameter\u001B[49m\u001B[38;5;241;43m.\u001B[39;49m\u001B[43mname\u001B[49m\u001B[43m)\u001B[49m\n\u001B[1;32m     89\u001B[0m \u001B[38;5;28;01mreturn\u001B[39;00m inputs\n",
      "File \u001B[0;32m~/.local/share/virtualenvs/symforce_speed_planning-N01dV6mK/lib/python3.8/site-packages/symforce/ops/storage_ops.py:57\u001B[0m, in \u001B[0;36mStorageOps.symbolic\u001B[0;34m(a, name, **kwargs)\u001B[0m\n\u001B[1;32m     44\u001B[0m \u001B[38;5;129m@staticmethod\u001B[39m\n\u001B[1;32m     45\u001B[0m \u001B[38;5;28;01mdef\u001B[39;00m \u001B[38;5;21msymbolic\u001B[39m(a: T\u001B[38;5;241m.\u001B[39mElementOrType, name: \u001B[38;5;28mstr\u001B[39m, \u001B[38;5;241m*\u001B[39m\u001B[38;5;241m*\u001B[39mkwargs: T\u001B[38;5;241m.\u001B[39mDict) \u001B[38;5;241m-\u001B[39m\u001B[38;5;241m>\u001B[39m T\u001B[38;5;241m.\u001B[39mElement:\n\u001B[1;32m     46\u001B[0m     \u001B[38;5;124;03m\"\"\"\u001B[39;00m\n\u001B[1;32m     47\u001B[0m \u001B[38;5;124;03m    Construct a symbolic element with the given name prefix.\u001B[39;00m\n\u001B[1;32m     48\u001B[0m \n\u001B[0;32m   (...)\u001B[0m\n\u001B[1;32m     55\u001B[0m \u001B[38;5;124;03m        Storage:\u001B[39;00m\n\u001B[1;32m     56\u001B[0m \u001B[38;5;124;03m    \"\"\"\u001B[39;00m\n\u001B[0;32m---> 57\u001B[0m     \u001B[38;5;28;01mreturn\u001B[39;00m \u001B[43mStorageOps\u001B[49m\u001B[38;5;241;43m.\u001B[39;49m\u001B[43mimplementation\u001B[49m\u001B[43m(\u001B[49m\u001B[43mget_type\u001B[49m\u001B[43m(\u001B[49m\u001B[43ma\u001B[49m\u001B[43m)\u001B[49m\u001B[43m)\u001B[49m\u001B[38;5;241m.\u001B[39msymbolic(a, name, \u001B[38;5;241m*\u001B[39m\u001B[38;5;241m*\u001B[39mkwargs)\n",
      "File \u001B[0;32m~/.local/share/virtualenvs/symforce_speed_planning-N01dV6mK/lib/python3.8/site-packages/symforce/ops/ops.py:96\u001B[0m, in \u001B[0;36mOps.implementation\u001B[0;34m(cls, impl_type)\u001B[0m\n\u001B[1;32m     83\u001B[0m \u001B[38;5;28;01mif\u001B[39;00m \u001B[38;5;28mlen\u001B[39m(registered_and_base) \u001B[38;5;241m!=\u001B[39m \u001B[38;5;241m0\u001B[39m:\n\u001B[1;32m     84\u001B[0m     \u001B[38;5;28;01mraise\u001B[39;00m \u001B[38;5;167;01mNotImplementedError\u001B[39;00m(\n\u001B[1;32m     85\u001B[0m         \u001B[38;5;124mf\u001B[39m\u001B[38;5;124m\"\u001B[39m\u001B[38;5;124mWhile \u001B[39m\u001B[38;5;132;01m{\u001B[39;00mimpl_type\u001B[38;5;132;01m}\u001B[39;00m\u001B[38;5;124m is registered under \u001B[39m\u001B[38;5;130;01m{{\u001B[39;00m\u001B[38;5;124mreg_info\u001B[39m\u001B[38;5;130;01m}}\u001B[39;00m\u001B[38;5;124m, \u001B[39m\u001B[38;5;130;01m{{\u001B[39;00m\u001B[38;5;124mnone_do\u001B[39m\u001B[38;5;130;01m}}\u001B[39;00m\u001B[38;5;124m subclass \u001B[39m\u001B[38;5;132;01m{\u001B[39;00m\u001B[38;5;28mcls\u001B[39m\u001B[38;5;241m.\u001B[39m\u001B[38;5;18m__name__\u001B[39m\u001B[38;5;132;01m}\u001B[39;00m\u001B[38;5;124m.\u001B[39m\u001B[38;5;124m\"\u001B[39m\u001B[38;5;241m.\u001B[39mformat(\n\u001B[1;32m     86\u001B[0m             reg_info\u001B[38;5;241m=\u001B[39m\u001B[38;5;124m\"\u001B[39m\u001B[38;5;124m, \u001B[39m\u001B[38;5;124m\"\u001B[39m\u001B[38;5;241m.\u001B[39mjoin(\n\u001B[0;32m   (...)\u001B[0m\n\u001B[1;32m     93\u001B[0m         )\n\u001B[1;32m     94\u001B[0m     )\n\u001B[0;32m---> 96\u001B[0m \u001B[38;5;28;01mraise\u001B[39;00m \u001B[38;5;167;01mNotImplementedError\u001B[39;00m(\u001B[38;5;124mf\u001B[39m\u001B[38;5;124m\"\u001B[39m\u001B[38;5;132;01m{\u001B[39;00mimpl_type\u001B[38;5;132;01m}\u001B[39;00m\u001B[38;5;124m is not registered under \u001B[39m\u001B[38;5;132;01m{\u001B[39;00m\u001B[38;5;28mcls\u001B[39m\u001B[38;5;241m.\u001B[39m\u001B[38;5;18m__name__\u001B[39m\u001B[38;5;132;01m}\u001B[39;00m\u001B[38;5;124m\"\u001B[39m)\n",
      "\u001B[0;31mNotImplementedError\u001B[0m: <class 'typing._GenericAlias'> is not registered under StorageOps"
     ]
    }
   ],
   "source": [
    "# create factors\n",
    "from symforce.opt.factor import Factor\n",
    "\n",
    "factors = []\n",
    "speed_keys = []\n",
    "\n",
    "# add velocity constraints\n",
    "for i in range(len(max_speeds)):\n",
    "    factors.append(Factor(\n",
    "        residual=min_max_speed_residual,\n",
    "        keys=[f\"speed[{i}]\", f\"min_speed[{i}]\", f\"max_speed[{i}]\"],\n",
    "    ))\n",
    "    speed_keys.append(f\"speed[{i}]\")\n",
    "\n",
    "factors.append(Factor(\n",
    "    residual=time_window_residual,\n",
    "    keys=[speed_keys, \"distance\", \"max_time\", \"epsilon\"],))\n",
    "\n",
    "for i in range(len(max_speeds)-1):\n",
    "    factors.append(Factor(\n",
    "        residual=acceleration_residual,\n",
    "        keys=[f\"speed[{i}]\", f\"speed[{i+1}]\", \"distance\", f\"max_acceleration\", \"epsilon\"],\n",
    "    ))\n"
   ],
   "metadata": {
    "collapsed": false,
    "pycharm": {
     "name": "#%%\n"
    }
   }
  },
  {
   "cell_type": "code",
   "execution_count": null,
   "outputs": [],
   "source": [],
   "metadata": {
    "collapsed": false,
    "pycharm": {
     "name": "#%%\n"
    }
   }
  }
 ],
 "metadata": {
  "kernelspec": {
   "display_name": "Python 3",
   "language": "python",
   "name": "python3"
  },
  "language_info": {
   "codemirror_mode": {
    "name": "ipython",
    "version": 2
   },
   "file_extension": ".py",
   "mimetype": "text/x-python",
   "name": "python",
   "nbconvert_exporter": "python",
   "pygments_lexer": "ipython2",
   "version": "2.7.6"
  }
 },
 "nbformat": 4,
 "nbformat_minor": 0
}