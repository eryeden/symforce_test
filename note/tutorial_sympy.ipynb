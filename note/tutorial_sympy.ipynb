{
 "cells": [
  {
   "cell_type": "code",
   "execution_count": 1,
   "outputs": [],
   "source": [
    "import numpy as np\n",
    "import symforce\n",
    "\n",
    "symforce.set_backend(\"sympy\")\n",
    "symforce.set_log_level(\"warning\")\n",
    "from symforce.notebook_util import display, print_expression_tree\n",
    "\n",
    "from symforce import sympy as sm"
   ],
   "metadata": {
    "collapsed": false,
    "pycharm": {
     "name": "#%%\n"
    }
   }
  },
  {
   "cell_type": "code",
   "execution_count": 2,
   "outputs": [],
   "source": [
    "x = sm.Symbol(\"x\")\n",
    "y = sm.Symbol(\"y\")"
   ],
   "metadata": {
    "collapsed": false,
    "pycharm": {
     "name": "#%%\n"
    }
   }
  },
  {
   "cell_type": "code",
   "execution_count": 3,
   "outputs": [
    {
     "data": {
      "text/plain": " 2   sin(y)\nx  + ──────\n        2  \n       x   ",
      "image/png": "[encoded data removed]",
      "text/latex": "$\\displaystyle x^{2} + \\frac{\\sin{\\left(y \\right)}}{x^{2}}$"
     },
     "metadata": {},
     "output_type": "display_data"
    }
   ],
   "source": [
    "expr = x ** 2 + sm.sin(y) / x ** 2\n",
    "display(expr)"
   ],
   "metadata": {
    "collapsed": false,
    "pycharm": {
     "name": "#%%\n"
    }
   }
  },
  {
   "cell_type": "code",
   "execution_count": 4,
   "outputs": [
    {
     "name": "stdout",
     "output_type": "stream",
     "text": [
      "Add: x**2 + sin(y)/x**2\n",
      "+-Pow: x**2\n",
      "| +-Symbol: x\n",
      "| +-Integer: 2\n",
      "+-Mul: sin(y)/x**2\n",
      "  +-Pow: x**(-2)\n",
      "  | +-Symbol: x\n",
      "  | +-Integer: -2\n",
      "  +-sin: sin(y)\n",
      "    +-Symbol: y\n"
     ]
    }
   ],
   "source": [
    "print_expression_tree(expr)"
   ],
   "metadata": {
    "collapsed": false,
    "pycharm": {
     "name": "#%%\n"
    }
   }
  },
  {
   "cell_type": "code",
   "execution_count": 5,
   "outputs": [
    {
     "data": {
      "text/plain": "1.71042940438101",
      "image/png": "[encoded data removed]",
      "text/latex": "$\\displaystyle 1.71042940438101$"
     },
     "metadata": {},
     "output_type": "display_data"
    }
   ],
   "source": [
    "display(expr.subs({x: 1.2, y: 0.4}))"
   ],
   "metadata": {
    "collapsed": false,
    "pycharm": {
     "name": "#%%\n"
    }
   }
  },
  {
   "cell_type": "code",
   "execution_count": 6,
   "outputs": [
    {
     "data": {
      "text/plain": "cos(y)\n──────\n   2  \n  x   ",
      "image/png": "[encoded data removed]",
      "text/latex": "$\\displaystyle \\frac{\\cos{\\left(y \\right)}}{x^{2}}$"
     },
     "metadata": {},
     "output_type": "display_data"
    }
   ],
   "source": [
    "display(expr.diff(y))"
   ],
   "metadata": {
    "collapsed": false,
    "pycharm": {
     "name": "#%%\n"
    }
   }
  },
  {
   "cell_type": "code",
   "execution_count": 7,
   "outputs": [
    {
     "data": {
      "text/plain": "       3       5               \ny     y       y       2    ⎛ 6⎞\n── - ──── + ────── + x  + O⎝y ⎠\n 2      2        2             \nx    6⋅x    120⋅x              ",
      "image/png": "[encoded data removed]",
      "text/latex": "$\\displaystyle \\frac{y}{x^{2}} - \\frac{y^{3}}{6 x^{2}} + \\frac{y^{5}}{120 x^{2}} + x^{2} + O\\left(y^{6}\\right)$"
     },
     "metadata": {},
     "output_type": "display_data"
    }
   ],
   "source": [
    "display(sm.series(expr, y))"
   ],
   "metadata": {
    "collapsed": false,
    "pycharm": {
     "name": "#%%\n"
    }
   }
  },
  {
   "cell_type": "code",
   "execution_count": 23,
   "outputs": [],
   "source": [
    "sm.var(\"T, v_o, L, a, b, eps\")\n",
    "T = sm.Symbol(\"T\")\n",
    "v_0 = sm.Symbol(\"v_0\")\n",
    "L = sm.Symbol(\"L\")\n",
    "a = sm.Symbol(\"a\")\n",
    "b = sm.Symbol(\"b\")\n",
    "eps = sm.Symbol(\"e\")\n",
    "x = sm.Symbol(\"x\")"
   ],
   "metadata": {
    "collapsed": false,
    "pycharm": {
     "name": "#%%\n"
    }
   }
  },
  {
   "cell_type": "code",
   "execution_count": 26,
   "outputs": [
    {
     "data": {
      "text/plain": "                                         3                                    \n                                    1.0⋅L ⋅e                                  \n──────────────────────────────────────────────────────────────────────────────\n 3                                              2                             \nL ⋅e⋅v₀ - L⋅x⋅(4.0⋅L⋅e⋅v₀ + 2.0⋅L - 6.0⋅T⋅e) + x ⋅(3.0⋅L⋅e⋅v₀ + 3.0⋅L - 6.0⋅T⋅\n\n  \n  \n──\n  \ne)",
      "image/png": "[encoded data removed]",
      "text/latex": "$\\displaystyle \\frac{1.0 L^{3} e}{L^{3} e v_{0} - L x \\left(4.0 L e v_{0} + 2.0 L - 6.0 T e\\right) + x^{2} \\cdot \\left(3.0 L e v_{0} + 3.0 L - 6.0 T e\\right)}$"
     },
     "execution_count": 26,
     "metadata": {},
     "output_type": "execute_result"
    }
   ],
   "source": [
    "eq1 = sm.Eq(T, v_0 * L + (1/3)*a*L*L*L + (1/2)*b*L*L)\n",
    "eq2 = sm.Eq(1/eps, v_0 + a * L*L + b * L)\n",
    "z = sm.solve([eq1, eq2], [a, b])\n",
    "z_a = z[a]\n",
    "z_b = z[b]\n",
    "\n",
    "out = 1.0 / (z_a * x*x + z_b * x + v_0)\n",
    "sm.simplify(out)"
   ],
   "metadata": {
    "collapsed": false,
    "pycharm": {
     "name": "#%%\n"
    }
   }
  },
  {
   "cell_type": "code",
   "execution_count": 28,
   "outputs": [],
   "source": [
    "def get_v(x, arrival_time, distance, initial_v, small_positive=1e-5):\n",
    "    return  1.0 * distance**3 * small_positive / \\\n",
    "            (L**3*small_positive*initial_v\n",
    "             - distance * x * (4.0 * distance * small_positive * initial_v + 2.0 * distance - 6.0 * arrival_time * small_positive)\n",
    "             + x**2 * (3.0 * distance * small_positive * initial_v + 3.0 * distance - 6.0 * arrival_time * small_positive))"
   ],
   "metadata": {
    "collapsed": false,
    "pycharm": {
     "name": "#%%\n"
    }
   }
  },
  {
   "cell_type": "code",
   "execution_count": 29,
   "outputs": [
    {
     "ename": "NameError",
     "evalue": "name 'np' is not defined",
     "output_type": "error",
     "traceback": [
      "\u001B[0;31m---------------------------------------------------------------------------\u001B[0m",
      "\u001B[0;31mNameError\u001B[0m                                 Traceback (most recent call last)",
      "Input \u001B[0;32mIn [29]\u001B[0m, in \u001B[0;36m<cell line: 4>\u001B[0;34m()\u001B[0m\n\u001B[1;32m      2\u001B[0m dist \u001B[38;5;241m=\u001B[39m \u001B[38;5;241m10\u001B[39m\n\u001B[1;32m      3\u001B[0m iv \u001B[38;5;241m=\u001B[39m \u001B[38;5;241m1.3\u001B[39m\n\u001B[0;32m----> 4\u001B[0m out_v \u001B[38;5;241m=\u001B[39m [x \u001B[38;5;28;01mfor\u001B[39;00m x \u001B[38;5;129;01min\u001B[39;00m \u001B[43mnp\u001B[49m\u001B[38;5;241m.\u001B[39mlinspace(\u001B[38;5;241m0\u001B[39m, \u001B[38;5;241m10\u001B[39m, \u001B[38;5;241m100\u001B[39m)]\n",
      "\u001B[0;31mNameError\u001B[0m: name 'np' is not defined"
     ]
    }
   ],
   "source": [
    "at = 10\n",
    "dist = 10\n",
    "iv = 1.3\n",
    "out_v = [x for x in np.linspace(0, 10, 100)]"
   ],
   "metadata": {
    "collapsed": false,
    "pycharm": {
     "name": "#%%\n"
    }
   }
  },
  {
   "cell_type": "code",
   "execution_count": null,
   "outputs": [],
   "source": [],
   "metadata": {
    "collapsed": false,
    "pycharm": {
     "name": "#%%\n"
    }
   }
  }
 ],
 "metadata": {
  "kernelspec": {
   "display_name": "Python 3",
   "language": "python",
   "name": "python3"
  },
  "language_info": {
   "codemirror_mode": {
    "name": "ipython",
    "version": 2
   },
   "file_extension": ".py",
   "mimetype": "text/x-python",
   "name": "python",
   "nbconvert_exporter": "python",
   "pygments_lexer": "ipython2",
   "version": "2.7.6"
  }
 },
 "nbformat": 4,
 "nbformat_minor": 0
}