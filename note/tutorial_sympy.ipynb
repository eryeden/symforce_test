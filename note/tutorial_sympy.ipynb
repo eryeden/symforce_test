{
 "cells": [
  {
   "cell_type": "code",
   "execution_count": 2,
   "outputs": [],
   "source": [
    "import symforce\n",
    "\n",
    "symforce.set_backend(\"sympy\")\n",
    "symforce.set_log_level(\"warning\")\n",
    "from symforce.notebook_util import display, print_expression_tree\n",
    "\n",
    "from symforce import sympy as sm"
   ],
   "metadata": {
    "collapsed": false,
    "pycharm": {
     "name": "#%%\n"
    }
   }
  },
  {
   "cell_type": "code",
   "execution_count": 3,
   "outputs": [],
   "source": [
    "x = sm.Symbol(\"x\")\n",
    "y = sm.Symbol(\"y\")"
   ],
   "metadata": {
    "collapsed": false,
    "pycharm": {
     "name": "#%%\n"
    }
   }
  },
  {
   "cell_type": "code",
   "execution_count": 4,
   "outputs": [
    {
     "data": {
      "text/plain": " 2   sin(y)\nx  + ──────\n        2  \n       x   ",
      "image/png": "[encoded data removed]",
      "text/latex": "$\\displaystyle x^{2} + \\frac{\\sin{\\left(y \\right)}}{x^{2}}$"
     },
     "metadata": {},
     "output_type": "display_data"
    }
   ],
   "source": [
    "expr = x ** 2 + sm.sin(y) / x ** 2\n",
    "display(expr)"
   ],
   "metadata": {
    "collapsed": false,
    "pycharm": {
     "name": "#%%\n"
    }
   }
  },
  {
   "cell_type": "code",
   "execution_count": 5,
   "outputs": [
    {
     "name": "stdout",
     "output_type": "stream",
     "text": [
      "Add: x**2 + sin(y)/x**2\n",
      "+-Pow: x**2\n",
      "| +-Symbol: x\n",
      "| +-Integer: 2\n",
      "+-Mul: sin(y)/x**2\n",
      "  +-Pow: x**(-2)\n",
      "  | +-Symbol: x\n",
      "  | +-Integer: -2\n",
      "  +-sin: sin(y)\n",
      "    +-Symbol: y\n"
     ]
    }
   ],
   "source": [
    "print_expression_tree(expr)"
   ],
   "metadata": {
    "collapsed": false,
    "pycharm": {
     "name": "#%%\n"
    }
   }
  },
  {
   "cell_type": "code",
   "execution_count": 6,
   "outputs": [
    {
     "data": {
      "text/plain": "1.71042940438101",
      "image/png": "[encoded data removed]",
      "text/latex": "$\\displaystyle 1.71042940438101$"
     },
     "metadata": {},
     "output_type": "display_data"
    }
   ],
   "source": [
    "display(expr.subs({x: 1.2, y: 0.4}))"
   ],
   "metadata": {
    "collapsed": false,
    "pycharm": {
     "name": "#%%\n"
    }
   }
  },
  {
   "cell_type": "code",
   "execution_count": 7,
   "outputs": [
    {
     "data": {
      "text/plain": "cos(y)\n──────\n   2  \n  x   ",
      "image/png": "[encoded data removed]",
      "text/latex": "$\\displaystyle \\frac{\\cos{\\left(y \\right)}}{x^{2}}$"
     },
     "metadata": {},
     "output_type": "display_data"
    }
   ],
   "source": [
    "display(expr.diff(y))"
   ],
   "metadata": {
    "collapsed": false,
    "pycharm": {
     "name": "#%%\n"
    }
   }
  },
  {
   "cell_type": "code",
   "execution_count": 8,
   "outputs": [
    {
     "data": {
      "text/plain": "       3       5               \ny     y       y       2    ⎛ 6⎞\n── - ──── + ────── + x  + O⎝y ⎠\n 2      2        2             \nx    6⋅x    120⋅x              ",
      "image/png": "[encoded data removed]",
      "text/latex": "$\\displaystyle \\frac{y}{x^{2}} - \\frac{y^{3}}{6 x^{2}} + \\frac{y^{5}}{120 x^{2}} + x^{2} + O\\left(y^{6}\\right)$"
     },
     "metadata": {},
     "output_type": "display_data"
    }
   ],
   "source": [
    "display(sm.series(expr, y))"
   ],
   "metadata": {
    "collapsed": false,
    "pycharm": {
     "name": "#%%\n"
    }
   }
  },
  {
   "cell_type": "code",
   "execution_count": null,
   "outputs": [],
   "source": [],
   "metadata": {
    "collapsed": false,
    "pycharm": {
     "name": "#%%\n"
    }
   }
  }
 ],
 "metadata": {
  "kernelspec": {
   "display_name": "Python 3",
   "language": "python",
   "name": "python3"
  },
  "language_info": {
   "codemirror_mode": {
    "name": "ipython",
    "version": 2
   },
   "file_extension": ".py",
   "mimetype": "text/x-python",
   "name": "python",
   "nbconvert_exporter": "python",
   "pygments_lexer": "ipython2",
   "version": "2.7.6"
  }
 },
 "nbformat": 4,
 "nbformat_minor": 0
}