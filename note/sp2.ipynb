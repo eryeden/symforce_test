{
 "cells": [
  {
   "cell_type": "code",
   "execution_count": 1,
   "outputs": [],
   "source": [
    "import numpy as np\n",
    "import symforce\n",
    "\n",
    "symforce.set_backend(\"sympy\")\n",
    "symforce.set_log_level(\"warning\")\n",
    "from symforce.notebook_util import display, print_expression_tree\n",
    "\n",
    "from symforce import sympy as sm"
   ],
   "metadata": {
    "collapsed": false,
    "pycharm": {
     "name": "#%%\n"
    }
   }
  },
  {
   "cell_type": "code",
   "execution_count": 12,
   "outputs": [],
   "source": [
    "T = sm.Symbol(\"T\")\n",
    "v_0 = sm.Symbol(\"v_0\")\n",
    "L = sm.Symbol(\"L\")\n",
    "a = sm.Symbol(\"a\")\n",
    "b = sm.Symbol(\"b\")\n",
    "s = sm.Symbol(\"s\")"
   ],
   "metadata": {
    "collapsed": false,
    "pycharm": {
     "name": "#%%\n"
    }
   }
  },
  {
   "cell_type": "code",
   "execution_count": 18,
   "outputs": [],
   "source": [
    "v_s = v_0 - a * s - b * s**2\n",
    "T_s = sm.integrate(1/v_s,  (s, 0, L))\n",
    "a = v_0 / L - b * L"
   ],
   "metadata": {
    "collapsed": false,
    "pycharm": {
     "name": "#%%\n"
    }
   }
  },
  {
   "cell_type": "code",
   "execution_count": 19,
   "outputs": [
    {
     "data": {
      "text/plain": "          2     \n-a⋅s - b⋅s  + v₀",
      "image/png": "[encoded data removed]",
      "text/latex": "$\\displaystyle - a s - b s^{2} + v_{0}$"
     },
     "execution_count": 19,
     "metadata": {},
     "output_type": "execute_result"
    }
   ],
   "source": [
    "v_s"
   ],
   "metadata": {
    "collapsed": false,
    "pycharm": {
     "name": "#%%\n"
    }
   }
  },
  {
   "cell_type": "code",
   "execution_count": 20,
   "outputs": [
    {
     "data": {
      "text/plain": "⎛   ⎛          _____________                   _____________⎞      ⎛        __\n⎜   ⎜   2     ╱      1                        ╱      1      ⎟      ⎜ 2     ╱  \n⎜   ⎜- a ⋅   ╱  ───────────  + a - 4⋅b⋅v₀⋅   ╱  ─────────── ⎟      ⎜a ⋅   ╱  ─\n⎜   ⎜       ╱    2                          ╱    2          ⎟      ⎜     ╱    \n⎜   ⎜     ╲╱    a  + 4⋅b⋅v₀               ╲╱    a  + 4⋅b⋅v₀ ⎟      ⎜   ╲╱    a\n⎜log⎜───────────────────────────────────────────────────────⎟ - log⎜──────────\n⎝   ⎝                           b                           ⎠      ⎝          \n                                                                              \n\n___________                   _____________⎞      ⎛                ___________\n    1                        ╱      1      ⎟      ⎜         2     ╱      1    \n──────────  + a + 4⋅b⋅v₀⋅   ╱  ─────────── ⎟      ⎜2⋅L⋅b - a ⋅   ╱  ──────────\n2                          ╱    2          ⎟      ⎜             ╱    2        \n  + 4⋅b⋅v₀               ╲╱    a  + 4⋅b⋅v₀ ⎟      ⎜           ╲╱    a  + 4⋅b⋅v\n───────────────────────────────────────────⎟ - log⎜───────────────────────────\n                b                          ⎠      ⎝                           \n                                                                              \n\n__                   _____________⎞      ⎛                _____________       \n                    ╱      1      ⎟      ⎜         2     ╱      1             \n─  + a - 4⋅b⋅v₀⋅   ╱  ─────────── ⎟      ⎜2⋅L⋅b + a ⋅   ╱  ───────────  + a + \n                  ╱    2          ⎟      ⎜             ╱    2                 \n₀               ╲╱    a  + 4⋅b⋅v₀ ⎟      ⎜           ╲╱    a  + 4⋅b⋅v₀        \n──────────────────────────────────⎟ + log⎜────────────────────────────────────\n   b                              ⎠      ⎝                              b     \n                                                                              \n\n            _____________⎞⎞                   \n           ╱      1      ⎟⎟                   \n4⋅b⋅v₀⋅   ╱  ─────────── ⎟⎟                   \n         ╱    2          ⎟⎟      _____________\n       ╲╱    a  + 4⋅b⋅v₀ ⎟⎟     ╱      1      \n─────────────────────────⎟⎟⋅   ╱  ─────────── \n                         ⎠⎠   ╱    2          \n                            ╲╱    a  + 4⋅b⋅v₀ ",
      "image/png": "[encoded data removed]",
      "text/latex": "$\\displaystyle \\left(\\log{\\left(\\frac{- a^{2} \\sqrt{\\frac{1}{a^{2} + 4 b v_{0}}} + a - 4 b v_{0} \\sqrt{\\frac{1}{a^{2} + 4 b v_{0}}}}{b} \\right)} - \\log{\\left(\\frac{a^{2} \\sqrt{\\frac{1}{a^{2} + 4 b v_{0}}} + a + 4 b v_{0} \\sqrt{\\frac{1}{a^{2} + 4 b v_{0}}}}{b} \\right)} - \\log{\\left(\\frac{2 L b - a^{2} \\sqrt{\\frac{1}{a^{2} + 4 b v_{0}}} + a - 4 b v_{0} \\sqrt{\\frac{1}{a^{2} + 4 b v_{0}}}}{b} \\right)} + \\log{\\left(\\frac{2 L b + a^{2} \\sqrt{\\frac{1}{a^{2} + 4 b v_{0}}} + a + 4 b v_{0} \\sqrt{\\frac{1}{a^{2} + 4 b v_{0}}}}{b} \\right)}\\right) \\sqrt{\\frac{1}{a^{2} + 4 b v_{0}}}$"
     },
     "execution_count": 20,
     "metadata": {},
     "output_type": "execute_result"
    }
   ],
   "source": [
    "sm.simplify(T_s)"
   ],
   "metadata": {
    "collapsed": false,
    "pycharm": {
     "name": "#%%\n"
    }
   }
  },
  {
   "cell_type": "code",
   "execution_count": 20,
   "outputs": [],
   "source": [],
   "metadata": {
    "collapsed": false,
    "pycharm": {
     "name": "#%%\n"
    }
   }
  },
  {
   "cell_type": "code",
   "execution_count": null,
   "outputs": [],
   "source": [],
   "metadata": {
    "collapsed": false,
    "pycharm": {
     "name": "#%%\n"
    }
   }
  }
 ],
 "metadata": {
  "kernelspec": {
   "display_name": "Python 3",
   "language": "python",
   "name": "python3"
  },
  "language_info": {
   "codemirror_mode": {
    "name": "ipython",
    "version": 2
   },
   "file_extension": ".py",
   "mimetype": "text/x-python",
   "name": "python",
   "nbconvert_exporter": "python",
   "pygments_lexer": "ipython2",
   "version": "2.7.6"
  }
 },
 "nbformat": 4,
 "nbformat_minor": 0
}